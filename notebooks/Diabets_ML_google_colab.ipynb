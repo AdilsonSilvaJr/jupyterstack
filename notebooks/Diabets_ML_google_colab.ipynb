{
  "nbformat": 4,
  "nbformat_minor": 0,
  "metadata": {
    "colab": {
      "name": "Diabets - data science project with GCP",
      "provenance": [],
      "collapsed_sections": []
    },
    "kernelspec": {
      "name": "python3",
      "display_name": "Python 3"
    },
    "language_info": {
      "name": "python"
    },
    "widgets": {
      "application/vnd.jupyter.widget-state+json": {
        "b4053a9c78e841b18bfff8874a8a7b3b": {
          "model_module": "@jupyter-widgets/controls",
          "model_name": "IntProgressModel",
          "model_module_version": "1.5.0",
          "state": {
            "_dom_classes": [],
            "_model_module": "@jupyter-widgets/controls",
            "_model_module_version": "1.5.0",
            "_model_name": "IntProgressModel",
            "_view_count": null,
            "_view_module": "@jupyter-widgets/controls",
            "_view_module_version": "1.5.0",
            "_view_name": "ProgressView",
            "bar_style": "",
            "description": "Processing: ",
            "description_tooltip": null,
            "layout": "IPY_MODEL_e1238e8b90ae4873ac8fc644b6b66884",
            "max": 3,
            "min": 0,
            "orientation": "horizontal",
            "style": "IPY_MODEL_67aaba3412fe47349170c5736fdb3515",
            "value": 3
          }
        },
        "e1238e8b90ae4873ac8fc644b6b66884": {
          "model_module": "@jupyter-widgets/base",
          "model_name": "LayoutModel",
          "model_module_version": "1.2.0",
          "state": {
            "_model_module": "@jupyter-widgets/base",
            "_model_module_version": "1.2.0",
            "_model_name": "LayoutModel",
            "_view_count": null,
            "_view_module": "@jupyter-widgets/base",
            "_view_module_version": "1.2.0",
            "_view_name": "LayoutView",
            "align_content": null,
            "align_items": null,
            "align_self": null,
            "border": null,
            "bottom": null,
            "display": null,
            "flex": null,
            "flex_flow": null,
            "grid_area": null,
            "grid_auto_columns": null,
            "grid_auto_flow": null,
            "grid_auto_rows": null,
            "grid_column": null,
            "grid_gap": null,
            "grid_row": null,
            "grid_template_areas": null,
            "grid_template_columns": null,
            "grid_template_rows": null,
            "height": null,
            "justify_content": null,
            "justify_items": null,
            "left": null,
            "margin": null,
            "max_height": null,
            "max_width": null,
            "min_height": null,
            "min_width": null,
            "object_fit": null,
            "object_position": null,
            "order": null,
            "overflow": null,
            "overflow_x": null,
            "overflow_y": null,
            "padding": null,
            "right": null,
            "top": null,
            "visibility": null,
            "width": null
          }
        },
        "67aaba3412fe47349170c5736fdb3515": {
          "model_module": "@jupyter-widgets/controls",
          "model_name": "ProgressStyleModel",
          "model_module_version": "1.5.0",
          "state": {
            "_model_module": "@jupyter-widgets/controls",
            "_model_module_version": "1.5.0",
            "_model_name": "ProgressStyleModel",
            "_view_count": null,
            "_view_module": "@jupyter-widgets/base",
            "_view_module_version": "1.2.0",
            "_view_name": "StyleView",
            "bar_color": null,
            "description_width": ""
          }
        },
        "a09a3b365fd84dccb1bd9d203ae18bec": {
          "model_module": "@jupyter-widgets/controls",
          "model_name": "TextModel",
          "model_module_version": "1.5.0",
          "state": {
            "_dom_classes": [],
            "_model_module": "@jupyter-widgets/controls",
            "_model_module_version": "1.5.0",
            "_model_name": "TextModel",
            "_view_count": null,
            "_view_module": "@jupyter-widgets/controls",
            "_view_module_version": "1.5.0",
            "_view_name": "TextView",
            "continuous_update": true,
            "description": "",
            "description_tooltip": null,
            "disabled": false,
            "layout": "IPY_MODEL_e36a6493f2ab4ca289212db687578101",
            "placeholder": "​",
            "style": "IPY_MODEL_b393b25ee29740e3924d3ab0541cf271",
            "value": "Following data types have been inferred automatically, if they are correct press enter to continue or type 'quit' otherwise."
          }
        },
        "e36a6493f2ab4ca289212db687578101": {
          "model_module": "@jupyter-widgets/base",
          "model_name": "LayoutModel",
          "model_module_version": "1.2.0",
          "state": {
            "_model_module": "@jupyter-widgets/base",
            "_model_module_version": "1.2.0",
            "_model_name": "LayoutModel",
            "_view_count": null,
            "_view_module": "@jupyter-widgets/base",
            "_view_module_version": "1.2.0",
            "_view_name": "LayoutView",
            "align_content": null,
            "align_items": null,
            "align_self": null,
            "border": null,
            "bottom": null,
            "display": null,
            "flex": null,
            "flex_flow": null,
            "grid_area": null,
            "grid_auto_columns": null,
            "grid_auto_flow": null,
            "grid_auto_rows": null,
            "grid_column": null,
            "grid_gap": null,
            "grid_row": null,
            "grid_template_areas": null,
            "grid_template_columns": null,
            "grid_template_rows": null,
            "height": null,
            "justify_content": null,
            "justify_items": null,
            "left": null,
            "margin": null,
            "max_height": null,
            "max_width": null,
            "min_height": null,
            "min_width": null,
            "object_fit": null,
            "object_position": null,
            "order": null,
            "overflow": null,
            "overflow_x": null,
            "overflow_y": null,
            "padding": null,
            "right": null,
            "top": null,
            "visibility": null,
            "width": "100%"
          }
        },
        "b393b25ee29740e3924d3ab0541cf271": {
          "model_module": "@jupyter-widgets/controls",
          "model_name": "DescriptionStyleModel",
          "model_module_version": "1.5.0",
          "state": {
            "_model_module": "@jupyter-widgets/controls",
            "_model_module_version": "1.5.0",
            "_model_name": "DescriptionStyleModel",
            "_view_count": null,
            "_view_module": "@jupyter-widgets/base",
            "_view_module_version": "1.2.0",
            "_view_name": "StyleView",
            "description_width": ""
          }
        },
        "571123dac3ca4cf3b09236846d8f905a": {
          "model_module": "@jupyter-widgets/controls",
          "model_name": "IntProgressModel",
          "model_module_version": "1.5.0",
          "state": {
            "_dom_classes": [],
            "_model_module": "@jupyter-widgets/controls",
            "_model_module_version": "1.5.0",
            "_model_name": "IntProgressModel",
            "_view_count": null,
            "_view_module": "@jupyter-widgets/controls",
            "_view_module_version": "1.5.0",
            "_view_name": "ProgressView",
            "bar_style": "",
            "description": "Processing: ",
            "description_tooltip": null,
            "layout": "IPY_MODEL_346b601976644137b7142f1e4a466b4a",
            "max": 3,
            "min": 0,
            "orientation": "horizontal",
            "style": "IPY_MODEL_58021ee7253b42ddb289dc2c0897c934",
            "value": 3
          }
        },
        "346b601976644137b7142f1e4a466b4a": {
          "model_module": "@jupyter-widgets/base",
          "model_name": "LayoutModel",
          "model_module_version": "1.2.0",
          "state": {
            "_model_module": "@jupyter-widgets/base",
            "_model_module_version": "1.2.0",
            "_model_name": "LayoutModel",
            "_view_count": null,
            "_view_module": "@jupyter-widgets/base",
            "_view_module_version": "1.2.0",
            "_view_name": "LayoutView",
            "align_content": null,
            "align_items": null,
            "align_self": null,
            "border": null,
            "bottom": null,
            "display": null,
            "flex": null,
            "flex_flow": null,
            "grid_area": null,
            "grid_auto_columns": null,
            "grid_auto_flow": null,
            "grid_auto_rows": null,
            "grid_column": null,
            "grid_gap": null,
            "grid_row": null,
            "grid_template_areas": null,
            "grid_template_columns": null,
            "grid_template_rows": null,
            "height": null,
            "justify_content": null,
            "justify_items": null,
            "left": null,
            "margin": null,
            "max_height": null,
            "max_width": null,
            "min_height": null,
            "min_width": null,
            "object_fit": null,
            "object_position": null,
            "order": null,
            "overflow": null,
            "overflow_x": null,
            "overflow_y": null,
            "padding": null,
            "right": null,
            "top": null,
            "visibility": null,
            "width": null
          }
        },
        "58021ee7253b42ddb289dc2c0897c934": {
          "model_module": "@jupyter-widgets/controls",
          "model_name": "ProgressStyleModel",
          "model_module_version": "1.5.0",
          "state": {
            "_model_module": "@jupyter-widgets/controls",
            "_model_module_version": "1.5.0",
            "_model_name": "ProgressStyleModel",
            "_view_count": null,
            "_view_module": "@jupyter-widgets/base",
            "_view_module_version": "1.2.0",
            "_view_name": "StyleView",
            "bar_color": null,
            "description_width": ""
          }
        },
        "21fff8cb6c99435eb8e51b0607e784fa": {
          "model_module": "@jupyter-widgets/controls",
          "model_name": "TextModel",
          "model_module_version": "1.5.0",
          "state": {
            "_dom_classes": [],
            "_model_module": "@jupyter-widgets/controls",
            "_model_module_version": "1.5.0",
            "_model_name": "TextModel",
            "_view_count": null,
            "_view_module": "@jupyter-widgets/controls",
            "_view_module_version": "1.5.0",
            "_view_name": "TextView",
            "continuous_update": true,
            "description": "",
            "description_tooltip": null,
            "disabled": false,
            "layout": "IPY_MODEL_6dd5e1539fde42a2be72ebfb5e34068f",
            "placeholder": "​",
            "style": "IPY_MODEL_4341e46c66b647529245f97a1c148b19",
            "value": "Following data types have been inferred automatically, if they are correct press enter to continue or type 'quit' otherwise."
          }
        },
        "6dd5e1539fde42a2be72ebfb5e34068f": {
          "model_module": "@jupyter-widgets/base",
          "model_name": "LayoutModel",
          "model_module_version": "1.2.0",
          "state": {
            "_model_module": "@jupyter-widgets/base",
            "_model_module_version": "1.2.0",
            "_model_name": "LayoutModel",
            "_view_count": null,
            "_view_module": "@jupyter-widgets/base",
            "_view_module_version": "1.2.0",
            "_view_name": "LayoutView",
            "align_content": null,
            "align_items": null,
            "align_self": null,
            "border": null,
            "bottom": null,
            "display": null,
            "flex": null,
            "flex_flow": null,
            "grid_area": null,
            "grid_auto_columns": null,
            "grid_auto_flow": null,
            "grid_auto_rows": null,
            "grid_column": null,
            "grid_gap": null,
            "grid_row": null,
            "grid_template_areas": null,
            "grid_template_columns": null,
            "grid_template_rows": null,
            "height": null,
            "justify_content": null,
            "justify_items": null,
            "left": null,
            "margin": null,
            "max_height": null,
            "max_width": null,
            "min_height": null,
            "min_width": null,
            "object_fit": null,
            "object_position": null,
            "order": null,
            "overflow": null,
            "overflow_x": null,
            "overflow_y": null,
            "padding": null,
            "right": null,
            "top": null,
            "visibility": null,
            "width": "100%"
          }
        },
        "4341e46c66b647529245f97a1c148b19": {
          "model_module": "@jupyter-widgets/controls",
          "model_name": "DescriptionStyleModel",
          "model_module_version": "1.5.0",
          "state": {
            "_model_module": "@jupyter-widgets/controls",
            "_model_module_version": "1.5.0",
            "_model_name": "DescriptionStyleModel",
            "_view_count": null,
            "_view_module": "@jupyter-widgets/base",
            "_view_module_version": "1.2.0",
            "_view_name": "StyleView",
            "description_width": ""
          }
        },
        "4a1e8b4cab244f839f82c42c8304ca01": {
          "model_module": "@jupyter-widgets/controls",
          "model_name": "IntProgressModel",
          "model_module_version": "1.5.0",
          "state": {
            "_dom_classes": [],
            "_model_module": "@jupyter-widgets/controls",
            "_model_module_version": "1.5.0",
            "_model_name": "IntProgressModel",
            "_view_count": null,
            "_view_module": "@jupyter-widgets/controls",
            "_view_module_version": "1.5.0",
            "_view_name": "ProgressView",
            "bar_style": "",
            "description": "Processing: ",
            "description_tooltip": null,
            "layout": "IPY_MODEL_86c40c347ad54b9e8a0bc0ced82c4af6",
            "max": 74,
            "min": 0,
            "orientation": "horizontal",
            "style": "IPY_MODEL_e90e95ecf74b4d6493994f10c27b4577",
            "value": 74
          }
        },
        "86c40c347ad54b9e8a0bc0ced82c4af6": {
          "model_module": "@jupyter-widgets/base",
          "model_name": "LayoutModel",
          "model_module_version": "1.2.0",
          "state": {
            "_model_module": "@jupyter-widgets/base",
            "_model_module_version": "1.2.0",
            "_model_name": "LayoutModel",
            "_view_count": null,
            "_view_module": "@jupyter-widgets/base",
            "_view_module_version": "1.2.0",
            "_view_name": "LayoutView",
            "align_content": null,
            "align_items": null,
            "align_self": null,
            "border": null,
            "bottom": null,
            "display": null,
            "flex": null,
            "flex_flow": null,
            "grid_area": null,
            "grid_auto_columns": null,
            "grid_auto_flow": null,
            "grid_auto_rows": null,
            "grid_column": null,
            "grid_gap": null,
            "grid_row": null,
            "grid_template_areas": null,
            "grid_template_columns": null,
            "grid_template_rows": null,
            "height": null,
            "justify_content": null,
            "justify_items": null,
            "left": null,
            "margin": null,
            "max_height": null,
            "max_width": null,
            "min_height": null,
            "min_width": null,
            "object_fit": null,
            "object_position": null,
            "order": null,
            "overflow": null,
            "overflow_x": null,
            "overflow_y": null,
            "padding": null,
            "right": null,
            "top": null,
            "visibility": null,
            "width": null
          }
        },
        "e90e95ecf74b4d6493994f10c27b4577": {
          "model_module": "@jupyter-widgets/controls",
          "model_name": "ProgressStyleModel",
          "model_module_version": "1.5.0",
          "state": {
            "_model_module": "@jupyter-widgets/controls",
            "_model_module_version": "1.5.0",
            "_model_name": "ProgressStyleModel",
            "_view_count": null,
            "_view_module": "@jupyter-widgets/base",
            "_view_module_version": "1.2.0",
            "_view_name": "StyleView",
            "bar_color": null,
            "description_width": ""
          }
        },
        "2b5d375e1c834be685d35ee6c58f5333": {
          "model_module": "@jupyter-widgets/controls",
          "model_name": "IntProgressModel",
          "model_module_version": "1.5.0",
          "state": {
            "_dom_classes": [],
            "_model_module": "@jupyter-widgets/controls",
            "_model_module_version": "1.5.0",
            "_model_name": "IntProgressModel",
            "_view_count": null,
            "_view_module": "@jupyter-widgets/controls",
            "_view_module_version": "1.5.0",
            "_view_name": "ProgressView",
            "bar_style": "",
            "description": "Processing: ",
            "description_tooltip": null,
            "layout": "IPY_MODEL_64dbc364628847debf606c6d693a7ff7",
            "max": 4,
            "min": 0,
            "orientation": "horizontal",
            "style": "IPY_MODEL_11e6870d0f10421e804881bf5ab2fa58",
            "value": 4
          }
        },
        "64dbc364628847debf606c6d693a7ff7": {
          "model_module": "@jupyter-widgets/base",
          "model_name": "LayoutModel",
          "model_module_version": "1.2.0",
          "state": {
            "_model_module": "@jupyter-widgets/base",
            "_model_module_version": "1.2.0",
            "_model_name": "LayoutModel",
            "_view_count": null,
            "_view_module": "@jupyter-widgets/base",
            "_view_module_version": "1.2.0",
            "_view_name": "LayoutView",
            "align_content": null,
            "align_items": null,
            "align_self": null,
            "border": null,
            "bottom": null,
            "display": null,
            "flex": null,
            "flex_flow": null,
            "grid_area": null,
            "grid_auto_columns": null,
            "grid_auto_flow": null,
            "grid_auto_rows": null,
            "grid_column": null,
            "grid_gap": null,
            "grid_row": null,
            "grid_template_areas": null,
            "grid_template_columns": null,
            "grid_template_rows": null,
            "height": null,
            "justify_content": null,
            "justify_items": null,
            "left": null,
            "margin": null,
            "max_height": null,
            "max_width": null,
            "min_height": null,
            "min_width": null,
            "object_fit": null,
            "object_position": null,
            "order": null,
            "overflow": null,
            "overflow_x": null,
            "overflow_y": null,
            "padding": null,
            "right": null,
            "top": null,
            "visibility": null,
            "width": null
          }
        },
        "11e6870d0f10421e804881bf5ab2fa58": {
          "model_module": "@jupyter-widgets/controls",
          "model_name": "ProgressStyleModel",
          "model_module_version": "1.5.0",
          "state": {
            "_model_module": "@jupyter-widgets/controls",
            "_model_module_version": "1.5.0",
            "_model_name": "ProgressStyleModel",
            "_view_count": null,
            "_view_module": "@jupyter-widgets/base",
            "_view_module_version": "1.2.0",
            "_view_name": "StyleView",
            "bar_color": null,
            "description_width": ""
          }
        },
        "c44accd3444c4985b96308e001898eb2": {
          "model_module": "@jupyter-widgets/controls",
          "model_name": "IntProgressModel",
          "model_module_version": "1.5.0",
          "state": {
            "_dom_classes": [],
            "_model_module": "@jupyter-widgets/controls",
            "_model_module_version": "1.5.0",
            "_model_name": "IntProgressModel",
            "_view_count": null,
            "_view_module": "@jupyter-widgets/controls",
            "_view_module_version": "1.5.0",
            "_view_name": "ProgressView",
            "bar_style": "",
            "description": "Processing: ",
            "description_tooltip": null,
            "layout": "IPY_MODEL_af4fa76714194f509219069fb390a0e9",
            "max": 7,
            "min": 0,
            "orientation": "horizontal",
            "style": "IPY_MODEL_d596ba405c54479a9cd48d1c3a584de7",
            "value": 2
          }
        },
        "af4fa76714194f509219069fb390a0e9": {
          "model_module": "@jupyter-widgets/base",
          "model_name": "LayoutModel",
          "model_module_version": "1.2.0",
          "state": {
            "_model_module": "@jupyter-widgets/base",
            "_model_module_version": "1.2.0",
            "_model_name": "LayoutModel",
            "_view_count": null,
            "_view_module": "@jupyter-widgets/base",
            "_view_module_version": "1.2.0",
            "_view_name": "LayoutView",
            "align_content": null,
            "align_items": null,
            "align_self": null,
            "border": null,
            "bottom": null,
            "display": null,
            "flex": null,
            "flex_flow": null,
            "grid_area": null,
            "grid_auto_columns": null,
            "grid_auto_flow": null,
            "grid_auto_rows": null,
            "grid_column": null,
            "grid_gap": null,
            "grid_row": null,
            "grid_template_areas": null,
            "grid_template_columns": null,
            "grid_template_rows": null,
            "height": null,
            "justify_content": null,
            "justify_items": null,
            "left": null,
            "margin": null,
            "max_height": null,
            "max_width": null,
            "min_height": null,
            "min_width": null,
            "object_fit": null,
            "object_position": null,
            "order": null,
            "overflow": null,
            "overflow_x": null,
            "overflow_y": null,
            "padding": null,
            "right": null,
            "top": null,
            "visibility": null,
            "width": null
          }
        },
        "d596ba405c54479a9cd48d1c3a584de7": {
          "model_module": "@jupyter-widgets/controls",
          "model_name": "ProgressStyleModel",
          "model_module_version": "1.5.0",
          "state": {
            "_model_module": "@jupyter-widgets/controls",
            "_model_module_version": "1.5.0",
            "_model_name": "ProgressStyleModel",
            "_view_count": null,
            "_view_module": "@jupyter-widgets/base",
            "_view_module_version": "1.2.0",
            "_view_name": "StyleView",
            "bar_color": null,
            "description_width": ""
          }
        },
        "db5321f65eb548c8aa0db5ffb439375e": {
          "model_module": "@jupyter-widgets/controls",
          "model_name": "VBoxModel",
          "model_module_version": "1.5.0",
          "state": {
            "_dom_classes": [
              "widget-interact"
            ],
            "_model_module": "@jupyter-widgets/controls",
            "_model_module_version": "1.5.0",
            "_model_name": "VBoxModel",
            "_view_count": null,
            "_view_module": "@jupyter-widgets/controls",
            "_view_module_version": "1.5.0",
            "_view_name": "VBoxView",
            "box_style": "",
            "children": [
              "IPY_MODEL_c6d2668d4eae4b498f655cf066c37769",
              "IPY_MODEL_f840b41ee4364f70bdb424cfd51d1c26"
            ],
            "layout": "IPY_MODEL_6864fd8d470541869aee3b7e58fffcb6"
          }
        },
        "c6d2668d4eae4b498f655cf066c37769": {
          "model_module": "@jupyter-widgets/controls",
          "model_name": "ToggleButtonsModel",
          "model_module_version": "1.5.0",
          "state": {
            "_dom_classes": [],
            "_model_module": "@jupyter-widgets/controls",
            "_model_module_version": "1.5.0",
            "_model_name": "ToggleButtonsModel",
            "_options_labels": [
              "Hyperparameters",
              "AUC",
              "Confusion Matrix",
              "Threshold",
              "Precision Recall",
              "Prediction Error",
              "Class Report",
              "Feature Selection",
              "Learning Curve",
              "Manifold Learning",
              "Calibration Curve",
              "Validation Curve",
              "Dimensions",
              "Feature Importance",
              "Feature Importance (All)",
              "Decision Boundary",
              "Lift Chart",
              "Gain Chart",
              "Decision Tree",
              "KS Statistic Plot"
            ],
            "_view_count": null,
            "_view_module": "@jupyter-widgets/controls",
            "_view_module_version": "1.5.0",
            "_view_name": "ToggleButtonsView",
            "button_style": "",
            "description": "Plot Type:",
            "description_tooltip": null,
            "disabled": false,
            "icons": [
              ""
            ],
            "index": 5,
            "layout": "IPY_MODEL_2cbd9ffb849c48b49e9acbce96124cb0",
            "style": "IPY_MODEL_a790b28d6f6d4068a3de573c26f36f7d",
            "tooltips": []
          }
        },
        "f840b41ee4364f70bdb424cfd51d1c26": {
          "model_module": "@jupyter-widgets/output",
          "model_name": "OutputModel",
          "model_module_version": "1.0.0",
          "state": {
            "_dom_classes": [],
            "_model_module": "@jupyter-widgets/output",
            "_model_module_version": "1.0.0",
            "_model_name": "OutputModel",
            "_view_count": null,
            "_view_module": "@jupyter-widgets/output",
            "_view_module_version": "1.0.0",
            "_view_name": "OutputView",
            "layout": "IPY_MODEL_80a00772bb434ff4b1af96e110b7aa83",
            "msg_id": "",
            "outputs": [
              {
                "output_type": "display_data",
                "data": {
                  "text/plain": "<Figure size 576x396 with 1 Axes>",
                  "image/png": "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\n"
                },
                "metadata": {}
              }
            ]
          }
        },
        "6864fd8d470541869aee3b7e58fffcb6": {
          "model_module": "@jupyter-widgets/base",
          "model_name": "LayoutModel",
          "model_module_version": "1.2.0",
          "state": {
            "_model_module": "@jupyter-widgets/base",
            "_model_module_version": "1.2.0",
            "_model_name": "LayoutModel",
            "_view_count": null,
            "_view_module": "@jupyter-widgets/base",
            "_view_module_version": "1.2.0",
            "_view_name": "LayoutView",
            "align_content": null,
            "align_items": null,
            "align_self": null,
            "border": null,
            "bottom": null,
            "display": null,
            "flex": null,
            "flex_flow": null,
            "grid_area": null,
            "grid_auto_columns": null,
            "grid_auto_flow": null,
            "grid_auto_rows": null,
            "grid_column": null,
            "grid_gap": null,
            "grid_row": null,
            "grid_template_areas": null,
            "grid_template_columns": null,
            "grid_template_rows": null,
            "height": null,
            "justify_content": null,
            "justify_items": null,
            "left": null,
            "margin": null,
            "max_height": null,
            "max_width": null,
            "min_height": null,
            "min_width": null,
            "object_fit": null,
            "object_position": null,
            "order": null,
            "overflow": null,
            "overflow_x": null,
            "overflow_y": null,
            "padding": null,
            "right": null,
            "top": null,
            "visibility": null,
            "width": null
          }
        },
        "2cbd9ffb849c48b49e9acbce96124cb0": {
          "model_module": "@jupyter-widgets/base",
          "model_name": "LayoutModel",
          "model_module_version": "1.2.0",
          "state": {
            "_model_module": "@jupyter-widgets/base",
            "_model_module_version": "1.2.0",
            "_model_name": "LayoutModel",
            "_view_count": null,
            "_view_module": "@jupyter-widgets/base",
            "_view_module_version": "1.2.0",
            "_view_name": "LayoutView",
            "align_content": null,
            "align_items": null,
            "align_self": null,
            "border": null,
            "bottom": null,
            "display": null,
            "flex": null,
            "flex_flow": null,
            "grid_area": null,
            "grid_auto_columns": null,
            "grid_auto_flow": null,
            "grid_auto_rows": null,
            "grid_column": null,
            "grid_gap": null,
            "grid_row": null,
            "grid_template_areas": null,
            "grid_template_columns": null,
            "grid_template_rows": null,
            "height": null,
            "justify_content": null,
            "justify_items": null,
            "left": null,
            "margin": null,
            "max_height": null,
            "max_width": null,
            "min_height": null,
            "min_width": null,
            "object_fit": null,
            "object_position": null,
            "order": null,
            "overflow": null,
            "overflow_x": null,
            "overflow_y": null,
            "padding": null,
            "right": null,
            "top": null,
            "visibility": null,
            "width": null
          }
        },
        "a790b28d6f6d4068a3de573c26f36f7d": {
          "model_module": "@jupyter-widgets/controls",
          "model_name": "ToggleButtonsStyleModel",
          "model_module_version": "1.5.0",
          "state": {
            "_model_module": "@jupyter-widgets/controls",
            "_model_module_version": "1.5.0",
            "_model_name": "ToggleButtonsStyleModel",
            "_view_count": null,
            "_view_module": "@jupyter-widgets/base",
            "_view_module_version": "1.2.0",
            "_view_name": "StyleView",
            "button_width": "",
            "description_width": "",
            "font_weight": ""
          }
        },
        "80a00772bb434ff4b1af96e110b7aa83": {
          "model_module": "@jupyter-widgets/base",
          "model_name": "LayoutModel",
          "model_module_version": "1.2.0",
          "state": {
            "_model_module": "@jupyter-widgets/base",
            "_model_module_version": "1.2.0",
            "_model_name": "LayoutModel",
            "_view_count": null,
            "_view_module": "@jupyter-widgets/base",
            "_view_module_version": "1.2.0",
            "_view_name": "LayoutView",
            "align_content": null,
            "align_items": null,
            "align_self": null,
            "border": null,
            "bottom": null,
            "display": null,
            "flex": null,
            "flex_flow": null,
            "grid_area": null,
            "grid_auto_columns": null,
            "grid_auto_flow": null,
            "grid_auto_rows": null,
            "grid_column": null,
            "grid_gap": null,
            "grid_row": null,
            "grid_template_areas": null,
            "grid_template_columns": null,
            "grid_template_rows": null,
            "height": null,
            "justify_content": null,
            "justify_items": null,
            "left": null,
            "margin": null,
            "max_height": null,
            "max_width": null,
            "min_height": null,
            "min_width": null,
            "object_fit": null,
            "object_position": null,
            "order": null,
            "overflow": null,
            "overflow_x": null,
            "overflow_y": null,
            "padding": null,
            "right": null,
            "top": null,
            "visibility": null,
            "width": null
          }
        },
        "5fb5736de6d5424191a970c9a3893a65": {
          "model_module": "@jupyter-widgets/controls",
          "model_name": "IntProgressModel",
          "model_module_version": "1.5.0",
          "state": {
            "_dom_classes": [],
            "_model_module": "@jupyter-widgets/controls",
            "_model_module_version": "1.5.0",
            "_model_name": "IntProgressModel",
            "_view_count": null,
            "_view_module": "@jupyter-widgets/controls",
            "_view_module_version": "1.5.0",
            "_view_name": "ProgressView",
            "bar_style": "",
            "description": "Processing: ",
            "description_tooltip": null,
            "layout": "IPY_MODEL_6604fa38488248c5a12f96a6c0806553",
            "max": 5,
            "min": 0,
            "orientation": "horizontal",
            "style": "IPY_MODEL_140a3db1036d449198733c52263fc1d6",
            "value": 3
          }
        },
        "6604fa38488248c5a12f96a6c0806553": {
          "model_module": "@jupyter-widgets/base",
          "model_name": "LayoutModel",
          "model_module_version": "1.2.0",
          "state": {
            "_model_module": "@jupyter-widgets/base",
            "_model_module_version": "1.2.0",
            "_model_name": "LayoutModel",
            "_view_count": null,
            "_view_module": "@jupyter-widgets/base",
            "_view_module_version": "1.2.0",
            "_view_name": "LayoutView",
            "align_content": null,
            "align_items": null,
            "align_self": null,
            "border": null,
            "bottom": null,
            "display": null,
            "flex": null,
            "flex_flow": null,
            "grid_area": null,
            "grid_auto_columns": null,
            "grid_auto_flow": null,
            "grid_auto_rows": null,
            "grid_column": null,
            "grid_gap": null,
            "grid_row": null,
            "grid_template_areas": null,
            "grid_template_columns": null,
            "grid_template_rows": null,
            "height": null,
            "justify_content": null,
            "justify_items": null,
            "left": null,
            "margin": null,
            "max_height": null,
            "max_width": null,
            "min_height": null,
            "min_width": null,
            "object_fit": null,
            "object_position": null,
            "order": null,
            "overflow": null,
            "overflow_x": null,
            "overflow_y": null,
            "padding": null,
            "right": null,
            "top": null,
            "visibility": null,
            "width": null
          }
        },
        "140a3db1036d449198733c52263fc1d6": {
          "model_module": "@jupyter-widgets/controls",
          "model_name": "ProgressStyleModel",
          "model_module_version": "1.5.0",
          "state": {
            "_model_module": "@jupyter-widgets/controls",
            "_model_module_version": "1.5.0",
            "_model_name": "ProgressStyleModel",
            "_view_count": null,
            "_view_module": "@jupyter-widgets/base",
            "_view_module_version": "1.2.0",
            "_view_name": "StyleView",
            "bar_color": null,
            "description_width": ""
          }
        },
        "1b0c051999524b62b6b6b53d69b052b8": {
          "model_module": "@jupyter-widgets/controls",
          "model_name": "IntProgressModel",
          "model_module_version": "1.5.0",
          "state": {
            "_dom_classes": [],
            "_model_module": "@jupyter-widgets/controls",
            "_model_module_version": "1.5.0",
            "_model_name": "IntProgressModel",
            "_view_count": null,
            "_view_module": "@jupyter-widgets/controls",
            "_view_module_version": "1.5.0",
            "_view_name": "ProgressView",
            "bar_style": "",
            "description": "Processing: ",
            "description_tooltip": null,
            "layout": "IPY_MODEL_22315d88f14244e19927595b4d35d089",
            "max": 5,
            "min": 0,
            "orientation": "horizontal",
            "style": "IPY_MODEL_7da587aa29384a939e13618a972cc4ad",
            "value": 5
          }
        },
        "22315d88f14244e19927595b4d35d089": {
          "model_module": "@jupyter-widgets/base",
          "model_name": "LayoutModel",
          "model_module_version": "1.2.0",
          "state": {
            "_model_module": "@jupyter-widgets/base",
            "_model_module_version": "1.2.0",
            "_model_name": "LayoutModel",
            "_view_count": null,
            "_view_module": "@jupyter-widgets/base",
            "_view_module_version": "1.2.0",
            "_view_name": "LayoutView",
            "align_content": null,
            "align_items": null,
            "align_self": null,
            "border": null,
            "bottom": null,
            "display": null,
            "flex": null,
            "flex_flow": null,
            "grid_area": null,
            "grid_auto_columns": null,
            "grid_auto_flow": null,
            "grid_auto_rows": null,
            "grid_column": null,
            "grid_gap": null,
            "grid_row": null,
            "grid_template_areas": null,
            "grid_template_columns": null,
            "grid_template_rows": null,
            "height": null,
            "justify_content": null,
            "justify_items": null,
            "left": null,
            "margin": null,
            "max_height": null,
            "max_width": null,
            "min_height": null,
            "min_width": null,
            "object_fit": null,
            "object_position": null,
            "order": null,
            "overflow": null,
            "overflow_x": null,
            "overflow_y": null,
            "padding": null,
            "right": null,
            "top": null,
            "visibility": null,
            "width": null
          }
        },
        "7da587aa29384a939e13618a972cc4ad": {
          "model_module": "@jupyter-widgets/controls",
          "model_name": "ProgressStyleModel",
          "model_module_version": "1.5.0",
          "state": {
            "_model_module": "@jupyter-widgets/controls",
            "_model_module_version": "1.5.0",
            "_model_name": "ProgressStyleModel",
            "_view_count": null,
            "_view_module": "@jupyter-widgets/base",
            "_view_module_version": "1.2.0",
            "_view_name": "StyleView",
            "bar_color": null,
            "description_width": ""
          }
        },
        "33659179f4084a128b3d684a5ed29655": {
          "model_module": "@jupyter-widgets/controls",
          "model_name": "IntProgressModel",
          "model_module_version": "1.5.0",
          "state": {
            "_dom_classes": [],
            "_model_module": "@jupyter-widgets/controls",
            "_model_module_version": "1.5.0",
            "_model_name": "IntProgressModel",
            "_view_count": null,
            "_view_module": "@jupyter-widgets/controls",
            "_view_module_version": "1.5.0",
            "_view_name": "ProgressView",
            "bar_style": "",
            "description": "Processing: ",
            "description_tooltip": null,
            "layout": "IPY_MODEL_47bbcce204a74b90b4fa5cb221022c84",
            "max": 5,
            "min": 0,
            "orientation": "horizontal",
            "style": "IPY_MODEL_c42458133722482580687037e15278b4",
            "value": 5
          }
        },
        "47bbcce204a74b90b4fa5cb221022c84": {
          "model_module": "@jupyter-widgets/base",
          "model_name": "LayoutModel",
          "model_module_version": "1.2.0",
          "state": {
            "_model_module": "@jupyter-widgets/base",
            "_model_module_version": "1.2.0",
            "_model_name": "LayoutModel",
            "_view_count": null,
            "_view_module": "@jupyter-widgets/base",
            "_view_module_version": "1.2.0",
            "_view_name": "LayoutView",
            "align_content": null,
            "align_items": null,
            "align_self": null,
            "border": null,
            "bottom": null,
            "display": null,
            "flex": null,
            "flex_flow": null,
            "grid_area": null,
            "grid_auto_columns": null,
            "grid_auto_flow": null,
            "grid_auto_rows": null,
            "grid_column": null,
            "grid_gap": null,
            "grid_row": null,
            "grid_template_areas": null,
            "grid_template_columns": null,
            "grid_template_rows": null,
            "height": null,
            "justify_content": null,
            "justify_items": null,
            "left": null,
            "margin": null,
            "max_height": null,
            "max_width": null,
            "min_height": null,
            "min_width": null,
            "object_fit": null,
            "object_position": null,
            "order": null,
            "overflow": null,
            "overflow_x": null,
            "overflow_y": null,
            "padding": null,
            "right": null,
            "top": null,
            "visibility": null,
            "width": null
          }
        },
        "c42458133722482580687037e15278b4": {
          "model_module": "@jupyter-widgets/controls",
          "model_name": "ProgressStyleModel",
          "model_module_version": "1.5.0",
          "state": {
            "_model_module": "@jupyter-widgets/controls",
            "_model_module_version": "1.5.0",
            "_model_name": "ProgressStyleModel",
            "_view_count": null,
            "_view_module": "@jupyter-widgets/base",
            "_view_module_version": "1.2.0",
            "_view_name": "StyleView",
            "bar_color": null,
            "description_width": ""
          }
        },
        "c72996d9f77f40409c4ae4d6b391fbc0": {
          "model_module": "@jupyter-widgets/controls",
          "model_name": "IntProgressModel",
          "model_module_version": "1.5.0",
          "state": {
            "_dom_classes": [],
            "_model_module": "@jupyter-widgets/controls",
            "_model_module_version": "1.5.0",
            "_model_name": "IntProgressModel",
            "_view_count": null,
            "_view_module": "@jupyter-widgets/controls",
            "_view_module_version": "1.5.0",
            "_view_name": "ProgressView",
            "bar_style": "",
            "description": "Processing: ",
            "description_tooltip": null,
            "layout": "IPY_MODEL_796944d995f842598f0787b9d9adf191",
            "max": 5,
            "min": 0,
            "orientation": "horizontal",
            "style": "IPY_MODEL_401039664a9a409ba8fadf4ae0d08509",
            "value": 5
          }
        },
        "796944d995f842598f0787b9d9adf191": {
          "model_module": "@jupyter-widgets/base",
          "model_name": "LayoutModel",
          "model_module_version": "1.2.0",
          "state": {
            "_model_module": "@jupyter-widgets/base",
            "_model_module_version": "1.2.0",
            "_model_name": "LayoutModel",
            "_view_count": null,
            "_view_module": "@jupyter-widgets/base",
            "_view_module_version": "1.2.0",
            "_view_name": "LayoutView",
            "align_content": null,
            "align_items": null,
            "align_self": null,
            "border": null,
            "bottom": null,
            "display": null,
            "flex": null,
            "flex_flow": null,
            "grid_area": null,
            "grid_auto_columns": null,
            "grid_auto_flow": null,
            "grid_auto_rows": null,
            "grid_column": null,
            "grid_gap": null,
            "grid_row": null,
            "grid_template_areas": null,
            "grid_template_columns": null,
            "grid_template_rows": null,
            "height": null,
            "justify_content": null,
            "justify_items": null,
            "left": null,
            "margin": null,
            "max_height": null,
            "max_width": null,
            "min_height": null,
            "min_width": null,
            "object_fit": null,
            "object_position": null,
            "order": null,
            "overflow": null,
            "overflow_x": null,
            "overflow_y": null,
            "padding": null,
            "right": null,
            "top": null,
            "visibility": null,
            "width": null
          }
        },
        "401039664a9a409ba8fadf4ae0d08509": {
          "model_module": "@jupyter-widgets/controls",
          "model_name": "ProgressStyleModel",
          "model_module_version": "1.5.0",
          "state": {
            "_model_module": "@jupyter-widgets/controls",
            "_model_module_version": "1.5.0",
            "_model_name": "ProgressStyleModel",
            "_view_count": null,
            "_view_module": "@jupyter-widgets/base",
            "_view_module_version": "1.2.0",
            "_view_name": "StyleView",
            "bar_color": null,
            "description_width": ""
          }
        },
        "9b700844d8764629a5662f741180ef0f": {
          "model_module": "@jupyter-widgets/controls",
          "model_name": "IntProgressModel",
          "model_module_version": "1.5.0",
          "state": {
            "_dom_classes": [],
            "_model_module": "@jupyter-widgets/controls",
            "_model_module_version": "1.5.0",
            "_model_name": "IntProgressModel",
            "_view_count": null,
            "_view_module": "@jupyter-widgets/controls",
            "_view_module_version": "1.5.0",
            "_view_name": "ProgressView",
            "bar_style": "",
            "description": "Processing: ",
            "description_tooltip": null,
            "layout": "IPY_MODEL_aa65444731814072b12c0e28e44f8b7e",
            "max": 5,
            "min": 0,
            "orientation": "horizontal",
            "style": "IPY_MODEL_33703d0d3afa481eae1f3489bd1e4cc1",
            "value": 5
          }
        },
        "aa65444731814072b12c0e28e44f8b7e": {
          "model_module": "@jupyter-widgets/base",
          "model_name": "LayoutModel",
          "model_module_version": "1.2.0",
          "state": {
            "_model_module": "@jupyter-widgets/base",
            "_model_module_version": "1.2.0",
            "_model_name": "LayoutModel",
            "_view_count": null,
            "_view_module": "@jupyter-widgets/base",
            "_view_module_version": "1.2.0",
            "_view_name": "LayoutView",
            "align_content": null,
            "align_items": null,
            "align_self": null,
            "border": null,
            "bottom": null,
            "display": null,
            "flex": null,
            "flex_flow": null,
            "grid_area": null,
            "grid_auto_columns": null,
            "grid_auto_flow": null,
            "grid_auto_rows": null,
            "grid_column": null,
            "grid_gap": null,
            "grid_row": null,
            "grid_template_areas": null,
            "grid_template_columns": null,
            "grid_template_rows": null,
            "height": null,
            "justify_content": null,
            "justify_items": null,
            "left": null,
            "margin": null,
            "max_height": null,
            "max_width": null,
            "min_height": null,
            "min_width": null,
            "object_fit": null,
            "object_position": null,
            "order": null,
            "overflow": null,
            "overflow_x": null,
            "overflow_y": null,
            "padding": null,
            "right": null,
            "top": null,
            "visibility": null,
            "width": null
          }
        },
        "33703d0d3afa481eae1f3489bd1e4cc1": {
          "model_module": "@jupyter-widgets/controls",
          "model_name": "ProgressStyleModel",
          "model_module_version": "1.5.0",
          "state": {
            "_model_module": "@jupyter-widgets/controls",
            "_model_module_version": "1.5.0",
            "_model_name": "ProgressStyleModel",
            "_view_count": null,
            "_view_module": "@jupyter-widgets/base",
            "_view_module_version": "1.2.0",
            "_view_name": "StyleView",
            "bar_color": null,
            "description_width": ""
          }
        }
      }
    }
  },
  "cells": [
    {
      "cell_type": "markdown",
      "source": [
        "**Carregar as bibliotecas necessarias**"
      ],
      "metadata": {
        "id": "tyKaX_KAHRLh"
      }
    },
    {
      "cell_type": "code",
      "execution_count": null,
      "metadata": {
        "id": "7aY7TSsSbEH6"
      },
      "outputs": [],
      "source": [
        "import numpy as np\n",
        "import pandas as pd\n",
        "import matplotlib.pyplot as plt\n",
        "import seaborn as sns"
      ]
    },
    {
      "cell_type": "code",
      "source": [
        "from google.colab import auth\n",
        "auth.authenticate_user()"
      ],
      "metadata": {
        "id": "8E0XCuTyhM8Y"
      },
      "execution_count": null,
      "outputs": []
    },
    {
      "cell_type": "markdown",
      "source": [
        "**Conectar o Google Cloud Platform**"
      ],
      "metadata": {
        "id": "l7wPQlOYIUAL"
      }
    },
    {
      "cell_type": "code",
      "source": [
        "project_id = 'amiable-port-343414'\n",
        "!gcloud config set project {project_id}\n",
        "!gsutil ls"
      ],
      "metadata": {
        "id": "3l7zR-pvpNBb",
        "colab": {
          "base_uri": "https://localhost:8080/"
        },
        "outputId": "3c548034-bdfe-473f-b4ce-ea02895aab3d"
      },
      "execution_count": null,
      "outputs": [
        {
          "output_type": "stream",
          "name": "stdout",
          "text": [
            "Updated property [core/project].\n",
            "gs://bucket-diabetes/\n",
            "gs://bucket-diabetes-ml/\n",
            "gs://remote-terraform-state-files/\n"
          ]
        }
      ]
    },
    {
      "cell_type": "markdown",
      "source": [
        "**Listar os arquivos que estao no bucket-diabetes do GCP**\n"
      ],
      "metadata": {
        "id": "3M81hC0umeDy"
      }
    },
    {
      "cell_type": "code",
      "source": [
        "!gsutil ls gs://bucket-diabetes/ "
      ],
      "metadata": {
        "colab": {
          "base_uri": "https://localhost:8080/"
        },
        "id": "ultWYV7vmWcm",
        "outputId": "ed6dc11d-cdf4-4303-e6c2-1a9c0f54f794"
      },
      "execution_count": null,
      "outputs": [
        {
          "output_type": "stream",
          "name": "stdout",
          "text": [
            "gs://bucket-diabetes/diabetes_012_health_indicators_BRFSS2015.parquet/\n",
            "gs://bucket-diabetes/diabetes_binary_5050split_health_indicators_BRFSS2015.parquet/\n",
            "gs://bucket-diabetes/diabetes_binary_health_indicators_BRFSS2015.parquet/\n"
          ]
        }
      ]
    },
    {
      "cell_type": "markdown",
      "source": [
        "**Copiar os dados do bucket do GCP para o Google Colab**"
      ],
      "metadata": {
        "id": "7aDkFAQ9IvGM"
      }
    },
    {
      "cell_type": "code",
      "source": [
        "!gsutil -m cp -r gs://bucket-diabetes/ /content"
      ],
      "metadata": {
        "id": "zLyz9etYq9nJ",
        "colab": {
          "base_uri": "https://localhost:8080/"
        },
        "outputId": "2115c065-8211-4a5f-a951-c75b064c3887"
      },
      "execution_count": null,
      "outputs": [
        {
          "output_type": "stream",
          "name": "stdout",
          "text": [
            "Copying gs://bucket-diabetes/diabetes_012_health_indicators_BRFSS2015.parquet/._SUCCESS.crc...\n",
            "/ [0 files][    0.0 B/    8.0 B]                                                \rCopying gs://bucket-diabetes/diabetes_012_health_indicators_BRFSS2015.parquet/.part-00000-5d0c22f2-eda3-49ca-976f-421560a83231-c000.snappy.parquet.crc...\n",
            "/ [0 files][    0.0 B/  1.0 KiB]                                                \rCopying gs://bucket-diabetes/diabetes_012_health_indicators_BRFSS2015.parquet/.part-00004-5d0c22f2-eda3-49ca-976f-421560a83231-c000.snappy.parquet.crc...\n",
            "/ [0 files][    0.0 B/  2.0 KiB]                                                \rCopying gs://bucket-diabetes/diabetes_012_health_indicators_BRFSS2015.parquet/.part-00002-5d0c22f2-eda3-49ca-976f-421560a83231-c000.snappy.parquet.crc...\n",
            "/ [0 files][    0.0 B/  3.0 KiB]                                                \rCopying gs://bucket-diabetes/diabetes_012_health_indicators_BRFSS2015.parquet/.part-00001-5d0c22f2-eda3-49ca-976f-421560a83231-c000.snappy.parquet.crc...\n",
            "/ [0 files][    0.0 B/  4.0 KiB]                                                \rCopying gs://bucket-diabetes/diabetes_012_health_indicators_BRFSS2015.parquet/.part-00005-5d0c22f2-eda3-49ca-976f-421560a83231-c000.snappy.parquet.crc...\n",
            "/ [0 files][    0.0 B/  4.9 KiB]                                                \rCopying gs://bucket-diabetes/diabetes_012_health_indicators_BRFSS2015.parquet/.part-00003-5d0c22f2-eda3-49ca-976f-421560a83231-c000.snappy.parquet.crc...\n",
            "/ [0 files][    0.0 B/  5.9 KiB]                                                \rCopying gs://bucket-diabetes/diabetes_012_health_indicators_BRFSS2015.parquet/.part-00006-5d0c22f2-eda3-49ca-976f-421560a83231-c000.snappy.parquet.crc...\n",
            "/ [0 files][    0.0 B/  6.9 KiB]                                                \rCopying gs://bucket-diabetes/diabetes_012_health_indicators_BRFSS2015.parquet/.part-00007-5d0c22f2-eda3-49ca-976f-421560a83231-c000.snappy.parquet.crc...\n",
            "Copying gs://bucket-diabetes/diabetes_012_health_indicators_BRFSS2015.parquet/.part-00008-5d0c22f2-eda3-49ca-976f-421560a83231-c000.snappy.parquet.crc...\n",
            "Copying gs://bucket-diabetes/diabetes_012_health_indicators_BRFSS2015.parquet/.part-00009-5d0c22f2-eda3-49ca-976f-421560a83231-c000.snappy.parquet.crc...\n",
            "Copying gs://bucket-diabetes/diabetes_012_health_indicators_BRFSS2015.parquet/_SUCCESS...\n",
            "Copying gs://bucket-diabetes/diabetes_012_health_indicators_BRFSS2015.parquet/part-00000-5d0c22f2-eda3-49ca-976f-421560a83231-c000.snappy.parquet...\n",
            "Copying gs://bucket-diabetes/diabetes_012_health_indicators_BRFSS2015.parquet/part-00001-5d0c22f2-eda3-49ca-976f-421560a83231-c000.snappy.parquet...\n",
            "Copying gs://bucket-diabetes/diabetes_012_health_indicators_BRFSS2015.parquet/part-00002-5d0c22f2-eda3-49ca-976f-421560a83231-c000.snappy.parquet...\n",
            "Copying gs://bucket-diabetes/diabetes_012_health_indicators_BRFSS2015.parquet/part-00003-5d0c22f2-eda3-49ca-976f-421560a83231-c000.snappy.parquet...\n",
            "Copying gs://bucket-diabetes/diabetes_012_health_indicators_BRFSS2015.parquet/part-00004-5d0c22f2-eda3-49ca-976f-421560a83231-c000.snappy.parquet...\n",
            "Copying gs://bucket-diabetes/diabetes_012_health_indicators_BRFSS2015.parquet/part-00005-5d0c22f2-eda3-49ca-976f-421560a83231-c000.snappy.parquet...\n",
            "Copying gs://bucket-diabetes/diabetes_012_health_indicators_BRFSS2015.parquet/part-00006-5d0c22f2-eda3-49ca-976f-421560a83231-c000.snappy.parquet...\n",
            "Copying gs://bucket-diabetes/diabetes_012_health_indicators_BRFSS2015.parquet/part-00007-5d0c22f2-eda3-49ca-976f-421560a83231-c000.snappy.parquet...\n",
            "Copying gs://bucket-diabetes/diabetes_012_health_indicators_BRFSS2015.parquet/part-00008-5d0c22f2-eda3-49ca-976f-421560a83231-c000.snappy.parquet...\n",
            "Copying gs://bucket-diabetes/diabetes_012_health_indicators_BRFSS2015.parquet/part-00009-5d0c22f2-eda3-49ca-976f-421560a83231-c000.snappy.parquet...\n",
            "Copying gs://bucket-diabetes/diabetes_binary_5050split_health_indicators_BRFSS2015.parquet/._SUCCESS.crc...\n",
            "Copying gs://bucket-diabetes/diabetes_binary_5050split_health_indicators_BRFSS2015.parquet/.part-00000-c6c8f76b-fd0e-44cc-bab4-ac2e63e8d266-c000.snappy.parquet.crc...\n",
            "Copying gs://bucket-diabetes/diabetes_binary_5050split_health_indicators_BRFSS2015.parquet/.part-00001-c6c8f76b-fd0e-44cc-bab4-ac2e63e8d266-c000.snappy.parquet.crc...\n",
            "Copying gs://bucket-diabetes/diabetes_binary_5050split_health_indicators_BRFSS2015.parquet/.part-00002-c6c8f76b-fd0e-44cc-bab4-ac2e63e8d266-c000.snappy.parquet.crc...\n",
            "Copying gs://bucket-diabetes/diabetes_binary_5050split_health_indicators_BRFSS2015.parquet/_SUCCESS...\n",
            "Copying gs://bucket-diabetes/diabetes_binary_5050split_health_indicators_BRFSS2015.parquet/part-00000-c6c8f76b-fd0e-44cc-bab4-ac2e63e8d266-c000.snappy.parquet...\n",
            "Copying gs://bucket-diabetes/diabetes_binary_5050split_health_indicators_BRFSS2015.parquet/part-00001-c6c8f76b-fd0e-44cc-bab4-ac2e63e8d266-c000.snappy.parquet...\n",
            "Copying gs://bucket-diabetes/diabetes_binary_5050split_health_indicators_BRFSS2015.parquet/part-00002-c6c8f76b-fd0e-44cc-bab4-ac2e63e8d266-c000.snappy.parquet...\n",
            "Copying gs://bucket-diabetes/diabetes_binary_health_indicators_BRFSS2015.parquet/._SUCCESS.crc...\n",
            "Copying gs://bucket-diabetes/diabetes_binary_health_indicators_BRFSS2015.parquet/.part-00000-5eb64c6f-6e7a-4c72-8d0b-ff919d710890-c000.snappy.parquet.crc...\n",
            "Copying gs://bucket-diabetes/diabetes_binary_health_indicators_BRFSS2015.parquet/.part-00001-5eb64c6f-6e7a-4c72-8d0b-ff919d710890-c000.snappy.parquet.crc...\n",
            "Copying gs://bucket-diabetes/diabetes_binary_health_indicators_BRFSS2015.parquet/.part-00002-5eb64c6f-6e7a-4c72-8d0b-ff919d710890-c000.snappy.parquet.crc...\n",
            "Copying gs://bucket-diabetes/diabetes_binary_health_indicators_BRFSS2015.parquet/.part-00003-5eb64c6f-6e7a-4c72-8d0b-ff919d710890-c000.snappy.parquet.crc...\n",
            "Copying gs://bucket-diabetes/diabetes_binary_health_indicators_BRFSS2015.parquet/.part-00004-5eb64c6f-6e7a-4c72-8d0b-ff919d710890-c000.snappy.parquet.crc...\n",
            "Copying gs://bucket-diabetes/diabetes_binary_health_indicators_BRFSS2015.parquet/.part-00005-5eb64c6f-6e7a-4c72-8d0b-ff919d710890-c000.snappy.parquet.crc...\n",
            "Copying gs://bucket-diabetes/diabetes_binary_health_indicators_BRFSS2015.parquet/.part-00006-5eb64c6f-6e7a-4c72-8d0b-ff919d710890-c000.snappy.parquet.crc...\n",
            "Copying gs://bucket-diabetes/diabetes_binary_health_indicators_BRFSS2015.parquet/.part-00007-5eb64c6f-6e7a-4c72-8d0b-ff919d710890-c000.snappy.parquet.crc...\n",
            "Copying gs://bucket-diabetes/diabetes_binary_health_indicators_BRFSS2015.parquet/.part-00008-5eb64c6f-6e7a-4c72-8d0b-ff919d710890-c000.snappy.parquet.crc...\n",
            "Copying gs://bucket-diabetes/diabetes_binary_health_indicators_BRFSS2015.parquet/.part-00009-5eb64c6f-6e7a-4c72-8d0b-ff919d710890-c000.snappy.parquet.crc...\n",
            "Copying gs://bucket-diabetes/diabetes_binary_health_indicators_BRFSS2015.parquet/part-00000-5eb64c6f-6e7a-4c72-8d0b-ff919d710890-c000.snappy.parquet...\n",
            "Copying gs://bucket-diabetes/diabetes_binary_health_indicators_BRFSS2015.parquet/_SUCCESS...\n",
            "Copying gs://bucket-diabetes/diabetes_binary_health_indicators_BRFSS2015.parquet/part-00001-5eb64c6f-6e7a-4c72-8d0b-ff919d710890-c000.snappy.parquet...\n",
            "Copying gs://bucket-diabetes/diabetes_binary_health_indicators_BRFSS2015.parquet/part-00002-5eb64c6f-6e7a-4c72-8d0b-ff919d710890-c000.snappy.parquet...\n",
            "Copying gs://bucket-diabetes/diabetes_binary_health_indicators_BRFSS2015.parquet/part-00003-5eb64c6f-6e7a-4c72-8d0b-ff919d710890-c000.snappy.parquet...\n",
            "Copying gs://bucket-diabetes/diabetes_binary_health_indicators_BRFSS2015.parquet/part-00004-5eb64c6f-6e7a-4c72-8d0b-ff919d710890-c000.snappy.parquet...\n",
            "Copying gs://bucket-diabetes/diabetes_binary_health_indicators_BRFSS2015.parquet/part-00005-5eb64c6f-6e7a-4c72-8d0b-ff919d710890-c000.snappy.parquet...\n",
            "Copying gs://bucket-diabetes/diabetes_binary_health_indicators_BRFSS2015.parquet/part-00006-5eb64c6f-6e7a-4c72-8d0b-ff919d710890-c000.snappy.parquet...\n",
            "Copying gs://bucket-diabetes/diabetes_binary_health_indicators_BRFSS2015.parquet/part-00007-5eb64c6f-6e7a-4c72-8d0b-ff919d710890-c000.snappy.parquet...\n",
            "Copying gs://bucket-diabetes/diabetes_binary_health_indicators_BRFSS2015.parquet/part-00008-5eb64c6f-6e7a-4c72-8d0b-ff919d710890-c000.snappy.parquet...\n",
            "Copying gs://bucket-diabetes/diabetes_binary_health_indicators_BRFSS2015.parquet/part-00009-5eb64c6f-6e7a-4c72-8d0b-ff919d710890-c000.snappy.parquet...\n",
            "\\ [52/52 files][  3.0 MiB/  3.0 MiB] 100% Done                                  \n",
            "Operation completed over 52 objects/3.0 MiB.                                     \n"
          ]
        }
      ]
    },
    {
      "cell_type": "markdown",
      "source": [
        "**Carregar o dataset em formato parquet**"
      ],
      "metadata": {
        "id": "Z8nC4uU1InX_"
      }
    },
    {
      "cell_type": "code",
      "source": [
        "df_diabetes = pd.read_parquet('/content/bucket-diabetes/diabetes_012_health_indicators_BRFSS2015.parquet', engine='pyarrow')"
      ],
      "metadata": {
        "id": "6W7-JBwXkh17"
      },
      "execution_count": null,
      "outputs": []
    },
    {
      "cell_type": "markdown",
      "source": [
        "**Configurar o pandas para mostrar todas as colunas do dataset**"
      ],
      "metadata": {
        "id": "JEBz8yD0Js-S"
      }
    },
    {
      "cell_type": "code",
      "source": [
        "#Setar o pandas para mostrar todas as colunas\n",
        "pd.set_option('display.max_columns', None)\n",
        "print(\"Numero de linhas maximo foi configurado para podermos ver todas as colunas do dataset\")"
      ],
      "metadata": {
        "id": "iy5PNkF-JZu0",
        "colab": {
          "base_uri": "https://localhost:8080/"
        },
        "outputId": "98876616-b6a7-463f-8199-cc3ecac26b06"
      },
      "execution_count": null,
      "outputs": [
        {
          "output_type": "stream",
          "name": "stdout",
          "text": [
            "Numero de linhas maximo foi configurado para podermos ver todas as colunas do dataset\n"
          ]
        }
      ]
    },
    {
      "cell_type": "code",
      "source": [
        "#Importando os dados já modificando o data type de algumas colunas. IMPORTANTE!! Otimiza o tamanho do arquivo.\n",
        "#data = \"https://raw.githubusercontent.com/datasciencedojo/datasets/master/titanic.csv\"\n",
        "#df = pd.read_csv(data,  dtype = {\"Embarked\" : \"category\", \"Survived\": \"category\", \"Parch\": \"int32\"})"
      ],
      "metadata": {
        "id": "L_xvvZHIau89"
      },
      "execution_count": null,
      "outputs": []
    },
    {
      "cell_type": "markdown",
      "source": [
        "**Visualizar os 5 primeiros registos**"
      ],
      "metadata": {
        "id": "yM-qN12DJzrs"
      }
    },
    {
      "cell_type": "code",
      "source": [
        "#Exibir todo o dataframe df\n",
        "df_diabetes.head()"
      ],
      "metadata": {
        "id": "4EcqPvKabFV0",
        "colab": {
          "base_uri": "https://localhost:8080/",
          "height": 270
        },
        "outputId": "148f1966-6180-480c-ab64-1019edb8400b"
      },
      "execution_count": null,
      "outputs": [
        {
          "output_type": "execute_result",
          "data": {
            "text/plain": [
              "   Diabetes_012  HighBP  HighChol  CholCheck   BMI  Smoker  Stroke  \\\n",
              "0           1.0     0.0       1.0        1.0  33.0     1.0     0.0   \n",
              "1           0.0     0.0       0.0        1.0  42.0     1.0     0.0   \n",
              "2           0.0     0.0       1.0        1.0  20.0     0.0     0.0   \n",
              "3           0.0     0.0       1.0        1.0  27.0     0.0     0.0   \n",
              "4           0.0     0.0       0.0        1.0  35.0     1.0     0.0   \n",
              "\n",
              "   HeartDiseaseorAttack  PhysActivity  Fruits  Veggies  HvyAlcoholConsump  \\\n",
              "0                   0.0           1.0     1.0      1.0                0.0   \n",
              "1                   0.0           0.0     1.0      0.0                0.0   \n",
              "2                   0.0           1.0     1.0      1.0                0.0   \n",
              "3                   0.0           0.0     1.0      1.0                0.0   \n",
              "4                   0.0           0.0     1.0      1.0                0.0   \n",
              "\n",
              "   AnyHealthcare  NoDocbcCost  GenHlth  MentHlth  PhysHlth  DiffWalk  Sex  \\\n",
              "0            1.0          0.0      3.0       0.0       0.0       1.0  0.0   \n",
              "1            1.0          1.0      5.0       4.0      30.0       1.0  0.0   \n",
              "2            1.0          0.0      2.0       0.0       0.0       0.0  1.0   \n",
              "3            1.0          0.0      3.0       0.0       0.0       0.0  0.0   \n",
              "4            1.0          0.0      3.0       0.0       0.0       0.0  0.0   \n",
              "\n",
              "    Age  Education  Income  \n",
              "0   9.0        5.0     3.0  \n",
              "1   8.0        5.0     2.0  \n",
              "2   9.0        6.0     8.0  \n",
              "3  12.0        4.0     5.0  \n",
              "4  11.0        6.0     6.0  "
            ],
            "text/html": [
              "\n",
              "  <div id=\"df-91f3fa9b-fb7d-428e-a1c4-685617879d81\">\n",
              "    <div class=\"colab-df-container\">\n",
              "      <div>\n",
              "<style scoped>\n",
              "    .dataframe tbody tr th:only-of-type {\n",
              "        vertical-align: middle;\n",
              "    }\n",
              "\n",
              "    .dataframe tbody tr th {\n",
              "        vertical-align: top;\n",
              "    }\n",
              "\n",
              "    .dataframe thead th {\n",
              "        text-align: right;\n",
              "    }\n",
              "</style>\n",
              "<table border=\"1\" class=\"dataframe\">\n",
              "  <thead>\n",
              "    <tr style=\"text-align: right;\">\n",
              "      <th></th>\n",
              "      <th>Diabetes_012</th>\n",
              "      <th>HighBP</th>\n",
              "      <th>HighChol</th>\n",
              "      <th>CholCheck</th>\n",
              "      <th>BMI</th>\n",
              "      <th>Smoker</th>\n",
              "      <th>Stroke</th>\n",
              "      <th>HeartDiseaseorAttack</th>\n",
              "      <th>PhysActivity</th>\n",
              "      <th>Fruits</th>\n",
              "      <th>Veggies</th>\n",
              "      <th>HvyAlcoholConsump</th>\n",
              "      <th>AnyHealthcare</th>\n",
              "      <th>NoDocbcCost</th>\n",
              "      <th>GenHlth</th>\n",
              "      <th>MentHlth</th>\n",
              "      <th>PhysHlth</th>\n",
              "      <th>DiffWalk</th>\n",
              "      <th>Sex</th>\n",
              "      <th>Age</th>\n",
              "      <th>Education</th>\n",
              "      <th>Income</th>\n",
              "    </tr>\n",
              "  </thead>\n",
              "  <tbody>\n",
              "    <tr>\n",
              "      <th>0</th>\n",
              "      <td>1.0</td>\n",
              "      <td>0.0</td>\n",
              "      <td>1.0</td>\n",
              "      <td>1.0</td>\n",
              "      <td>33.0</td>\n",
              "      <td>1.0</td>\n",
              "      <td>0.0</td>\n",
              "      <td>0.0</td>\n",
              "      <td>1.0</td>\n",
              "      <td>1.0</td>\n",
              "      <td>1.0</td>\n",
              "      <td>0.0</td>\n",
              "      <td>1.0</td>\n",
              "      <td>0.0</td>\n",
              "      <td>3.0</td>\n",
              "      <td>0.0</td>\n",
              "      <td>0.0</td>\n",
              "      <td>1.0</td>\n",
              "      <td>0.0</td>\n",
              "      <td>9.0</td>\n",
              "      <td>5.0</td>\n",
              "      <td>3.0</td>\n",
              "    </tr>\n",
              "    <tr>\n",
              "      <th>1</th>\n",
              "      <td>0.0</td>\n",
              "      <td>0.0</td>\n",
              "      <td>0.0</td>\n",
              "      <td>1.0</td>\n",
              "      <td>42.0</td>\n",
              "      <td>1.0</td>\n",
              "      <td>0.0</td>\n",
              "      <td>0.0</td>\n",
              "      <td>0.0</td>\n",
              "      <td>1.0</td>\n",
              "      <td>0.0</td>\n",
              "      <td>0.0</td>\n",
              "      <td>1.0</td>\n",
              "      <td>1.0</td>\n",
              "      <td>5.0</td>\n",
              "      <td>4.0</td>\n",
              "      <td>30.0</td>\n",
              "      <td>1.0</td>\n",
              "      <td>0.0</td>\n",
              "      <td>8.0</td>\n",
              "      <td>5.0</td>\n",
              "      <td>2.0</td>\n",
              "    </tr>\n",
              "    <tr>\n",
              "      <th>2</th>\n",
              "      <td>0.0</td>\n",
              "      <td>0.0</td>\n",
              "      <td>1.0</td>\n",
              "      <td>1.0</td>\n",
              "      <td>20.0</td>\n",
              "      <td>0.0</td>\n",
              "      <td>0.0</td>\n",
              "      <td>0.0</td>\n",
              "      <td>1.0</td>\n",
              "      <td>1.0</td>\n",
              "      <td>1.0</td>\n",
              "      <td>0.0</td>\n",
              "      <td>1.0</td>\n",
              "      <td>0.0</td>\n",
              "      <td>2.0</td>\n",
              "      <td>0.0</td>\n",
              "      <td>0.0</td>\n",
              "      <td>0.0</td>\n",
              "      <td>1.0</td>\n",
              "      <td>9.0</td>\n",
              "      <td>6.0</td>\n",
              "      <td>8.0</td>\n",
              "    </tr>\n",
              "    <tr>\n",
              "      <th>3</th>\n",
              "      <td>0.0</td>\n",
              "      <td>0.0</td>\n",
              "      <td>1.0</td>\n",
              "      <td>1.0</td>\n",
              "      <td>27.0</td>\n",
              "      <td>0.0</td>\n",
              "      <td>0.0</td>\n",
              "      <td>0.0</td>\n",
              "      <td>0.0</td>\n",
              "      <td>1.0</td>\n",
              "      <td>1.0</td>\n",
              "      <td>0.0</td>\n",
              "      <td>1.0</td>\n",
              "      <td>0.0</td>\n",
              "      <td>3.0</td>\n",
              "      <td>0.0</td>\n",
              "      <td>0.0</td>\n",
              "      <td>0.0</td>\n",
              "      <td>0.0</td>\n",
              "      <td>12.0</td>\n",
              "      <td>4.0</td>\n",
              "      <td>5.0</td>\n",
              "    </tr>\n",
              "    <tr>\n",
              "      <th>4</th>\n",
              "      <td>0.0</td>\n",
              "      <td>0.0</td>\n",
              "      <td>0.0</td>\n",
              "      <td>1.0</td>\n",
              "      <td>35.0</td>\n",
              "      <td>1.0</td>\n",
              "      <td>0.0</td>\n",
              "      <td>0.0</td>\n",
              "      <td>0.0</td>\n",
              "      <td>1.0</td>\n",
              "      <td>1.0</td>\n",
              "      <td>0.0</td>\n",
              "      <td>1.0</td>\n",
              "      <td>0.0</td>\n",
              "      <td>3.0</td>\n",
              "      <td>0.0</td>\n",
              "      <td>0.0</td>\n",
              "      <td>0.0</td>\n",
              "      <td>0.0</td>\n",
              "      <td>11.0</td>\n",
              "      <td>6.0</td>\n",
              "      <td>6.0</td>\n",
              "    </tr>\n",
              "  </tbody>\n",
              "</table>\n",
              "</div>\n",
              "      <button class=\"colab-df-convert\" onclick=\"convertToInteractive('df-91f3fa9b-fb7d-428e-a1c4-685617879d81')\"\n",
              "              title=\"Convert this dataframe to an interactive table.\"\n",
              "              style=\"display:none;\">\n",
              "        \n",
              "  <svg xmlns=\"http://www.w3.org/2000/svg\" height=\"24px\"viewBox=\"0 0 24 24\"\n",
              "       width=\"24px\">\n",
              "    <path d=\"M0 0h24v24H0V0z\" fill=\"none\"/>\n",
              "    <path d=\"M18.56 5.44l.94 2.06.94-2.06 2.06-.94-2.06-.94-.94-2.06-.94 2.06-2.06.94zm-11 1L8.5 8.5l.94-2.06 2.06-.94-2.06-.94L8.5 2.5l-.94 2.06-2.06.94zm10 10l.94 2.06.94-2.06 2.06-.94-2.06-.94-.94-2.06-.94 2.06-2.06.94z\"/><path d=\"M17.41 7.96l-1.37-1.37c-.4-.4-.92-.59-1.43-.59-.52 0-1.04.2-1.43.59L10.3 9.45l-7.72 7.72c-.78.78-.78 2.05 0 2.83L4 21.41c.39.39.9.59 1.41.59.51 0 1.02-.2 1.41-.59l7.78-7.78 2.81-2.81c.8-.78.8-2.07 0-2.86zM5.41 20L4 18.59l7.72-7.72 1.47 1.35L5.41 20z\"/>\n",
              "  </svg>\n",
              "      </button>\n",
              "      \n",
              "  <style>\n",
              "    .colab-df-container {\n",
              "      display:flex;\n",
              "      flex-wrap:wrap;\n",
              "      gap: 12px;\n",
              "    }\n",
              "\n",
              "    .colab-df-convert {\n",
              "      background-color: #E8F0FE;\n",
              "      border: none;\n",
              "      border-radius: 50%;\n",
              "      cursor: pointer;\n",
              "      display: none;\n",
              "      fill: #1967D2;\n",
              "      height: 32px;\n",
              "      padding: 0 0 0 0;\n",
              "      width: 32px;\n",
              "    }\n",
              "\n",
              "    .colab-df-convert:hover {\n",
              "      background-color: #E2EBFA;\n",
              "      box-shadow: 0px 1px 2px rgba(60, 64, 67, 0.3), 0px 1px 3px 1px rgba(60, 64, 67, 0.15);\n",
              "      fill: #174EA6;\n",
              "    }\n",
              "\n",
              "    [theme=dark] .colab-df-convert {\n",
              "      background-color: #3B4455;\n",
              "      fill: #D2E3FC;\n",
              "    }\n",
              "\n",
              "    [theme=dark] .colab-df-convert:hover {\n",
              "      background-color: #434B5C;\n",
              "      box-shadow: 0px 1px 3px 1px rgba(0, 0, 0, 0.15);\n",
              "      filter: drop-shadow(0px 1px 2px rgba(0, 0, 0, 0.3));\n",
              "      fill: #FFFFFF;\n",
              "    }\n",
              "  </style>\n",
              "\n",
              "      <script>\n",
              "        const buttonEl =\n",
              "          document.querySelector('#df-91f3fa9b-fb7d-428e-a1c4-685617879d81 button.colab-df-convert');\n",
              "        buttonEl.style.display =\n",
              "          google.colab.kernel.accessAllowed ? 'block' : 'none';\n",
              "\n",
              "        async function convertToInteractive(key) {\n",
              "          const element = document.querySelector('#df-91f3fa9b-fb7d-428e-a1c4-685617879d81');\n",
              "          const dataTable =\n",
              "            await google.colab.kernel.invokeFunction('convertToInteractive',\n",
              "                                                     [key], {});\n",
              "          if (!dataTable) return;\n",
              "\n",
              "          const docLinkHtml = 'Like what you see? Visit the ' +\n",
              "            '<a target=\"_blank\" href=https://colab.research.google.com/notebooks/data_table.ipynb>data table notebook</a>'\n",
              "            + ' to learn more about interactive tables.';\n",
              "          element.innerHTML = '';\n",
              "          dataTable['output_type'] = 'display_data';\n",
              "          await google.colab.output.renderOutput(dataTable, element);\n",
              "          const docLink = document.createElement('div');\n",
              "          docLink.innerHTML = docLinkHtml;\n",
              "          element.appendChild(docLink);\n",
              "        }\n",
              "      </script>\n",
              "    </div>\n",
              "  </div>\n",
              "  "
            ]
          },
          "metadata": {},
          "execution_count": 8
        }
      ]
    },
    {
      "cell_type": "markdown",
      "source": [
        "# **Analise Exploratoria dos Dados**"
      ],
      "metadata": {
        "id": "mKvS-iLmpbxQ"
      }
    },
    {
      "cell_type": "markdown",
      "source": [
        "**Perguntas sobre os dados**\n",
        "1. Qual e a correlacao entre variaveis preditoras e a variavel alvo?\n",
        "2. Qual e a distribuicao de pacientes por classe?\n",
        "3. Sera que o intervalo de valores do indice de massa corporal, idade, nivel de pressao arterial, nivel de colesterol e igual em cada uma das classes?\n",
        "4. Quais os factores que influenciam na obtencao de diabetes?\n",
        "\n",
        "\n"
      ],
      "metadata": {
        "id": "54CqL9GDp2zB"
      }
    },
    {
      "cell_type": "markdown",
      "source": [
        "**Verificar o formato do dataset**"
      ],
      "metadata": {
        "id": "bAqHkGoTq-Bs"
      }
    },
    {
      "cell_type": "code",
      "source": [
        "df_diabetes.shape"
      ],
      "metadata": {
        "id": "ld6hswC-d0rG",
        "colab": {
          "base_uri": "https://localhost:8080/"
        },
        "outputId": "036f991f-4138-4284-ef25-a567a64f828f"
      },
      "execution_count": null,
      "outputs": [
        {
          "output_type": "execute_result",
          "data": {
            "text/plain": [
              "(229781, 22)"
            ]
          },
          "metadata": {},
          "execution_count": 9
        }
      ]
    },
    {
      "cell_type": "markdown",
      "source": [
        "**Visualizar os dados e tipos de dados do dataset**"
      ],
      "metadata": {
        "id": "KdOXKtkqrGfl"
      }
    },
    {
      "cell_type": "code",
      "source": [
        "df_diabetes.info()"
      ],
      "metadata": {
        "id": "dp317NkKek81",
        "colab": {
          "base_uri": "https://localhost:8080/"
        },
        "outputId": "ff1fedf4-bf6c-46dd-b8c5-325a4a92130a"
      },
      "execution_count": null,
      "outputs": [
        {
          "output_type": "stream",
          "name": "stdout",
          "text": [
            "<class 'pandas.core.frame.DataFrame'>\n",
            "RangeIndex: 229781 entries, 0 to 229780\n",
            "Data columns (total 22 columns):\n",
            " #   Column                Non-Null Count   Dtype  \n",
            "---  ------                --------------   -----  \n",
            " 0   Diabetes_012          229781 non-null  float64\n",
            " 1   HighBP                229781 non-null  float64\n",
            " 2   HighChol              229781 non-null  float64\n",
            " 3   CholCheck             229781 non-null  float64\n",
            " 4   BMI                   229781 non-null  float64\n",
            " 5   Smoker                229781 non-null  float64\n",
            " 6   Stroke                229781 non-null  float64\n",
            " 7   HeartDiseaseorAttack  229781 non-null  float64\n",
            " 8   PhysActivity          229781 non-null  float64\n",
            " 9   Fruits                229781 non-null  float64\n",
            " 10  Veggies               229781 non-null  float64\n",
            " 11  HvyAlcoholConsump     229781 non-null  float64\n",
            " 12  AnyHealthcare         229781 non-null  float64\n",
            " 13  NoDocbcCost           229781 non-null  float64\n",
            " 14  GenHlth               229781 non-null  float64\n",
            " 15  MentHlth              229781 non-null  float64\n",
            " 16  PhysHlth              229781 non-null  float64\n",
            " 17  DiffWalk              229781 non-null  float64\n",
            " 18  Sex                   229781 non-null  float64\n",
            " 19  Age                   229781 non-null  float64\n",
            " 20  Education             229781 non-null  float64\n",
            " 21  Income                229781 non-null  float64\n",
            "dtypes: float64(22)\n",
            "memory usage: 38.6 MB\n"
          ]
        }
      ]
    },
    {
      "cell_type": "markdown",
      "source": [
        "**Alterar o tipo de dados do dataset**"
      ],
      "metadata": {
        "id": "CORti73WrRoe"
      }
    },
    {
      "cell_type": "code",
      "source": [
        "#Alterar o tipo de dados do dataset \n",
        "df_diabetes['HighBP']=df_diabetes['HighBP'].astype('int8')\n",
        "df_diabetes['HighChol']=df_diabetes['HighChol'].astype('int8')\n",
        "df_diabetes['CholCheck']=df_diabetes['CholCheck'].astype('int8')\n",
        "df_diabetes['Smoker']=df_diabetes['Smoker'].astype('int8')\n",
        "df_diabetes['Stroke']=df_diabetes['Stroke'].astype('int8')\n",
        "df_diabetes['HeartDiseaseorAttack']=df_diabetes['HeartDiseaseorAttack'].astype('int8')\n",
        "df_diabetes['PhysActivity']=df_diabetes['PhysActivity'].astype('int8')\n",
        "df_diabetes['Fruits']=df_diabetes['Fruits'].astype('int8')\n",
        "df_diabetes['Veggies']=df_diabetes['Veggies'].astype('int8')                \n",
        "df_diabetes['HvyAlcoholConsump']=df_diabetes['HvyAlcoholConsump'].astype('int8')\n",
        "df_diabetes['NoDocbcCost']=df_diabetes['NoDocbcCost'].astype('int8')\n",
        "df_diabetes['GenHlth']=df_diabetes['GenHlth'].astype('int8')\n",
        "df_diabetes['MentHlth']=df_diabetes['MentHlth'].astype('int8')\n",
        "df_diabetes['DiffWalk']=df_diabetes['DiffWalk'].astype('int8')\n",
        "df_diabetes['Sex']=df_diabetes['Sex'].astype('int8')\n",
        "df_diabetes['Education']=df_diabetes['Education'].astype('int8')\n",
        "df_diabetes['Income']=df_diabetes['Income'].astype('int8')\n",
        "df_diabetes['AnyHealthcare']=df_diabetes['AnyHealthcare'].astype('int8')\n",
        "df_diabetes['Age']=df_diabetes['Age'].astype('int8')\n",
        "df_diabetes['PhysHlth']=df_diabetes['PhysHlth'].astype('int8')\n",
        "df_diabetes['Diabetes_012']=df_diabetes['Diabetes_012'].astype('int8')\n",
        "\n",
        "#df_diabetes = df_diabetes.astype('int8').dtypes"
      ],
      "metadata": {
        "id": "5GaZmp49ayeh"
      },
      "execution_count": null,
      "outputs": []
    },
    {
      "cell_type": "markdown",
      "source": [
        "**Análise Estatistica Basica do dataset**"
      ],
      "metadata": {
        "id": "qlKBPJwPrdwQ"
      }
    },
    {
      "cell_type": "code",
      "source": [
        "df_diabetes.describe()"
      ],
      "metadata": {
        "colab": {
          "base_uri": "https://localhost:8080/",
          "height": 364
        },
        "id": "xTvMHYhqrgP0",
        "outputId": "8381d371-2031-4589-ba64-20a1d93a376c"
      },
      "execution_count": null,
      "outputs": [
        {
          "output_type": "execute_result",
          "data": {
            "text/plain": [
              "        Diabetes_012         HighBP       HighChol      CholCheck  \\\n",
              "count  229781.000000  229781.000000  229781.000000  229781.000000   \n",
              "mean        0.325627       0.454441       0.441760       0.959535   \n",
              "std         0.724623       0.497921       0.496598       0.197047   \n",
              "min         0.000000       0.000000       0.000000       0.000000   \n",
              "25%         0.000000       0.000000       0.000000       1.000000   \n",
              "50%         0.000000       0.000000       0.000000       1.000000   \n",
              "75%         0.000000       1.000000       1.000000       1.000000   \n",
              "max         2.000000       1.000000       1.000000       1.000000   \n",
              "\n",
              "                BMI         Smoker         Stroke  HeartDiseaseorAttack  \\\n",
              "count  229781.00000  229781.000000  229781.000000         229781.000000   \n",
              "mean       28.68567       0.465661       0.044756              0.103216   \n",
              "std         6.78636       0.498821       0.206767              0.304241   \n",
              "min        12.00000       0.000000       0.000000              0.000000   \n",
              "25%        24.00000       0.000000       0.000000              0.000000   \n",
              "50%        27.00000       0.000000       0.000000              0.000000   \n",
              "75%        32.00000       1.000000       0.000000              0.000000   \n",
              "max        98.00000       1.000000       1.000000              1.000000   \n",
              "\n",
              "        PhysActivity         Fruits        Veggies  HvyAlcoholConsump  \\\n",
              "count  229781.000000  229781.000000  229781.000000      229781.000000   \n",
              "mean        0.733355       0.612966       0.794813           0.060710   \n",
              "std         0.442206       0.487073       0.403839           0.238798   \n",
              "min         0.000000       0.000000       0.000000           0.000000   \n",
              "25%         0.000000       0.000000       1.000000           0.000000   \n",
              "50%         1.000000       1.000000       1.000000           0.000000   \n",
              "75%         1.000000       1.000000       1.000000           0.000000   \n",
              "max         1.000000       1.000000       1.000000           1.000000   \n",
              "\n",
              "       AnyHealthcare    NoDocbcCost        GenHlth       MentHlth  \\\n",
              "count  229781.000000  229781.000000  229781.000000  229781.000000   \n",
              "mean        0.946075       0.092810       2.601151       3.505373   \n",
              "std         0.225871       0.290167       1.064685       7.713725   \n",
              "min         0.000000       0.000000       1.000000       0.000000   \n",
              "25%         1.000000       0.000000       2.000000       0.000000   \n",
              "50%         1.000000       0.000000       3.000000       0.000000   \n",
              "75%         1.000000       0.000000       3.000000       2.000000   \n",
              "max         1.000000       1.000000       5.000000      30.000000   \n",
              "\n",
              "            PhysHlth       DiffWalk            Sex            Age  \\\n",
              "count  229781.000000  229781.000000  229781.000000  229781.000000   \n",
              "mean        4.675178       0.185507       0.439231       8.086582   \n",
              "std         9.046568       0.388709       0.496295       3.093809   \n",
              "min         0.000000       0.000000       0.000000       1.000000   \n",
              "25%         0.000000       0.000000       0.000000       6.000000   \n",
              "50%         0.000000       0.000000       0.000000       8.000000   \n",
              "75%         4.000000       0.000000       1.000000      10.000000   \n",
              "max        30.000000       1.000000       1.000000      13.000000   \n",
              "\n",
              "           Education         Income  \n",
              "count  229781.000000  229781.000000  \n",
              "mean        4.980568       5.890383  \n",
              "std         0.992895       2.092477  \n",
              "min         1.000000       1.000000  \n",
              "25%         4.000000       5.000000  \n",
              "50%         5.000000       6.000000  \n",
              "75%         6.000000       8.000000  \n",
              "max         6.000000       8.000000  "
            ],
            "text/html": [
              "\n",
              "  <div id=\"df-7a7f6353-5517-4c7c-a762-ff56714c7a5b\">\n",
              "    <div class=\"colab-df-container\">\n",
              "      <div>\n",
              "<style scoped>\n",
              "    .dataframe tbody tr th:only-of-type {\n",
              "        vertical-align: middle;\n",
              "    }\n",
              "\n",
              "    .dataframe tbody tr th {\n",
              "        vertical-align: top;\n",
              "    }\n",
              "\n",
              "    .dataframe thead th {\n",
              "        text-align: right;\n",
              "    }\n",
              "</style>\n",
              "<table border=\"1\" class=\"dataframe\">\n",
              "  <thead>\n",
              "    <tr style=\"text-align: right;\">\n",
              "      <th></th>\n",
              "      <th>Diabetes_012</th>\n",
              "      <th>HighBP</th>\n",
              "      <th>HighChol</th>\n",
              "      <th>CholCheck</th>\n",
              "      <th>BMI</th>\n",
              "      <th>Smoker</th>\n",
              "      <th>Stroke</th>\n",
              "      <th>HeartDiseaseorAttack</th>\n",
              "      <th>PhysActivity</th>\n",
              "      <th>Fruits</th>\n",
              "      <th>Veggies</th>\n",
              "      <th>HvyAlcoholConsump</th>\n",
              "      <th>AnyHealthcare</th>\n",
              "      <th>NoDocbcCost</th>\n",
              "      <th>GenHlth</th>\n",
              "      <th>MentHlth</th>\n",
              "      <th>PhysHlth</th>\n",
              "      <th>DiffWalk</th>\n",
              "      <th>Sex</th>\n",
              "      <th>Age</th>\n",
              "      <th>Education</th>\n",
              "      <th>Income</th>\n",
              "    </tr>\n",
              "  </thead>\n",
              "  <tbody>\n",
              "    <tr>\n",
              "      <th>count</th>\n",
              "      <td>229781.000000</td>\n",
              "      <td>229781.000000</td>\n",
              "      <td>229781.000000</td>\n",
              "      <td>229781.000000</td>\n",
              "      <td>229781.00000</td>\n",
              "      <td>229781.000000</td>\n",
              "      <td>229781.000000</td>\n",
              "      <td>229781.000000</td>\n",
              "      <td>229781.000000</td>\n",
              "      <td>229781.000000</td>\n",
              "      <td>229781.000000</td>\n",
              "      <td>229781.000000</td>\n",
              "      <td>229781.000000</td>\n",
              "      <td>229781.000000</td>\n",
              "      <td>229781.000000</td>\n",
              "      <td>229781.000000</td>\n",
              "      <td>229781.000000</td>\n",
              "      <td>229781.000000</td>\n",
              "      <td>229781.000000</td>\n",
              "      <td>229781.000000</td>\n",
              "      <td>229781.000000</td>\n",
              "      <td>229781.000000</td>\n",
              "    </tr>\n",
              "    <tr>\n",
              "      <th>mean</th>\n",
              "      <td>0.325627</td>\n",
              "      <td>0.454441</td>\n",
              "      <td>0.441760</td>\n",
              "      <td>0.959535</td>\n",
              "      <td>28.68567</td>\n",
              "      <td>0.465661</td>\n",
              "      <td>0.044756</td>\n",
              "      <td>0.103216</td>\n",
              "      <td>0.733355</td>\n",
              "      <td>0.612966</td>\n",
              "      <td>0.794813</td>\n",
              "      <td>0.060710</td>\n",
              "      <td>0.946075</td>\n",
              "      <td>0.092810</td>\n",
              "      <td>2.601151</td>\n",
              "      <td>3.505373</td>\n",
              "      <td>4.675178</td>\n",
              "      <td>0.185507</td>\n",
              "      <td>0.439231</td>\n",
              "      <td>8.086582</td>\n",
              "      <td>4.980568</td>\n",
              "      <td>5.890383</td>\n",
              "    </tr>\n",
              "    <tr>\n",
              "      <th>std</th>\n",
              "      <td>0.724623</td>\n",
              "      <td>0.497921</td>\n",
              "      <td>0.496598</td>\n",
              "      <td>0.197047</td>\n",
              "      <td>6.78636</td>\n",
              "      <td>0.498821</td>\n",
              "      <td>0.206767</td>\n",
              "      <td>0.304241</td>\n",
              "      <td>0.442206</td>\n",
              "      <td>0.487073</td>\n",
              "      <td>0.403839</td>\n",
              "      <td>0.238798</td>\n",
              "      <td>0.225871</td>\n",
              "      <td>0.290167</td>\n",
              "      <td>1.064685</td>\n",
              "      <td>7.713725</td>\n",
              "      <td>9.046568</td>\n",
              "      <td>0.388709</td>\n",
              "      <td>0.496295</td>\n",
              "      <td>3.093809</td>\n",
              "      <td>0.992895</td>\n",
              "      <td>2.092477</td>\n",
              "    </tr>\n",
              "    <tr>\n",
              "      <th>min</th>\n",
              "      <td>0.000000</td>\n",
              "      <td>0.000000</td>\n",
              "      <td>0.000000</td>\n",
              "      <td>0.000000</td>\n",
              "      <td>12.00000</td>\n",
              "      <td>0.000000</td>\n",
              "      <td>0.000000</td>\n",
              "      <td>0.000000</td>\n",
              "      <td>0.000000</td>\n",
              "      <td>0.000000</td>\n",
              "      <td>0.000000</td>\n",
              "      <td>0.000000</td>\n",
              "      <td>0.000000</td>\n",
              "      <td>0.000000</td>\n",
              "      <td>1.000000</td>\n",
              "      <td>0.000000</td>\n",
              "      <td>0.000000</td>\n",
              "      <td>0.000000</td>\n",
              "      <td>0.000000</td>\n",
              "      <td>1.000000</td>\n",
              "      <td>1.000000</td>\n",
              "      <td>1.000000</td>\n",
              "    </tr>\n",
              "    <tr>\n",
              "      <th>25%</th>\n",
              "      <td>0.000000</td>\n",
              "      <td>0.000000</td>\n",
              "      <td>0.000000</td>\n",
              "      <td>1.000000</td>\n",
              "      <td>24.00000</td>\n",
              "      <td>0.000000</td>\n",
              "      <td>0.000000</td>\n",
              "      <td>0.000000</td>\n",
              "      <td>0.000000</td>\n",
              "      <td>0.000000</td>\n",
              "      <td>1.000000</td>\n",
              "      <td>0.000000</td>\n",
              "      <td>1.000000</td>\n",
              "      <td>0.000000</td>\n",
              "      <td>2.000000</td>\n",
              "      <td>0.000000</td>\n",
              "      <td>0.000000</td>\n",
              "      <td>0.000000</td>\n",
              "      <td>0.000000</td>\n",
              "      <td>6.000000</td>\n",
              "      <td>4.000000</td>\n",
              "      <td>5.000000</td>\n",
              "    </tr>\n",
              "    <tr>\n",
              "      <th>50%</th>\n",
              "      <td>0.000000</td>\n",
              "      <td>0.000000</td>\n",
              "      <td>0.000000</td>\n",
              "      <td>1.000000</td>\n",
              "      <td>27.00000</td>\n",
              "      <td>0.000000</td>\n",
              "      <td>0.000000</td>\n",
              "      <td>0.000000</td>\n",
              "      <td>1.000000</td>\n",
              "      <td>1.000000</td>\n",
              "      <td>1.000000</td>\n",
              "      <td>0.000000</td>\n",
              "      <td>1.000000</td>\n",
              "      <td>0.000000</td>\n",
              "      <td>3.000000</td>\n",
              "      <td>0.000000</td>\n",
              "      <td>0.000000</td>\n",
              "      <td>0.000000</td>\n",
              "      <td>0.000000</td>\n",
              "      <td>8.000000</td>\n",
              "      <td>5.000000</td>\n",
              "      <td>6.000000</td>\n",
              "    </tr>\n",
              "    <tr>\n",
              "      <th>75%</th>\n",
              "      <td>0.000000</td>\n",
              "      <td>1.000000</td>\n",
              "      <td>1.000000</td>\n",
              "      <td>1.000000</td>\n",
              "      <td>32.00000</td>\n",
              "      <td>1.000000</td>\n",
              "      <td>0.000000</td>\n",
              "      <td>0.000000</td>\n",
              "      <td>1.000000</td>\n",
              "      <td>1.000000</td>\n",
              "      <td>1.000000</td>\n",
              "      <td>0.000000</td>\n",
              "      <td>1.000000</td>\n",
              "      <td>0.000000</td>\n",
              "      <td>3.000000</td>\n",
              "      <td>2.000000</td>\n",
              "      <td>4.000000</td>\n",
              "      <td>0.000000</td>\n",
              "      <td>1.000000</td>\n",
              "      <td>10.000000</td>\n",
              "      <td>6.000000</td>\n",
              "      <td>8.000000</td>\n",
              "    </tr>\n",
              "    <tr>\n",
              "      <th>max</th>\n",
              "      <td>2.000000</td>\n",
              "      <td>1.000000</td>\n",
              "      <td>1.000000</td>\n",
              "      <td>1.000000</td>\n",
              "      <td>98.00000</td>\n",
              "      <td>1.000000</td>\n",
              "      <td>1.000000</td>\n",
              "      <td>1.000000</td>\n",
              "      <td>1.000000</td>\n",
              "      <td>1.000000</td>\n",
              "      <td>1.000000</td>\n",
              "      <td>1.000000</td>\n",
              "      <td>1.000000</td>\n",
              "      <td>1.000000</td>\n",
              "      <td>5.000000</td>\n",
              "      <td>30.000000</td>\n",
              "      <td>30.000000</td>\n",
              "      <td>1.000000</td>\n",
              "      <td>1.000000</td>\n",
              "      <td>13.000000</td>\n",
              "      <td>6.000000</td>\n",
              "      <td>8.000000</td>\n",
              "    </tr>\n",
              "  </tbody>\n",
              "</table>\n",
              "</div>\n",
              "      <button class=\"colab-df-convert\" onclick=\"convertToInteractive('df-7a7f6353-5517-4c7c-a762-ff56714c7a5b')\"\n",
              "              title=\"Convert this dataframe to an interactive table.\"\n",
              "              style=\"display:none;\">\n",
              "        \n",
              "  <svg xmlns=\"http://www.w3.org/2000/svg\" height=\"24px\"viewBox=\"0 0 24 24\"\n",
              "       width=\"24px\">\n",
              "    <path d=\"M0 0h24v24H0V0z\" fill=\"none\"/>\n",
              "    <path d=\"M18.56 5.44l.94 2.06.94-2.06 2.06-.94-2.06-.94-.94-2.06-.94 2.06-2.06.94zm-11 1L8.5 8.5l.94-2.06 2.06-.94-2.06-.94L8.5 2.5l-.94 2.06-2.06.94zm10 10l.94 2.06.94-2.06 2.06-.94-2.06-.94-.94-2.06-.94 2.06-2.06.94z\"/><path d=\"M17.41 7.96l-1.37-1.37c-.4-.4-.92-.59-1.43-.59-.52 0-1.04.2-1.43.59L10.3 9.45l-7.72 7.72c-.78.78-.78 2.05 0 2.83L4 21.41c.39.39.9.59 1.41.59.51 0 1.02-.2 1.41-.59l7.78-7.78 2.81-2.81c.8-.78.8-2.07 0-2.86zM5.41 20L4 18.59l7.72-7.72 1.47 1.35L5.41 20z\"/>\n",
              "  </svg>\n",
              "      </button>\n",
              "      \n",
              "  <style>\n",
              "    .colab-df-container {\n",
              "      display:flex;\n",
              "      flex-wrap:wrap;\n",
              "      gap: 12px;\n",
              "    }\n",
              "\n",
              "    .colab-df-convert {\n",
              "      background-color: #E8F0FE;\n",
              "      border: none;\n",
              "      border-radius: 50%;\n",
              "      cursor: pointer;\n",
              "      display: none;\n",
              "      fill: #1967D2;\n",
              "      height: 32px;\n",
              "      padding: 0 0 0 0;\n",
              "      width: 32px;\n",
              "    }\n",
              "\n",
              "    .colab-df-convert:hover {\n",
              "      background-color: #E2EBFA;\n",
              "      box-shadow: 0px 1px 2px rgba(60, 64, 67, 0.3), 0px 1px 3px 1px rgba(60, 64, 67, 0.15);\n",
              "      fill: #174EA6;\n",
              "    }\n",
              "\n",
              "    [theme=dark] .colab-df-convert {\n",
              "      background-color: #3B4455;\n",
              "      fill: #D2E3FC;\n",
              "    }\n",
              "\n",
              "    [theme=dark] .colab-df-convert:hover {\n",
              "      background-color: #434B5C;\n",
              "      box-shadow: 0px 1px 3px 1px rgba(0, 0, 0, 0.15);\n",
              "      filter: drop-shadow(0px 1px 2px rgba(0, 0, 0, 0.3));\n",
              "      fill: #FFFFFF;\n",
              "    }\n",
              "  </style>\n",
              "\n",
              "      <script>\n",
              "        const buttonEl =\n",
              "          document.querySelector('#df-7a7f6353-5517-4c7c-a762-ff56714c7a5b button.colab-df-convert');\n",
              "        buttonEl.style.display =\n",
              "          google.colab.kernel.accessAllowed ? 'block' : 'none';\n",
              "\n",
              "        async function convertToInteractive(key) {\n",
              "          const element = document.querySelector('#df-7a7f6353-5517-4c7c-a762-ff56714c7a5b');\n",
              "          const dataTable =\n",
              "            await google.colab.kernel.invokeFunction('convertToInteractive',\n",
              "                                                     [key], {});\n",
              "          if (!dataTable) return;\n",
              "\n",
              "          const docLinkHtml = 'Like what you see? Visit the ' +\n",
              "            '<a target=\"_blank\" href=https://colab.research.google.com/notebooks/data_table.ipynb>data table notebook</a>'\n",
              "            + ' to learn more about interactive tables.';\n",
              "          element.innerHTML = '';\n",
              "          dataTable['output_type'] = 'display_data';\n",
              "          await google.colab.output.renderOutput(dataTable, element);\n",
              "          const docLink = document.createElement('div');\n",
              "          docLink.innerHTML = docLinkHtml;\n",
              "          element.appendChild(docLink);\n",
              "        }\n",
              "      </script>\n",
              "    </div>\n",
              "  </div>\n",
              "  "
            ]
          },
          "metadata": {},
          "execution_count": 12
        }
      ]
    },
    {
      "cell_type": "markdown",
      "source": [
        "**Resumo:**\n",
        "* Em medias as pessoas da pesquisa tem um BMI de **28.68**\n",
        "* Quase **metade** das pessoas entrevistadas fumam e comem fruta.\n",
        "* **73.34 %** das pessoas entrevistadas praticam **actividades fisicas** \t\n",
        "* **79.48 %** das pessoas entrevistadas comem **vegetais**\n",
        "* **Quase ninguem** consume alcool de altas proporcoes (adult men having more than 14 drinks per week and adult women having more than 7 drinks per week).\t\n",
        "* **94%** das pessoas entrevistadas usaram algum plano e/ou seguro de saude\n",
        "\n"
      ],
      "metadata": {
        "id": "B7dlHdu4rl40"
      }
    },
    {
      "cell_type": "markdown",
      "source": [
        "**Verificar se existem registos em falta (em percentagem) no dataset**"
      ],
      "metadata": {
        "id": "yUbnm3BUrq06"
      }
    },
    {
      "cell_type": "code",
      "source": [
        "nulos=(df_diabetes.isnull().sum()/df_diabetes.shape[0])*100\n",
        "nulos[nulos>0]"
      ],
      "metadata": {
        "colab": {
          "base_uri": "https://localhost:8080/"
        },
        "id": "ZtFPAO1Nrp9g",
        "outputId": "845dc861-fddb-4d0b-a65e-e801e930128f"
      },
      "execution_count": null,
      "outputs": [
        {
          "output_type": "execute_result",
          "data": {
            "text/plain": [
              "Series([], dtype: float64)"
            ]
          },
          "metadata": {},
          "execution_count": 13
        }
      ]
    },
    {
      "cell_type": "markdown",
      "source": [
        "**Resumo:**\n",
        "* Nao existem valores faltantes."
      ],
      "metadata": {
        "id": "zR3sZAVMrxJh"
      }
    },
    {
      "cell_type": "markdown",
      "source": [
        "**Verificar valores unicos**"
      ],
      "metadata": {
        "id": "Ks1Y-dShr3s0"
      }
    },
    {
      "cell_type": "code",
      "source": [
        "for col in df_diabetes.columns:\n",
        "    print(col,':', df_diabetes[col].unique(),'\\n')"
      ],
      "metadata": {
        "colab": {
          "base_uri": "https://localhost:8080/"
        },
        "id": "wt10L0z5rzqs",
        "outputId": "0adff235-a6b3-4898-ca91-aebfc819dfa0"
      },
      "execution_count": null,
      "outputs": [
        {
          "output_type": "stream",
          "name": "stdout",
          "text": [
            "Diabetes_012 : [1 0 2] \n",
            "\n",
            "HighBP : [0 1] \n",
            "\n",
            "HighChol : [1 0] \n",
            "\n",
            "CholCheck : [1 0] \n",
            "\n",
            "BMI : [33. 42. 20. 27. 35. 29. 24. 21. 45. 40. 26. 30. 43. 37. 38. 19. 32. 31.\n",
            " 28. 22. 25. 18. 47. 23. 39. 34. 36. 41. 44. 50. 16. 48. 72. 52. 63. 15.\n",
            " 46. 51. 79. 17. 14. 49. 54. 66. 53. 92. 58. 57. 55. 70. 64. 75. 73. 60.\n",
            " 77. 81. 62. 87. 71. 84. 82. 56. 67. 68. 89. 74. 98. 95. 61. 13. 59. 90.\n",
            " 12. 83. 65. 91. 86. 69. 76. 80. 88. 96. 85. 78.] \n",
            "\n",
            "Smoker : [1 0] \n",
            "\n",
            "Stroke : [0 1] \n",
            "\n",
            "HeartDiseaseorAttack : [0 1] \n",
            "\n",
            "PhysActivity : [1 0] \n",
            "\n",
            "Fruits : [1 0] \n",
            "\n",
            "Veggies : [1 0] \n",
            "\n",
            "HvyAlcoholConsump : [0 1] \n",
            "\n",
            "AnyHealthcare : [1 0] \n",
            "\n",
            "NoDocbcCost : [0 1] \n",
            "\n",
            "GenHlth : [3 5 2 1 4] \n",
            "\n",
            "MentHlth : [ 0  4 30  3 15  1  2  5  7 20 16 10  6 14  9 25 26 12 23 29 21 18 28  8\n",
            " 11 27 17 19 13 22 24] \n",
            "\n",
            "PhysHlth : [ 0 30 14 15 18  2  3 10  5 20 28  1 25  7  6  4  8 12 29 17 13 22 21 27\n",
            " 23  9 11 26 19 16 24] \n",
            "\n",
            "DiffWalk : [1 0] \n",
            "\n",
            "Sex : [0 1] \n",
            "\n",
            "Age : [ 9  8 12 11 10  7  5  4  2  6 13  1  3] \n",
            "\n",
            "Education : [5 6 4 2 3 1] \n",
            "\n",
            "Income : [3 2 8 5 6 7 4 1] \n",
            "\n"
          ]
        }
      ]
    },
    {
      "cell_type": "markdown",
      "source": [
        "**Resumo:**\n",
        "\n",
        "As colunas categoricas **MentHlth e PhysHlth** possuem **alta cardinalidade**."
      ],
      "metadata": {
        "id": "vpEf97PnsCiq"
      }
    },
    {
      "cell_type": "markdown",
      "source": [
        "# **Extraindo Insights a partir dos dados (Visualizacao de Dados)**"
      ],
      "metadata": {
        "id": "vp79exu5sIkb"
      }
    },
    {
      "cell_type": "markdown",
      "source": [
        "**Analisar a Distribuicao dos dados**"
      ],
      "metadata": {
        "id": "q4043TgLqQsv"
      }
    },
    {
      "cell_type": "code",
      "source": [
        "\n",
        "f,ax=plt.subplots(nrows=2,ncols=4,figsize=(30,5));\n",
        "\n",
        "\n",
        "sns.kdeplot(data=df_diabetes,x='BMI',ax=ax[0,0]);\n",
        "#ax[0,0].set(title='BMI')\n",
        "sns.histplot(data=df_diabetes,x='Age',ax=ax[0,1],hue='Diabetes_012');\n",
        "#ax[0,1].set(title='Age')\n",
        "sns.histplot(data=df_diabetes,x='GenHlth',ax=ax[0,2]);\n",
        "#ax[0,2].set(title='GenHlth')\n",
        "sns.kdeplot(data=df_diabetes,x='MentHlth',ax=ax[0,3]);\n",
        "#ax[0,3].set(title='MentHlth')\n",
        "sns.kdeplot(data=df_diabetes,x='PhysHlth',ax=ax[1,0]);\n",
        "#ax[1,0].set(title='PhysHlth')\n",
        "sns.histplot(data=df_diabetes,x='Education',ax=ax[1,1]);\n",
        "#ax[1,1].set(title='Education')\n",
        "sns.histplot(data=df_diabetes,x='Income',ax=ax[1,2]);\n",
        "#ax[1,2].set(title='Income')\n",
        "\n",
        "plt.tight_layout()\n",
        "plt.show()"
      ],
      "metadata": {
        "colab": {
          "base_uri": "https://localhost:8080/",
          "height": 220
        },
        "id": "2HC0nQh-qX70",
        "outputId": "1ade06ea-2fbf-42b8-991f-0d05a43a5175"
      },
      "execution_count": null,
      "outputs": [
        {
          "output_type": "display_data",
          "data": {
            "text/plain": [
              "<Figure size 2160x360 with 8 Axes>"
            ],
            "image/png": "[encoded data removed]"
          },
          "metadata": {
            "needs_background": "light"
          }
        }
      ]
    },
    {
      "cell_type": "markdown",
      "source": [
        "**1. Qual e a correlacao entre variaveis preditoras e a variavel alvo?**"
      ],
      "metadata": {
        "id": "o2Pf_xnMqVG3"
      }
    },
    {
      "cell_type": "code",
      "source": [
        "plt.figure(figsize=(20,8))\n",
        "sns.heatmap(df_diabetes.corr(),cmap='PuOr',annot=True)\n",
        "plt.show()"
      ],
      "metadata": {
        "colab": {
          "base_uri": "https://localhost:8080/",
          "height": 586
        },
        "id": "TvXSYChav4fe",
        "outputId": "b2da1820-6e9b-41d3-edc3-aa226ba0d3e3"
      },
      "execution_count": null,
      "outputs": [
        {
          "output_type": "display_data",
          "data": {
            "text/plain": [
              "<Figure size 1440x576 with 2 Axes>"
            ],
            "image/png": "[encoded data removed]"
          },
          "metadata": {
            "needs_background": "light"
          }
        }
      ]
    },
    {
      "cell_type": "markdown",
      "source": [
        "**Resumo:**\n",
        "\n",
        "*   Todas as variaveis possuem uma **correlacao fraca** entre elas.\n",
        "\n"
      ],
      "metadata": {
        "id": "3gNg4C8nwij7"
      }
    },
    {
      "cell_type": "markdown",
      "source": [
        "**2. Qual e a distribuicao dos pacientes por classe?**"
      ],
      "metadata": {
        "id": "W7buYS5Rp7TY"
      }
    },
    {
      "cell_type": "code",
      "source": [
        "balanceamento=round((df_diabetes['Diabetes_012'].value_counts()/df_diabetes['Diabetes_012'].shape[0])*100,2)\n",
        "\n",
        "balanceamento.index=balanceamento.index.map({0:'Sem Diabetes',1: 'Pre-Diabetes',2:'Diabetes'})\n",
        "\n",
        "balanceamento=balanceamento.to_frame().reset_index()\n",
        "\n",
        "balanceamento.rename(columns={'index':'Tipo','Diabetes_012':'%'},inplace=True)\n",
        "\n",
        "balanceamento"
      ],
      "metadata": {
        "colab": {
          "base_uri": "https://localhost:8080/",
          "height": 143
        },
        "id": "3zKYY7mWgKAl",
        "outputId": "c2cbea72-37a2-4b42-c6d8-fc5fea1c9a84"
      },
      "execution_count": null,
      "outputs": [
        {
          "output_type": "execute_result",
          "data": {
            "text/plain": [
              "           Tipo      %\n",
              "0  Sem Diabetes  82.71\n",
              "1      Diabetes  15.27\n",
              "2  Pre-Diabetes   2.01"
            ],
            "text/html": [
              "\n",
              "  <div id=\"df-c1b359e3-1320-49c0-aa9b-99617c1881d7\">\n",
              "    <div class=\"colab-df-container\">\n",
              "      <div>\n",
              "<style scoped>\n",
              "    .dataframe tbody tr th:only-of-type {\n",
              "        vertical-align: middle;\n",
              "    }\n",
              "\n",
              "    .dataframe tbody tr th {\n",
              "        vertical-align: top;\n",
              "    }\n",
              "\n",
              "    .dataframe thead th {\n",
              "        text-align: right;\n",
              "    }\n",
              "</style>\n",
              "<table border=\"1\" class=\"dataframe\">\n",
              "  <thead>\n",
              "    <tr style=\"text-align: right;\">\n",
              "      <th></th>\n",
              "      <th>Tipo</th>\n",
              "      <th>%</th>\n",
              "    </tr>\n",
              "  </thead>\n",
              "  <tbody>\n",
              "    <tr>\n",
              "      <th>0</th>\n",
              "      <td>Sem Diabetes</td>\n",
              "      <td>82.71</td>\n",
              "    </tr>\n",
              "    <tr>\n",
              "      <th>1</th>\n",
              "      <td>Diabetes</td>\n",
              "      <td>15.27</td>\n",
              "    </tr>\n",
              "    <tr>\n",
              "      <th>2</th>\n",
              "      <td>Pre-Diabetes</td>\n",
              "      <td>2.01</td>\n",
              "    </tr>\n",
              "  </tbody>\n",
              "</table>\n",
              "</div>\n",
              "      <button class=\"colab-df-convert\" onclick=\"convertToInteractive('df-c1b359e3-1320-49c0-aa9b-99617c1881d7')\"\n",
              "              title=\"Convert this dataframe to an interactive table.\"\n",
              "              style=\"display:none;\">\n",
              "        \n",
              "  <svg xmlns=\"http://www.w3.org/2000/svg\" height=\"24px\"viewBox=\"0 0 24 24\"\n",
              "       width=\"24px\">\n",
              "    <path d=\"M0 0h24v24H0V0z\" fill=\"none\"/>\n",
              "    <path d=\"M18.56 5.44l.94 2.06.94-2.06 2.06-.94-2.06-.94-.94-2.06-.94 2.06-2.06.94zm-11 1L8.5 8.5l.94-2.06 2.06-.94-2.06-.94L8.5 2.5l-.94 2.06-2.06.94zm10 10l.94 2.06.94-2.06 2.06-.94-2.06-.94-.94-2.06-.94 2.06-2.06.94z\"/><path d=\"M17.41 7.96l-1.37-1.37c-.4-.4-.92-.59-1.43-.59-.52 0-1.04.2-1.43.59L10.3 9.45l-7.72 7.72c-.78.78-.78 2.05 0 2.83L4 21.41c.39.39.9.59 1.41.59.51 0 1.02-.2 1.41-.59l7.78-7.78 2.81-2.81c.8-.78.8-2.07 0-2.86zM5.41 20L4 18.59l7.72-7.72 1.47 1.35L5.41 20z\"/>\n",
              "  </svg>\n",
              "      </button>\n",
              "      \n",
              "  <style>\n",
              "    .colab-df-container {\n",
              "      display:flex;\n",
              "      flex-wrap:wrap;\n",
              "      gap: 12px;\n",
              "    }\n",
              "\n",
              "    .colab-df-convert {\n",
              "      background-color: #E8F0FE;\n",
              "      border: none;\n",
              "      border-radius: 50%;\n",
              "      cursor: pointer;\n",
              "      display: none;\n",
              "      fill: #1967D2;\n",
              "      height: 32px;\n",
              "      padding: 0 0 0 0;\n",
              "      width: 32px;\n",
              "    }\n",
              "\n",
              "    .colab-df-convert:hover {\n",
              "      background-color: #E2EBFA;\n",
              "      box-shadow: 0px 1px 2px rgba(60, 64, 67, 0.3), 0px 1px 3px 1px rgba(60, 64, 67, 0.15);\n",
              "      fill: #174EA6;\n",
              "    }\n",
              "\n",
              "    [theme=dark] .colab-df-convert {\n",
              "      background-color: #3B4455;\n",
              "      fill: #D2E3FC;\n",
              "    }\n",
              "\n",
              "    [theme=dark] .colab-df-convert:hover {\n",
              "      background-color: #434B5C;\n",
              "      box-shadow: 0px 1px 3px 1px rgba(0, 0, 0, 0.15);\n",
              "      filter: drop-shadow(0px 1px 2px rgba(0, 0, 0, 0.3));\n",
              "      fill: #FFFFFF;\n",
              "    }\n",
              "  </style>\n",
              "\n",
              "      <script>\n",
              "        const buttonEl =\n",
              "          document.querySelector('#df-c1b359e3-1320-49c0-aa9b-99617c1881d7 button.colab-df-convert');\n",
              "        buttonEl.style.display =\n",
              "          google.colab.kernel.accessAllowed ? 'block' : 'none';\n",
              "\n",
              "        async function convertToInteractive(key) {\n",
              "          const element = document.querySelector('#df-c1b359e3-1320-49c0-aa9b-99617c1881d7');\n",
              "          const dataTable =\n",
              "            await google.colab.kernel.invokeFunction('convertToInteractive',\n",
              "                                                     [key], {});\n",
              "          if (!dataTable) return;\n",
              "\n",
              "          const docLinkHtml = 'Like what you see? Visit the ' +\n",
              "            '<a target=\"_blank\" href=https://colab.research.google.com/notebooks/data_table.ipynb>data table notebook</a>'\n",
              "            + ' to learn more about interactive tables.';\n",
              "          element.innerHTML = '';\n",
              "          dataTable['output_type'] = 'display_data';\n",
              "          await google.colab.output.renderOutput(dataTable, element);\n",
              "          const docLink = document.createElement('div');\n",
              "          docLink.innerHTML = docLinkHtml;\n",
              "          element.appendChild(docLink);\n",
              "        }\n",
              "      </script>\n",
              "    </div>\n",
              "  </div>\n",
              "  "
            ]
          },
          "metadata": {},
          "execution_count": 88
        }
      ]
    },
    {
      "cell_type": "code",
      "source": [
        "plt.figure(figsize=(20,6))\n",
        "colors=sns.color_palette('bright')[0:3]\n",
        "plt.pie(balanceamento['%'],labels=balanceamento['Tipo'],colors=colors,autopct='%.0f%%')\n",
        "plt.show()"
      ],
      "metadata": {
        "colab": {
          "base_uri": "https://localhost:8080/",
          "height": 357
        },
        "id": "I9dJrWR7nHeS",
        "outputId": "ad6a6533-f52a-4de3-ad49-bef8effb414e"
      },
      "execution_count": null,
      "outputs": [
        {
          "output_type": "display_data",
          "data": {
            "text/plain": [
              "<Figure size 1440x432 with 1 Axes>"
            ],
            "image/png": "[encoded data removed]"
          },
          "metadata": {}
        }
      ]
    },
    {
      "cell_type": "markdown",
      "source": [
        "**Resumo:**\n",
        "\n",
        "*   **83%** dos pacientes/entrevistados **nao tem diabetes**.\n",
        "\n"
      ],
      "metadata": {
        "id": "kUEMpOjRzzpW"
      }
    },
    {
      "cell_type": "markdown",
      "source": [
        "**Sera que o intervalo de valores do indice de massa corporal, idade, nivel de pressao arterial, nivel de colesterol e igual em cada uma das classes?**"
      ],
      "metadata": {
        "id": "mgeYh2_f2rx9"
      }
    },
    {
      "cell_type": "code",
      "source": [
        "df_sem_diabetes=df_diabetes[df_diabetes['Diabetes_012']==0]\n",
        "df_pre_diabetes=df_diabetes[df_diabetes['Diabetes_012']==1]\n",
        "df_com_diabetes=df_diabetes[df_diabetes['Diabetes_012']==2]"
      ],
      "metadata": {
        "id": "xJwHajcr4z4y"
      },
      "execution_count": null,
      "outputs": []
    },
    {
      "cell_type": "markdown",
      "source": [
        "**Comparativo do Indice de massa corporal (IMC ou em ingles BMI)**"
      ],
      "metadata": {
        "id": "WiUhXonZ202w"
      }
    },
    {
      "cell_type": "code",
      "source": [
        "fig, ax=plt.subplots(1,3,sharex=True,figsize=(20,6))\n",
        "\n",
        "sns.histplot(ax=ax[0],data=df_sem_diabetes,x='BMI',kde=True,binwidth=5)\n",
        "ax[0].set(title='Pessoas sem diabetes',yticklabels=[],ylabel=None)\n",
        "\n",
        "sns.histplot(ax=ax[1],data=df_pre_diabetes,x='BMI',kde=True,binwidth=5)\n",
        "ax[1].set(title='Pessoas pre diabetes',yticklabels=[],ylabel=None)\n",
        "\n",
        "sns.histplot(ax=ax[2],data=df_com_diabetes,x='BMI',kde=True,binwidth=5)\n",
        "ax[2].set(title='Pessoas com diabetes',yticklabels=[],ylabel=None)\n",
        "\n",
        "plt.xlim(10,85)\n",
        "plt.show()"
      ],
      "metadata": {
        "colab": {
          "base_uri": "https://localhost:8080/",
          "height": 404
        },
        "id": "AJDXTLuW2uqS",
        "outputId": "7e162594-316b-4aa1-d71b-e0b5472b061d"
      },
      "execution_count": null,
      "outputs": [
        {
          "output_type": "display_data",
          "data": {
            "text/plain": [
              "<Figure size 1440x432 with 3 Axes>"
            ],
            "image/png": "[encoded data removed]"
          },
          "metadata": {
            "needs_background": "light"
          }
        }
      ]
    },
    {
      "cell_type": "markdown",
      "source": [
        "**Resumo:**\n",
        "\n",
        "O indice de massa corporal tem o mesmo conjunto de valores para as 3 classes envolvidas."
      ],
      "metadata": {
        "id": "HJB7uQVX4erg"
      }
    },
    {
      "cell_type": "markdown",
      "source": [
        "**Comparativo da Idade**"
      ],
      "metadata": {
        "id": "6ENxj-zL47xe"
      }
    },
    {
      "cell_type": "code",
      "source": [
        "fig, ax=plt.subplots(1,3,sharex=True,figsize=(20,6))\n",
        "\n",
        "sns.histplot(ax=ax[0],data=df_sem_diabetes,x='Age',kde=False,binwidth=1)\n",
        "ax[0].set(title='Pessoas sem diabetes')\n",
        "\n",
        "sns.histplot(ax=ax[1],data=df_pre_diabetes,x='Age',kde=False,binwidth=1)\n",
        "ax[1].set(title='Pessoas pre diabetes')\n",
        "\n",
        "sns.histplot(ax=ax[2],data=df_com_diabetes,x='Age',kde=False,binwidth=1)\n",
        "ax[2].set(title='Pessoas com diabetes')\n",
        "\n",
        "plt.xlim(1,13)\n",
        "plt.show()"
      ],
      "metadata": {
        "colab": {
          "base_uri": "https://localhost:8080/",
          "height": 404
        },
        "id": "oH8bY0G_5Asa",
        "outputId": "6b3a2bd7-01cc-4931-9332-026fa6a060aa"
      },
      "execution_count": null,
      "outputs": [
        {
          "output_type": "display_data",
          "data": {
            "text/plain": [
              "<Figure size 1440x432 with 3 Axes>"
            ],
            "image/png": "[encoded data removed]"
          },
          "metadata": {
            "needs_background": "light"
          }
        }
      ]
    },
    {
      "cell_type": "markdown",
      "source": [
        "**Resumo:**\n",
        "\n",
        "* A maior parte das pessoas com **pre-diabetes e diabetes** estao em idade \n",
        "pertencentes a **categoria 6 em diante**.\n",
        "* Nao obstante, nao chegamos a nenhuma conclusao de grau de iobtencao de diabetes em funcao da idade."
      ],
      "metadata": {
        "id": "5K8nbGkf6dOA"
      }
    },
    {
      "cell_type": "markdown",
      "source": [
        "**Comparativo de pressao arterial (HighBP)**"
      ],
      "metadata": {
        "id": "YMTahYNh8FTU"
      }
    },
    {
      "cell_type": "code",
      "source": [
        "(df_sem_diabetes.HighBP.value_counts()/df_sem_diabetes.shape[0])*100\n"
      ],
      "metadata": {
        "colab": {
          "base_uri": "https://localhost:8080/"
        },
        "id": "QUhHfAFiEThw",
        "outputId": "4b805f9e-dc10-4571-9c06-5a27a478e0c6"
      },
      "execution_count": null,
      "outputs": [
        {
          "output_type": "execute_result",
          "data": {
            "text/plain": [
              "0    60.482492\n",
              "1    39.517508\n",
              "Name: HighBP, dtype: float64"
            ]
          },
          "metadata": {},
          "execution_count": 120
        }
      ]
    },
    {
      "cell_type": "code",
      "source": [
        "(df_pre_diabetes.HighBP.value_counts()/df_pre_diabetes.shape[0])*100\n"
      ],
      "metadata": {
        "colab": {
          "base_uri": "https://localhost:8080/"
        },
        "id": "bGKVgVwUEwIg",
        "outputId": "cc14e664-e69d-4ae6-b746-0b1ed4af0791"
      },
      "execution_count": null,
      "outputs": [
        {
          "output_type": "execute_result",
          "data": {
            "text/plain": [
              "1    62.907755\n",
              "0    37.092245\n",
              "Name: HighBP, dtype: float64"
            ]
          },
          "metadata": {},
          "execution_count": 121
        }
      ]
    },
    {
      "cell_type": "code",
      "source": [
        "(df_com_diabetes.HighBP.value_counts()/df_com_diabetes.shape[0])*100"
      ],
      "metadata": {
        "colab": {
          "base_uri": "https://localhost:8080/"
        },
        "id": "qzoZxg3RExIM",
        "outputId": "a3a99516-c8d0-45c8-83fc-cd9a45e48101"
      },
      "execution_count": null,
      "outputs": [
        {
          "output_type": "execute_result",
          "data": {
            "text/plain": [
              "1    75.234351\n",
              "0    24.765649\n",
              "Name: HighBP, dtype: float64"
            ]
          },
          "metadata": {},
          "execution_count": 122
        }
      ]
    },
    {
      "cell_type": "code",
      "source": [
        "sns.barplot(data=df_diabetes,\n",
        "            x='HighBP',\n",
        "            y='Diabetes_012',\n",
        "            hue='Diabetes_012',\n",
        "          )\n"
      ],
      "metadata": {
        "colab": {
          "base_uri": "https://localhost:8080/",
          "height": 296
        },
        "id": "Yu9mQ6l48QRG",
        "outputId": "73c8d8aa-7909-4939-d07a-88b032e93b9c"
      },
      "execution_count": null,
      "outputs": [
        {
          "output_type": "execute_result",
          "data": {
            "text/plain": [
              "<matplotlib.axes._subplots.AxesSubplot at 0x7fe79df79890>"
            ]
          },
          "metadata": {},
          "execution_count": 137
        },
        {
          "output_type": "display_data",
          "data": {
            "text/plain": [
              "<Figure size 432x288 with 1 Axes>"
            ],
            "image/png": "[encoded data removed]"
          },
          "metadata": {
            "needs_background": "light"
          }
        }
      ]
    },
    {
      "cell_type": "markdown",
      "source": [
        "# **Modelagem preditiva**"
      ],
      "metadata": {
        "id": "_tTNmE2YsTJU"
      }
    },
    {
      "cell_type": "markdown",
      "source": [
        "**Carregar as bibliotecas necessarias**"
      ],
      "metadata": {
        "id": "lGMuLk19sbIH"
      }
    },
    {
      "cell_type": "code",
      "source": [
        "from sklearn.model_selection import train_test_split\n",
        "from sklearn.metrics import *\n",
        "from sklearn.naive_bayes import GaussianNB"
      ],
      "metadata": {
        "id": "LRwG7qA6sWue"
      },
      "execution_count": null,
      "outputs": []
    },
    {
      "cell_type": "markdown",
      "source": [
        "**Separar os dados em treino e teste**"
      ],
      "metadata": {
        "id": "56a-LCu6sZzE"
      }
    },
    {
      "cell_type": "code",
      "source": [
        "X_train,X_test,y_train,y_test=train_test_split(df_diabetes.drop(['Diabetes_012'],axis=1),df_diabetes['Diabetes_012'],test_size=0.25,random_state=1)"
      ],
      "metadata": {
        "id": "n_vZHT1TsWlO"
      },
      "execution_count": null,
      "outputs": []
    },
    {
      "cell_type": "markdown",
      "source": [
        "**Visualizar o formato dos dados**"
      ],
      "metadata": {
        "id": "XrNcxSD2sj0G"
      }
    },
    {
      "cell_type": "code",
      "source": [
        "X_train.shape,X_test.shape"
      ],
      "metadata": {
        "colab": {
          "base_uri": "https://localhost:8080/"
        },
        "id": "sub5c7WUskrg",
        "outputId": "a8354d7e-499e-4647-cef4-a8f841ff2db8"
      },
      "execution_count": null,
      "outputs": [
        {
          "output_type": "execute_result",
          "data": {
            "text/plain": [
              "((172335, 21), (57446, 21))"
            ]
          },
          "metadata": {},
          "execution_count": 11
        }
      ]
    },
    {
      "cell_type": "markdown",
      "source": [
        "**Instanciar e treinar o Modelo Baseline**"
      ],
      "metadata": {
        "id": "97XmsxaJsrFN"
      }
    },
    {
      "cell_type": "code",
      "source": [
        "#Definir o modelo\n",
        "clf_nb=GaussianNB()\n",
        "clf_nb.fit(X_train,y_train)"
      ],
      "metadata": {
        "colab": {
          "base_uri": "https://localhost:8080/"
        },
        "id": "z_XI2oblssrB",
        "outputId": "b45b04f6-e4de-4967-8890-929075492626"
      },
      "execution_count": null,
      "outputs": [
        {
          "output_type": "execute_result",
          "data": {
            "text/plain": [
              "GaussianNB()"
            ]
          },
          "metadata": {},
          "execution_count": 12
        }
      ]
    },
    {
      "cell_type": "markdown",
      "source": [
        "**Efectuar previsoes com base em dados desconhecidos**"
      ],
      "metadata": {
        "id": "lKI7az7ErWOh"
      }
    },
    {
      "cell_type": "code",
      "source": [
        "previsoes=clf_nb.predict(X_test)"
      ],
      "metadata": {
        "id": "VOMCaYk8rP2h"
      },
      "execution_count": null,
      "outputs": []
    },
    {
      "cell_type": "markdown",
      "source": [
        "**Efectar previsoes usando baseline**"
      ],
      "metadata": {
        "id": "xNaUzA0Psz6x"
      }
    },
    {
      "cell_type": "code",
      "source": [
        "def avaliar_algoritmo(df_real,df_predito):\n",
        "    #Matriz de Confusao\n",
        "    #cm=confusion_matrix(y_test,previsoes)\n",
        "    cm=pd.crosstab(y_test,previsoes,rownames=['Real'],colnames=['Predito'],margins=True)\n",
        "    print('Matriz de Confusao:\\n')\n",
        "    print(cm,'\\n')\n",
        "    print('Classification Report:\\n')\n",
        "    #Avaliar o modelo base\n",
        "    print(classification_report(previsoes,y_test))"
      ],
      "metadata": {
        "id": "G6gZgYjxs1OK"
      },
      "execution_count": null,
      "outputs": []
    },
    {
      "cell_type": "code",
      "source": [
        "avaliar_algoritmo(y_test,previsoes)"
      ],
      "metadata": {
        "colab": {
          "base_uri": "https://localhost:8080/"
        },
        "id": "5pCE5blZs5qI",
        "outputId": "f8ed08b8-6aaf-47de-8162-51eefff4c32e"
      },
      "execution_count": null,
      "outputs": [
        {
          "output_type": "stream",
          "name": "stdout",
          "text": [
            "Matriz de Confusao:\n",
            "\n",
            "Predito      0    1      2    All\n",
            "Real                             \n",
            "0        37400  145   9913  47458\n",
            "1          658   11    502   1171\n",
            "2         3770   42   5005   8817\n",
            "All      41828  198  15420  57446 \n",
            "\n",
            "Classification Report:\n",
            "\n",
            "              precision    recall  f1-score   support\n",
            "\n",
            "           0       0.79      0.89      0.84     41828\n",
            "           1       0.01      0.06      0.02       198\n",
            "           2       0.57      0.32      0.41     15420\n",
            "\n",
            "    accuracy                           0.74     57446\n",
            "   macro avg       0.46      0.42      0.42     57446\n",
            "weighted avg       0.73      0.74      0.72     57446\n",
            "\n"
          ]
        }
      ]
    },
    {
      "cell_type": "markdown",
      "source": [
        "**Resumo:**:\n",
        "* O modelo base teve uma acuracia de **0.74** e preve a **classe 1 e 2 com uma acuracia (f1 score) inferior a 50%**."
      ],
      "metadata": {
        "id": "IwFtv8Fus_Qo"
      }
    },
    {
      "cell_type": "markdown",
      "source": [
        "**Instanciar e treinar o modelo Random Forest**"
      ],
      "metadata": {
        "id": "GBian4R-tF9r"
      }
    },
    {
      "cell_type": "code",
      "source": [
        "from sklearn.ensemble import RandomForestClassifier\n",
        "\n",
        "clf_rf=RandomForestClassifier()\n",
        "clf_rf.fit(X_train,y_train)"
      ],
      "metadata": {
        "colab": {
          "base_uri": "https://localhost:8080/"
        },
        "id": "RqAjfQAEs-du",
        "outputId": "23de4df9-d568-4278-b286-aebed6646087"
      },
      "execution_count": null,
      "outputs": [
        {
          "output_type": "execute_result",
          "data": {
            "text/plain": [
              "RandomForestClassifier()"
            ]
          },
          "metadata": {},
          "execution_count": 8
        }
      ]
    },
    {
      "cell_type": "markdown",
      "source": [
        "**Efectuar previsoes**"
      ],
      "metadata": {
        "id": "DafC0nLPtOlj"
      }
    },
    {
      "cell_type": "code",
      "source": [
        "previsoes=clf_rf.predict(X_test)"
      ],
      "metadata": {
        "id": "5tfpfLG3tRhy"
      },
      "execution_count": null,
      "outputs": []
    },
    {
      "cell_type": "markdown",
      "source": [
        "**Avaliar o modelo**"
      ],
      "metadata": {
        "id": "bcW3GbxotToq"
      }
    },
    {
      "cell_type": "code",
      "source": [
        "avaliar_algoritmo(y_test,previsoes)"
      ],
      "metadata": {
        "colab": {
          "base_uri": "https://localhost:8080/"
        },
        "id": "eeBAvSbgtVoZ",
        "outputId": "b797d603-cf62-474e-f6a2-559596c285b5"
      },
      "execution_count": null,
      "outputs": [
        {
          "output_type": "stream",
          "name": "stdout",
          "text": [
            "Matriz de Confusao:\n",
            "\n",
            "Predito      0   1     2    All\n",
            "Real                           \n",
            "0        45662  66  1730  47458\n",
            "1         1029   1   141   1171\n",
            "2         7125  14  1678   8817\n",
            "All      53816  81  3549  57446 \n",
            "\n",
            "Classification Report:\n",
            "\n",
            "              precision    recall  f1-score   support\n",
            "\n",
            "           0       0.96      0.85      0.90     53816\n",
            "           1       0.00      0.01      0.00        81\n",
            "           2       0.19      0.47      0.27      3549\n",
            "\n",
            "    accuracy                           0.82     57446\n",
            "   macro avg       0.38      0.44      0.39     57446\n",
            "weighted avg       0.91      0.82      0.86     57446\n",
            "\n"
          ]
        }
      ]
    },
    {
      "cell_type": "markdown",
      "source": [
        "**Visualizar a importancia das variaveis preditoras na previsao da variavel alvo**"
      ],
      "metadata": {
        "id": "beqeZ8tRtdcX"
      }
    },
    {
      "cell_type": "code",
      "source": [
        "#Variaveis que afectam o modelo (Escolher acima 3%)\n",
        "pd.DataFrame(clf_rf.feature_importances_.reshape(1,-1),columns=X_train.columns).T.sort_values(by=0,ascending=False)*100"
      ],
      "metadata": {
        "colab": {
          "base_uri": "https://localhost:8080/",
          "height": 708
        },
        "id": "dBpGK3WQtepw",
        "outputId": "834d9ea3-e808-448c-833c-be75531d9372"
      },
      "execution_count": null,
      "outputs": [
        {
          "output_type": "execute_result",
          "data": {
            "text/plain": [
              "                              0\n",
              "BMI                   18.426225\n",
              "Age                   12.333248\n",
              "Income                10.112030\n",
              "PhysHlth               8.529593\n",
              "Education              7.265321\n",
              "GenHlth                6.537013\n",
              "MentHlth               6.362040\n",
              "HighBP                 3.627002\n",
              "Fruits                 3.478912\n",
              "Smoker                 3.473712\n",
              "Sex                    2.905548\n",
              "Veggies                2.750739\n",
              "PhysActivity           2.744945\n",
              "HighChol               2.641753\n",
              "DiffWalk               2.206154\n",
              "HeartDiseaseorAttack   1.790474\n",
              "NoDocbcCost            1.541153\n",
              "Stroke                 1.192858\n",
              "AnyHealthcare          0.894155\n",
              "HvyAlcoholConsump      0.799575\n",
              "CholCheck              0.387549"
            ],
            "text/html": [
              "\n",
              "  <div id=\"df-38d45cfd-92d2-4a52-8f54-e9b5170741aa\">\n",
              "    <div class=\"colab-df-container\">\n",
              "      <div>\n",
              "<style scoped>\n",
              "    .dataframe tbody tr th:only-of-type {\n",
              "        vertical-align: middle;\n",
              "    }\n",
              "\n",
              "    .dataframe tbody tr th {\n",
              "        vertical-align: top;\n",
              "    }\n",
              "\n",
              "    .dataframe thead th {\n",
              "        text-align: right;\n",
              "    }\n",
              "</style>\n",
              "<table border=\"1\" class=\"dataframe\">\n",
              "  <thead>\n",
              "    <tr style=\"text-align: right;\">\n",
              "      <th></th>\n",
              "      <th>0</th>\n",
              "    </tr>\n",
              "  </thead>\n",
              "  <tbody>\n",
              "    <tr>\n",
              "      <th>BMI</th>\n",
              "      <td>18.426225</td>\n",
              "    </tr>\n",
              "    <tr>\n",
              "      <th>Age</th>\n",
              "      <td>12.333248</td>\n",
              "    </tr>\n",
              "    <tr>\n",
              "      <th>Income</th>\n",
              "      <td>10.112030</td>\n",
              "    </tr>\n",
              "    <tr>\n",
              "      <th>PhysHlth</th>\n",
              "      <td>8.529593</td>\n",
              "    </tr>\n",
              "    <tr>\n",
              "      <th>Education</th>\n",
              "      <td>7.265321</td>\n",
              "    </tr>\n",
              "    <tr>\n",
              "      <th>GenHlth</th>\n",
              "      <td>6.537013</td>\n",
              "    </tr>\n",
              "    <tr>\n",
              "      <th>MentHlth</th>\n",
              "      <td>6.362040</td>\n",
              "    </tr>\n",
              "    <tr>\n",
              "      <th>HighBP</th>\n",
              "      <td>3.627002</td>\n",
              "    </tr>\n",
              "    <tr>\n",
              "      <th>Fruits</th>\n",
              "      <td>3.478912</td>\n",
              "    </tr>\n",
              "    <tr>\n",
              "      <th>Smoker</th>\n",
              "      <td>3.473712</td>\n",
              "    </tr>\n",
              "    <tr>\n",
              "      <th>Sex</th>\n",
              "      <td>2.905548</td>\n",
              "    </tr>\n",
              "    <tr>\n",
              "      <th>Veggies</th>\n",
              "      <td>2.750739</td>\n",
              "    </tr>\n",
              "    <tr>\n",
              "      <th>PhysActivity</th>\n",
              "      <td>2.744945</td>\n",
              "    </tr>\n",
              "    <tr>\n",
              "      <th>HighChol</th>\n",
              "      <td>2.641753</td>\n",
              "    </tr>\n",
              "    <tr>\n",
              "      <th>DiffWalk</th>\n",
              "      <td>2.206154</td>\n",
              "    </tr>\n",
              "    <tr>\n",
              "      <th>HeartDiseaseorAttack</th>\n",
              "      <td>1.790474</td>\n",
              "    </tr>\n",
              "    <tr>\n",
              "      <th>NoDocbcCost</th>\n",
              "      <td>1.541153</td>\n",
              "    </tr>\n",
              "    <tr>\n",
              "      <th>Stroke</th>\n",
              "      <td>1.192858</td>\n",
              "    </tr>\n",
              "    <tr>\n",
              "      <th>AnyHealthcare</th>\n",
              "      <td>0.894155</td>\n",
              "    </tr>\n",
              "    <tr>\n",
              "      <th>HvyAlcoholConsump</th>\n",
              "      <td>0.799575</td>\n",
              "    </tr>\n",
              "    <tr>\n",
              "      <th>CholCheck</th>\n",
              "      <td>0.387549</td>\n",
              "    </tr>\n",
              "  </tbody>\n",
              "</table>\n",
              "</div>\n",
              "      <button class=\"colab-df-convert\" onclick=\"convertToInteractive('df-38d45cfd-92d2-4a52-8f54-e9b5170741aa')\"\n",
              "              title=\"Convert this dataframe to an interactive table.\"\n",
              "              style=\"display:none;\">\n",
              "        \n",
              "  <svg xmlns=\"http://www.w3.org/2000/svg\" height=\"24px\"viewBox=\"0 0 24 24\"\n",
              "       width=\"24px\">\n",
              "    <path d=\"M0 0h24v24H0V0z\" fill=\"none\"/>\n",
              "    <path d=\"M18.56 5.44l.94 2.06.94-2.06 2.06-.94-2.06-.94-.94-2.06-.94 2.06-2.06.94zm-11 1L8.5 8.5l.94-2.06 2.06-.94-2.06-.94L8.5 2.5l-.94 2.06-2.06.94zm10 10l.94 2.06.94-2.06 2.06-.94-2.06-.94-.94-2.06-.94 2.06-2.06.94z\"/><path d=\"M17.41 7.96l-1.37-1.37c-.4-.4-.92-.59-1.43-.59-.52 0-1.04.2-1.43.59L10.3 9.45l-7.72 7.72c-.78.78-.78 2.05 0 2.83L4 21.41c.39.39.9.59 1.41.59.51 0 1.02-.2 1.41-.59l7.78-7.78 2.81-2.81c.8-.78.8-2.07 0-2.86zM5.41 20L4 18.59l7.72-7.72 1.47 1.35L5.41 20z\"/>\n",
              "  </svg>\n",
              "      </button>\n",
              "      \n",
              "  <style>\n",
              "    .colab-df-container {\n",
              "      display:flex;\n",
              "      flex-wrap:wrap;\n",
              "      gap: 12px;\n",
              "    }\n",
              "\n",
              "    .colab-df-convert {\n",
              "      background-color: #E8F0FE;\n",
              "      border: none;\n",
              "      border-radius: 50%;\n",
              "      cursor: pointer;\n",
              "      display: none;\n",
              "      fill: #1967D2;\n",
              "      height: 32px;\n",
              "      padding: 0 0 0 0;\n",
              "      width: 32px;\n",
              "    }\n",
              "\n",
              "    .colab-df-convert:hover {\n",
              "      background-color: #E2EBFA;\n",
              "      box-shadow: 0px 1px 2px rgba(60, 64, 67, 0.3), 0px 1px 3px 1px rgba(60, 64, 67, 0.15);\n",
              "      fill: #174EA6;\n",
              "    }\n",
              "\n",
              "    [theme=dark] .colab-df-convert {\n",
              "      background-color: #3B4455;\n",
              "      fill: #D2E3FC;\n",
              "    }\n",
              "\n",
              "    [theme=dark] .colab-df-convert:hover {\n",
              "      background-color: #434B5C;\n",
              "      box-shadow: 0px 1px 3px 1px rgba(0, 0, 0, 0.15);\n",
              "      filter: drop-shadow(0px 1px 2px rgba(0, 0, 0, 0.3));\n",
              "      fill: #FFFFFF;\n",
              "    }\n",
              "  </style>\n",
              "\n",
              "      <script>\n",
              "        const buttonEl =\n",
              "          document.querySelector('#df-38d45cfd-92d2-4a52-8f54-e9b5170741aa button.colab-df-convert');\n",
              "        buttonEl.style.display =\n",
              "          google.colab.kernel.accessAllowed ? 'block' : 'none';\n",
              "\n",
              "        async function convertToInteractive(key) {\n",
              "          const element = document.querySelector('#df-38d45cfd-92d2-4a52-8f54-e9b5170741aa');\n",
              "          const dataTable =\n",
              "            await google.colab.kernel.invokeFunction('convertToInteractive',\n",
              "                                                     [key], {});\n",
              "          if (!dataTable) return;\n",
              "\n",
              "          const docLinkHtml = 'Like what you see? Visit the ' +\n",
              "            '<a target=\"_blank\" href=https://colab.research.google.com/notebooks/data_table.ipynb>data table notebook</a>'\n",
              "            + ' to learn more about interactive tables.';\n",
              "          element.innerHTML = '';\n",
              "          dataTable['output_type'] = 'display_data';\n",
              "          await google.colab.output.renderOutput(dataTable, element);\n",
              "          const docLink = document.createElement('div');\n",
              "          docLink.innerHTML = docLinkHtml;\n",
              "          element.appendChild(docLink);\n",
              "        }\n",
              "      </script>\n",
              "    </div>\n",
              "  </div>\n",
              "  "
            ]
          },
          "metadata": {},
          "execution_count": 20
        }
      ]
    },
    {
      "cell_type": "code",
      "source": [
        "#plt.figure(figsize=(30,6))\n",
        "pd.DataFrame(clf_rf.feature_importances_.reshape(1,-1),columns=X_train.columns).T.sort_values(by=0,ascending=True).plot(kind='barh')\n",
        "#plt.show()"
      ],
      "metadata": {
        "colab": {
          "base_uri": "https://localhost:8080/",
          "height": 283
        },
        "id": "MD-OT5IvtlGE",
        "outputId": "c8c08763-204c-475f-af55-4b6d3ccb510b"
      },
      "execution_count": null,
      "outputs": [
        {
          "output_type": "execute_result",
          "data": {
            "text/plain": [
              "<matplotlib.axes._subplots.AxesSubplot at 0x7fc978e99850>"
            ]
          },
          "metadata": {},
          "execution_count": 38
        },
        {
          "output_type": "display_data",
          "data": {
            "text/plain": [
              "<Figure size 432x288 with 1 Axes>"
            ],
            "image/png": "[encoded data removed]"
          },
          "metadata": {
            "needs_background": "light"
          }
        }
      ]
    },
    {
      "cell_type": "markdown",
      "source": [
        "**Excluir colunas em que o grau de importancia para o modelo esta abaixo de 3%**"
      ],
      "metadata": {
        "id": "RiAGxd8ktoa6"
      }
    },
    {
      "cell_type": "code",
      "source": [
        "feature_imp=pd.DataFrame(clf_rf.feature_importances_.reshape(1,-1),columns=X_train.columns).T.sort_values(by=0,ascending=False)\n",
        "\n",
        "colunas=feature_imp[feature_imp[0]>0.03].index\n",
        "\n",
        "colunas"
      ],
      "metadata": {
        "colab": {
          "base_uri": "https://localhost:8080/"
        },
        "id": "XsOno8sHtqlH",
        "outputId": "28fa527b-8b23-4b63-c751-59086a43a61a"
      },
      "execution_count": null,
      "outputs": [
        {
          "output_type": "execute_result",
          "data": {
            "text/plain": [
              "Index(['BMI', 'Age', 'Income', 'PhysHlth', 'Education', 'GenHlth', 'MentHlth',\n",
              "       'HighBP', 'Smoker', 'Fruits'],\n",
              "      dtype='object')"
            ]
          },
          "metadata": {},
          "execution_count": 9
        }
      ]
    },
    {
      "cell_type": "markdown",
      "source": [
        "# **Tratar Classes Desbalanceadas**"
      ],
      "metadata": {
        "id": "WGrxABDMttIP"
      }
    },
    {
      "cell_type": "markdown",
      "source": [
        "**Importar as principais tecnicas de under_sampling e over_sampling**"
      ],
      "metadata": {
        "id": "jxvikDC4sdHs"
      }
    },
    {
      "cell_type": "code",
      "source": [
        "from imblearn.under_sampling import NearMiss\n",
        "from imblearn.over_sampling import SMOTE"
      ],
      "metadata": {
        "id": "NNzFsyaGtw5Z"
      },
      "execution_count": null,
      "outputs": []
    },
    {
      "cell_type": "markdown",
      "source": [
        "**Separar os dados em varuaveis preditoras e variaveis alvo**"
      ],
      "metadata": {
        "id": "bT8uhgcTt0ZD"
      }
    },
    {
      "cell_type": "code",
      "source": [
        "X=df_diabetes[colunas]\n",
        "y=df_diabetes['Diabetes_012']"
      ],
      "metadata": {
        "id": "0O1UlcGetzxS"
      },
      "execution_count": null,
      "outputs": []
    },
    {
      "cell_type": "markdown",
      "source": [
        "**NearMiss**"
      ],
      "metadata": {
        "id": "TB5S-uURt50a"
      }
    },
    {
      "cell_type": "code",
      "source": [
        "#Instanciar o NearMiss\n",
        "nr=NearMiss()\n",
        "\n",
        "#Efectuar o resample\n",
        "X_near,y_near=nr.fit_resample(X,y)"
      ],
      "metadata": {
        "id": "S-fhaC84t9jp"
      },
      "execution_count": null,
      "outputs": []
    },
    {
      "cell_type": "markdown",
      "source": [
        "**Contar o numero de registos por classe**"
      ],
      "metadata": {
        "id": "zqzUhm0WuG89"
      }
    },
    {
      "cell_type": "code",
      "source": [
        "np.bincount(y_near)"
      ],
      "metadata": {
        "colab": {
          "base_uri": "https://localhost:8080/"
        },
        "id": "0CbW_8OJuJA6",
        "outputId": "2762627b-180e-41e8-9eb5-1652f3041c44"
      },
      "execution_count": null,
      "outputs": [
        {
          "output_type": "execute_result",
          "data": {
            "text/plain": [
              "array([4629, 4629, 4629])"
            ]
          },
          "metadata": {},
          "execution_count": 37
        }
      ]
    },
    {
      "cell_type": "markdown",
      "source": [
        "**Separar os dados em treino e teste**"
      ],
      "metadata": {
        "id": "MiRlg1VquLTZ"
      }
    },
    {
      "cell_type": "code",
      "source": [
        "X_train,X_test,y_train,y_test=train_test_split(X_near,y_near,test_size=0.25)"
      ],
      "metadata": {
        "id": "Il1A4vytuNd_",
        "colab": {
          "base_uri": "https://localhost:8080/",
          "height": 172
        },
        "outputId": "0f0104e0-a4e6-40cb-a39b-9ec15dd69ed8"
      },
      "execution_count": null,
      "outputs": [
        {
          "output_type": "error",
          "ename": "NameError",
          "evalue": "ignored",
          "traceback": [
            "\u001b[0;31m---------------------------------------------------------------------------\u001b[0m",
            "\u001b[0;31mNameError\u001b[0m                                 Traceback (most recent call last)",
            "\u001b[0;32m<ipython-input-18-c95565476ba1>\u001b[0m in \u001b[0;36m<module>\u001b[0;34m()\u001b[0m\n\u001b[0;32m----> 1\u001b[0;31m \u001b[0mX_train\u001b[0m\u001b[0;34m,\u001b[0m\u001b[0mX_test\u001b[0m\u001b[0;34m,\u001b[0m\u001b[0my_train\u001b[0m\u001b[0;34m,\u001b[0m\u001b[0my_test\u001b[0m\u001b[0;34m=\u001b[0m\u001b[0mtrain_test_split\u001b[0m\u001b[0;34m(\u001b[0m\u001b[0mX_near\u001b[0m\u001b[0;34m,\u001b[0m\u001b[0my_near\u001b[0m\u001b[0;34m,\u001b[0m\u001b[0mtest_size\u001b[0m\u001b[0;34m=\u001b[0m\u001b[0;36m0.25\u001b[0m\u001b[0;34m)\u001b[0m\u001b[0;34m\u001b[0m\u001b[0;34m\u001b[0m\u001b[0m\n\u001b[0m",
            "\u001b[0;31mNameError\u001b[0m: name 'X_near' is not defined"
          ]
        }
      ]
    },
    {
      "cell_type": "markdown",
      "source": [
        "**Treinar o modelo com dados balanceados pelo NearMiss**"
      ],
      "metadata": {
        "id": "keZIjp_TuQNJ"
      }
    },
    {
      "cell_type": "code",
      "source": [
        "clf_rf.fit(X_train[colunas],y_train)"
      ],
      "metadata": {
        "colab": {
          "base_uri": "https://localhost:8080/"
        },
        "id": "ZfDC8H_wuWhp",
        "outputId": "f47fed61-767d-45c3-ae1e-507e53f6074b"
      },
      "execution_count": null,
      "outputs": [
        {
          "output_type": "execute_result",
          "data": {
            "text/plain": [
              "RandomForestClassifier()"
            ]
          },
          "metadata": {},
          "execution_count": 39
        }
      ]
    },
    {
      "cell_type": "markdown",
      "source": [
        "**Prever a classe usando dados de teste**"
      ],
      "metadata": {
        "id": "5mIlKAG1uaiU"
      }
    },
    {
      "cell_type": "code",
      "source": [
        "previsoes=clf_rf.predict(X_test[colunas])"
      ],
      "metadata": {
        "id": "RfR-hA-GudQK"
      },
      "execution_count": null,
      "outputs": []
    },
    {
      "cell_type": "markdown",
      "source": [
        "**Avaliar o modelo**"
      ],
      "metadata": {
        "id": "5t80bFYUufFO"
      }
    },
    {
      "cell_type": "code",
      "source": [
        "avaliar_algoritmo(y_test,previsoes)"
      ],
      "metadata": {
        "colab": {
          "base_uri": "https://localhost:8080/"
        },
        "id": "eaiNQZceuhF_",
        "outputId": "26bad896-f3f9-41b7-e1f7-8d05f1b71d80"
      },
      "execution_count": null,
      "outputs": [
        {
          "output_type": "stream",
          "name": "stdout",
          "text": [
            "Matriz de Confusao:\n",
            "\n",
            "Predito     0    1     2   All\n",
            "Real                          \n",
            "0         917   78   133  1128\n",
            "1         219  809   172  1200\n",
            "2         323  110   711  1144\n",
            "All      1459  997  1016  3472 \n",
            "\n",
            "Classification Report:\n",
            "\n",
            "              precision    recall  f1-score   support\n",
            "\n",
            "           0       0.81      0.63      0.71      1459\n",
            "           1       0.67      0.81      0.74       997\n",
            "           2       0.62      0.70      0.66      1016\n",
            "\n",
            "    accuracy                           0.70      3472\n",
            "   macro avg       0.70      0.71      0.70      3472\n",
            "weighted avg       0.72      0.70      0.70      3472\n",
            "\n"
          ]
        }
      ]
    },
    {
      "cell_type": "markdown",
      "source": [
        "**SMOTE**"
      ],
      "metadata": {
        "id": "E27GPABcuku5"
      }
    },
    {
      "cell_type": "markdown",
      "source": [
        "**Instanciar o smote**"
      ],
      "metadata": {
        "id": "Ac9jtNxHizDJ"
      }
    },
    {
      "cell_type": "code",
      "source": [
        "#strategic=0.5\n",
        "#sampling_strategy = {0: 190055, 1: 10000, 2: 10000}\n",
        "smt=SMOTE(random_state=1)"
      ],
      "metadata": {
        "id": "Jza5kAYEiuYR"
      },
      "execution_count": null,
      "outputs": []
    },
    {
      "cell_type": "markdown",
      "source": [
        "**Efectuar o resample**"
      ],
      "metadata": {
        "id": "3SOppuJ0i4BT"
      }
    },
    {
      "cell_type": "code",
      "source": [
        "X_over,y_over=smt.fit_resample(X,y)"
      ],
      "metadata": {
        "id": "zK5w7spYi2s8"
      },
      "execution_count": null,
      "outputs": []
    },
    {
      "cell_type": "markdown",
      "source": [
        "**Verificar se as classes estao balanceadas**"
      ],
      "metadata": {
        "id": "KI8sV2UDjL2s"
      }
    },
    {
      "cell_type": "code",
      "source": [
        "np.bincount(y_over)"
      ],
      "metadata": {
        "colab": {
          "base_uri": "https://localhost:8080/"
        },
        "id": "lcZuNxzHjMev",
        "outputId": "8b778184-b244-4fa7-c898-28adf78a9ed9"
      },
      "execution_count": null,
      "outputs": [
        {
          "output_type": "execute_result",
          "data": {
            "text/plain": [
              "array([190055, 190055, 190055])"
            ]
          },
          "metadata": {},
          "execution_count": 22
        }
      ]
    },
    {
      "cell_type": "markdown",
      "source": [
        "**Dividir os dados em treino e teste**"
      ],
      "metadata": {
        "id": "13EjQ8rHjPI-"
      }
    },
    {
      "cell_type": "code",
      "source": [
        "X_train,X_test,y_train,y_test=train_test_split(X_over,y_over,test_size=0.25,random_state=1)"
      ],
      "metadata": {
        "id": "RGDhJDXpjTHZ"
      },
      "execution_count": null,
      "outputs": []
    },
    {
      "cell_type": "markdown",
      "source": [
        "**Treinar o modelo usando as colunas com relevancia superior a 3%**"
      ],
      "metadata": {
        "id": "XPFl5JGYjZ3x"
      }
    },
    {
      "cell_type": "code",
      "source": [
        "clf_rf.fit(X_train[colunas],y_train)"
      ],
      "metadata": {
        "colab": {
          "base_uri": "https://localhost:8080/"
        },
        "id": "yXWdGzlMjae9",
        "outputId": "b093a64c-078f-4409-fd18-4fd63317c8f2"
      },
      "execution_count": null,
      "outputs": [
        {
          "output_type": "execute_result",
          "data": {
            "text/plain": [
              "RandomForestClassifier()"
            ]
          },
          "metadata": {},
          "execution_count": 24
        }
      ]
    },
    {
      "cell_type": "markdown",
      "source": [
        "**Prever a classe usando as colunas com relevancia superior a 3% nos dados de teste**"
      ],
      "metadata": {
        "id": "k5cn-_akjeKd"
      }
    },
    {
      "cell_type": "code",
      "source": [
        "previsoes=clf_rf.predict(X_test[colunas])"
      ],
      "metadata": {
        "id": "JkOWRZpvjg5w"
      },
      "execution_count": null,
      "outputs": []
    },
    {
      "cell_type": "markdown",
      "source": [
        "**Avaliar o modelo**"
      ],
      "metadata": {
        "id": "wlQ610I9jnDJ"
      }
    },
    {
      "cell_type": "code",
      "source": [
        "avaliar_algoritmo(y_test,previsoes)"
      ],
      "metadata": {
        "colab": {
          "base_uri": "https://localhost:8080/"
        },
        "id": "pOxABLRGjlsg",
        "outputId": "ad661dd3-d63e-49fc-9da5-33d6cf64910c"
      },
      "execution_count": null,
      "outputs": [
        {
          "output_type": "stream",
          "name": "stdout",
          "text": [
            "Matriz de Confusao:\n",
            "\n",
            "Predito      0      1      2     All\n",
            "Real                                \n",
            "0        36363   2178   8888   47429\n",
            "1          802  46198    890   47890\n",
            "2         5173   1492  40558   47223\n",
            "All      42338  49868  50336  142542 \n",
            "\n",
            "Classification Report:\n",
            "\n",
            "              precision    recall  f1-score   support\n",
            "\n",
            "           0       0.77      0.86      0.81     42338\n",
            "           1       0.96      0.93      0.95     49868\n",
            "           2       0.86      0.81      0.83     50336\n",
            "\n",
            "    accuracy                           0.86    142542\n",
            "   macro avg       0.86      0.86      0.86    142542\n",
            "weighted avg       0.87      0.86      0.86    142542\n",
            "\n"
          ]
        }
      ]
    },
    {
      "cell_type": "markdown",
      "source": [
        "# **PYCARET**"
      ],
      "metadata": {
        "id": "Cyc0iAfsjviC"
      }
    },
    {
      "cell_type": "markdown",
      "source": [
        "**Instalar o pycaret**"
      ],
      "metadata": {
        "id": "M4Gr4sGhjxm_"
      }
    },
    {
      "cell_type": "code",
      "source": [
        "!pip install -q pycaret #==2.3.6"
      ],
      "metadata": {
        "id": "pVkrgMHqj4SJ"
      },
      "execution_count": null,
      "outputs": []
    },
    {
      "cell_type": "code",
      "source": [
        "#print('Pycaret:',pycaret.__version__)\n",
        "#print('Scikit:',sklearn.__version__)"
      ],
      "metadata": {
        "id": "r4XoDf83xsgR"
      },
      "execution_count": null,
      "outputs": []
    },
    {
      "cell_type": "code",
      "source": [
        "#!pip install scikit-learn==0.23.2"
      ],
      "metadata": {
        "colab": {
          "base_uri": "https://localhost:8080/"
        },
        "id": "2eyiwN2mwrLE",
        "outputId": "1dce45dd-6857-4f94-9f73-623d8c3f2e94"
      },
      "execution_count": null,
      "outputs": [
        {
          "output_type": "stream",
          "name": "stdout",
          "text": [
            "Requirement already satisfied: scikit-learn==0.23.2 in /usr/local/lib/python3.7/dist-packages (0.23.2)\n",
            "Requirement already satisfied: joblib>=0.11 in /usr/local/lib/python3.7/dist-packages (from scikit-learn==0.23.2) (1.0.1)\n",
            "Requirement already satisfied: threadpoolctl>=2.0.0 in /usr/local/lib/python3.7/dist-packages (from scikit-learn==0.23.2) (3.1.0)\n",
            "Requirement already satisfied: scipy>=0.19.1 in /usr/local/lib/python3.7/dist-packages (from scikit-learn==0.23.2) (1.5.4)\n",
            "Requirement already satisfied: numpy>=1.13.3 in /usr/local/lib/python3.7/dist-packages (from scikit-learn==0.23.2) (1.19.5)\n"
          ]
        }
      ]
    },
    {
      "cell_type": "markdown",
      "source": [
        "**Importar a biblioteca para tarefa de classificacao**"
      ],
      "metadata": {
        "id": "040IfHW1j3Dw"
      }
    },
    {
      "cell_type": "code",
      "source": [
        "from pycaret.classification import *"
      ],
      "metadata": {
        "colab": {
          "base_uri": "https://localhost:8080/"
        },
        "id": "omAaVdz-j-yd",
        "outputId": "ba2876cf-fb1f-4bad-986d-621995440467"
      },
      "execution_count": null,
      "outputs": [
        {
          "output_type": "stream",
          "name": "stderr",
          "text": [
            "/usr/local/lib/python3.7/dist-packages/distributed/config.py:20: YAMLLoadWarning: calling yaml.load() without Loader=... is deprecated, as the default Loader is unsafe. Please read https://msg.pyyaml.org/load for full details.\n",
            "  defaults = yaml.load(f)\n"
          ]
        }
      ]
    },
    {
      "cell_type": "code",
      "source": [
        "#X_over.Education.unique()\n",
        "X_over.GenHlth.unique() "
      ],
      "metadata": {
        "colab": {
          "base_uri": "https://localhost:8080/"
        },
        "id": "FGHerIx5tdmr",
        "outputId": "afafd6fc-c326-4f28-9e47-bde650151051"
      },
      "execution_count": null,
      "outputs": [
        {
          "output_type": "execute_result",
          "data": {
            "text/plain": [
              "array([3, 5, 2, 1, 4], dtype=int8)"
            ]
          },
          "metadata": {},
          "execution_count": 52
        }
      ]
    },
    {
      "cell_type": "markdown",
      "source": [
        "**Configurar as tecnicas de pre-processamento dos dados**"
      ],
      "metadata": {
        "id": "fWp2lut5kGdP"
      }
    },
    {
      "cell_type": "markdown",
      "source": [
        "Experimento 1"
      ],
      "metadata": {
        "id": "Kgxrle2OkSNA"
      }
    },
    {
      "cell_type": "code",
      "source": [
        "#Usando SMOTE\n",
        "clf_diabetes=setup(data=pd.concat([X_over,y_over],axis=1),\n",
        "                   target='Diabetes_012',\n",
        "                   numeric_features=['BMI','Age','Income','PhysHlth','GenHlth','HighBP','Fruits','Smoker','Education'],\n",
        "                   high_cardinality_features=['MentHlth'],\n",
        "                   use_gpu=True,\n",
        "                   normalize=True,\n",
        "                   session_id=123\n",
        "                   )"
      ],
      "metadata": {
        "colab": {
          "base_uri": "https://localhost:8080/",
          "height": 1000,
          "referenced_widgets": [
            "b4053a9c78e841b18bfff8874a8a7b3b",
            "e1238e8b90ae4873ac8fc644b6b66884",
            "67aaba3412fe47349170c5736fdb3515",
            "a09a3b365fd84dccb1bd9d203ae18bec",
            "e36a6493f2ab4ca289212db687578101",
            "b393b25ee29740e3924d3ab0541cf271"
          ]
        },
        "id": "RfWSwqIDkBHq",
        "outputId": "cbc6a28a-cebe-4737-c167-c68b65079207"
      },
      "execution_count": null,
      "outputs": [
        {
          "output_type": "display_data",
          "data": {
            "text/plain": [
              "                               Description             Value\n",
              "0                               session_id               123\n",
              "1                                   Target      Diabetes_012\n",
              "2                              Target Type        Multiclass\n",
              "3                            Label Encoded              None\n",
              "4                            Original Data      (570165, 11)\n",
              "5                           Missing Values             False\n",
              "6                         Numeric Features                10\n",
              "7                     Categorical Features                 0\n",
              "8                         Ordinal Features             False\n",
              "9                High Cardinality Features              True\n",
              "10                 High Cardinality Method         frequency\n",
              "11                   Transformed Train Set      (399115, 10)\n",
              "12                    Transformed Test Set      (171050, 10)\n",
              "13                      Shuffle Train-Test              True\n",
              "14                     Stratify Train-Test             False\n",
              "15                          Fold Generator   StratifiedKFold\n",
              "16                             Fold Number                10\n",
              "17                                CPU Jobs                -1\n",
              "18                                 Use GPU              True\n",
              "19                          Log Experiment             False\n",
              "20                         Experiment Name  clf-default-name\n",
              "21                                     USI              36f8\n",
              "22                         Imputation Type            simple\n",
              "23          Iterative Imputation Iteration              None\n",
              "24                         Numeric Imputer              mean\n",
              "25      Iterative Imputation Numeric Model              None\n",
              "26                     Categorical Imputer          constant\n",
              "27  Iterative Imputation Categorical Model              None\n",
              "28           Unknown Categoricals Handling    least_frequent\n",
              "29                               Normalize              True\n",
              "30                        Normalize Method            zscore\n",
              "31                          Transformation             False\n",
              "32                   Transformation Method              None\n",
              "33                                     PCA             False\n",
              "34                              PCA Method              None\n",
              "35                          PCA Components              None\n",
              "36                     Ignore Low Variance             False\n",
              "37                     Combine Rare Levels             False\n",
              "38                    Rare Level Threshold              None\n",
              "39                         Numeric Binning             False\n",
              "40                         Remove Outliers             False\n",
              "41                      Outliers Threshold              None\n",
              "42                Remove Multicollinearity             False\n",
              "43             Multicollinearity Threshold              None\n",
              "44             Remove Perfect Collinearity              True\n",
              "45                              Clustering             False\n",
              "46                    Clustering Iteration              None\n",
              "47                     Polynomial Features             False\n",
              "48                       Polynomial Degree              None\n",
              "49                    Trignometry Features             False\n",
              "50                    Polynomial Threshold              None\n",
              "51                          Group Features             False\n",
              "52                       Feature Selection             False\n",
              "53                Feature Selection Method           classic\n",
              "54            Features Selection Threshold              None\n",
              "55                     Feature Interaction             False\n",
              "56                           Feature Ratio             False\n",
              "57                   Interaction Threshold              None\n",
              "58                           Fix Imbalance             False\n",
              "59                    Fix Imbalance Method             SMOTE"
            ],
            "text/html": [
              "\n",
              "  <div id=\"df-88c9e669-22e5-4533-af86-989fa34bdc7b\">\n",
              "    <div class=\"colab-df-container\">\n",
              "      <div>\n",
              "<style scoped>\n",
              "    .dataframe tbody tr th:only-of-type {\n",
              "        vertical-align: middle;\n",
              "    }\n",
              "\n",
              "    .dataframe tbody tr th {\n",
              "        vertical-align: top;\n",
              "    }\n",
              "\n",
              "    .dataframe thead th {\n",
              "        text-align: right;\n",
              "    }\n",
              "</style>\n",
              "<table border=\"1\" class=\"dataframe\">\n",
              "  <thead>\n",
              "    <tr style=\"text-align: right;\">\n",
              "      <th></th>\n",
              "      <th>Description</th>\n",
              "      <th>Value</th>\n",
              "    </tr>\n",
              "  </thead>\n",
              "  <tbody>\n",
              "    <tr>\n",
              "      <th>0</th>\n",
              "      <td>session_id</td>\n",
              "      <td>123</td>\n",
              "    </tr>\n",
              "    <tr>\n",
              "      <th>1</th>\n",
              "      <td>Target</td>\n",
              "      <td>Diabetes_012</td>\n",
              "    </tr>\n",
              "    <tr>\n",
              "      <th>2</th>\n",
              "      <td>Target Type</td>\n",
              "      <td>Multiclass</td>\n",
              "    </tr>\n",
              "    <tr>\n",
              "      <th>3</th>\n",
              "      <td>Label Encoded</td>\n",
              "      <td>None</td>\n",
              "    </tr>\n",
              "    <tr>\n",
              "      <th>4</th>\n",
              "      <td>Original Data</td>\n",
              "      <td>(570165, 11)</td>\n",
              "    </tr>\n",
              "    <tr>\n",
              "      <th>5</th>\n",
              "      <td>Missing Values</td>\n",
              "      <td>False</td>\n",
              "    </tr>\n",
              "    <tr>\n",
              "      <th>6</th>\n",
              "      <td>Numeric Features</td>\n",
              "      <td>10</td>\n",
              "    </tr>\n",
              "    <tr>\n",
              "      <th>7</th>\n",
              "      <td>Categorical Features</td>\n",
              "      <td>0</td>\n",
              "    </tr>\n",
              "    <tr>\n",
              "      <th>8</th>\n",
              "      <td>Ordinal Features</td>\n",
              "      <td>False</td>\n",
              "    </tr>\n",
              "    <tr>\n",
              "      <th>9</th>\n",
              "      <td>High Cardinality Features</td>\n",
              "      <td>True</td>\n",
              "    </tr>\n",
              "    <tr>\n",
              "      <th>10</th>\n",
              "      <td>High Cardinality Method</td>\n",
              "      <td>frequency</td>\n",
              "    </tr>\n",
              "    <tr>\n",
              "      <th>11</th>\n",
              "      <td>Transformed Train Set</td>\n",
              "      <td>(399115, 10)</td>\n",
              "    </tr>\n",
              "    <tr>\n",
              "      <th>12</th>\n",
              "      <td>Transformed Test Set</td>\n",
              "      <td>(171050, 10)</td>\n",
              "    </tr>\n",
              "    <tr>\n",
              "      <th>13</th>\n",
              "      <td>Shuffle Train-Test</td>\n",
              "      <td>True</td>\n",
              "    </tr>\n",
              "    <tr>\n",
              "      <th>14</th>\n",
              "      <td>Stratify Train-Test</td>\n",
              "      <td>False</td>\n",
              "    </tr>\n",
              "    <tr>\n",
              "      <th>15</th>\n",
              "      <td>Fold Generator</td>\n",
              "      <td>StratifiedKFold</td>\n",
              "    </tr>\n",
              "    <tr>\n",
              "      <th>16</th>\n",
              "      <td>Fold Number</td>\n",
              "      <td>10</td>\n",
              "    </tr>\n",
              "    <tr>\n",
              "      <th>17</th>\n",
              "      <td>CPU Jobs</td>\n",
              "      <td>-1</td>\n",
              "    </tr>\n",
              "    <tr>\n",
              "      <th>18</th>\n",
              "      <td>Use GPU</td>\n",
              "      <td>True</td>\n",
              "    </tr>\n",
              "    <tr>\n",
              "      <th>19</th>\n",
              "      <td>Log Experiment</td>\n",
              "      <td>False</td>\n",
              "    </tr>\n",
              "    <tr>\n",
              "      <th>20</th>\n",
              "      <td>Experiment Name</td>\n",
              "      <td>clf-default-name</td>\n",
              "    </tr>\n",
              "    <tr>\n",
              "      <th>21</th>\n",
              "      <td>USI</td>\n",
              "      <td>36f8</td>\n",
              "    </tr>\n",
              "    <tr>\n",
              "      <th>22</th>\n",
              "      <td>Imputation Type</td>\n",
              "      <td>simple</td>\n",
              "    </tr>\n",
              "    <tr>\n",
              "      <th>23</th>\n",
              "      <td>Iterative Imputation Iteration</td>\n",
              "      <td>None</td>\n",
              "    </tr>\n",
              "    <tr>\n",
              "      <th>24</th>\n",
              "      <td>Numeric Imputer</td>\n",
              "      <td>mean</td>\n",
              "    </tr>\n",
              "    <tr>\n",
              "      <th>25</th>\n",
              "      <td>Iterative Imputation Numeric Model</td>\n",
              "      <td>None</td>\n",
              "    </tr>\n",
              "    <tr>\n",
              "      <th>26</th>\n",
              "      <td>Categorical Imputer</td>\n",
              "      <td>constant</td>\n",
              "    </tr>\n",
              "    <tr>\n",
              "      <th>27</th>\n",
              "      <td>Iterative Imputation Categorical Model</td>\n",
              "      <td>None</td>\n",
              "    </tr>\n",
              "    <tr>\n",
              "      <th>28</th>\n",
              "      <td>Unknown Categoricals Handling</td>\n",
              "      <td>least_frequent</td>\n",
              "    </tr>\n",
              "    <tr>\n",
              "      <th>29</th>\n",
              "      <td>Normalize</td>\n",
              "      <td>True</td>\n",
              "    </tr>\n",
              "    <tr>\n",
              "      <th>30</th>\n",
              "      <td>Normalize Method</td>\n",
              "      <td>zscore</td>\n",
              "    </tr>\n",
              "    <tr>\n",
              "      <th>31</th>\n",
              "      <td>Transformation</td>\n",
              "      <td>False</td>\n",
              "    </tr>\n",
              "    <tr>\n",
              "      <th>32</th>\n",
              "      <td>Transformation Method</td>\n",
              "      <td>None</td>\n",
              "    </tr>\n",
              "    <tr>\n",
              "      <th>33</th>\n",
              "      <td>PCA</td>\n",
              "      <td>False</td>\n",
              "    </tr>\n",
              "    <tr>\n",
              "      <th>34</th>\n",
              "      <td>PCA Method</td>\n",
              "      <td>None</td>\n",
              "    </tr>\n",
              "    <tr>\n",
              "      <th>35</th>\n",
              "      <td>PCA Components</td>\n",
              "      <td>None</td>\n",
              "    </tr>\n",
              "    <tr>\n",
              "      <th>36</th>\n",
              "      <td>Ignore Low Variance</td>\n",
              "      <td>False</td>\n",
              "    </tr>\n",
              "    <tr>\n",
              "      <th>37</th>\n",
              "      <td>Combine Rare Levels</td>\n",
              "      <td>False</td>\n",
              "    </tr>\n",
              "    <tr>\n",
              "      <th>38</th>\n",
              "      <td>Rare Level Threshold</td>\n",
              "      <td>None</td>\n",
              "    </tr>\n",
              "    <tr>\n",
              "      <th>39</th>\n",
              "      <td>Numeric Binning</td>\n",
              "      <td>False</td>\n",
              "    </tr>\n",
              "    <tr>\n",
              "      <th>40</th>\n",
              "      <td>Remove Outliers</td>\n",
              "      <td>False</td>\n",
              "    </tr>\n",
              "    <tr>\n",
              "      <th>41</th>\n",
              "      <td>Outliers Threshold</td>\n",
              "      <td>None</td>\n",
              "    </tr>\n",
              "    <tr>\n",
              "      <th>42</th>\n",
              "      <td>Remove Multicollinearity</td>\n",
              "      <td>False</td>\n",
              "    </tr>\n",
              "    <tr>\n",
              "      <th>43</th>\n",
              "      <td>Multicollinearity Threshold</td>\n",
              "      <td>None</td>\n",
              "    </tr>\n",
              "    <tr>\n",
              "      <th>44</th>\n",
              "      <td>Remove Perfect Collinearity</td>\n",
              "      <td>True</td>\n",
              "    </tr>\n",
              "    <tr>\n",
              "      <th>45</th>\n",
              "      <td>Clustering</td>\n",
              "      <td>False</td>\n",
              "    </tr>\n",
              "    <tr>\n",
              "      <th>46</th>\n",
              "      <td>Clustering Iteration</td>\n",
              "      <td>None</td>\n",
              "    </tr>\n",
              "    <tr>\n",
              "      <th>47</th>\n",
              "      <td>Polynomial Features</td>\n",
              "      <td>False</td>\n",
              "    </tr>\n",
              "    <tr>\n",
              "      <th>48</th>\n",
              "      <td>Polynomial Degree</td>\n",
              "      <td>None</td>\n",
              "    </tr>\n",
              "    <tr>\n",
              "      <th>49</th>\n",
              "      <td>Trignometry Features</td>\n",
              "      <td>False</td>\n",
              "    </tr>\n",
              "    <tr>\n",
              "      <th>50</th>\n",
              "      <td>Polynomial Threshold</td>\n",
              "      <td>None</td>\n",
              "    </tr>\n",
              "    <tr>\n",
              "      <th>51</th>\n",
              "      <td>Group Features</td>\n",
              "      <td>False</td>\n",
              "    </tr>\n",
              "    <tr>\n",
              "      <th>52</th>\n",
              "      <td>Feature Selection</td>\n",
              "      <td>False</td>\n",
              "    </tr>\n",
              "    <tr>\n",
              "      <th>53</th>\n",
              "      <td>Feature Selection Method</td>\n",
              "      <td>classic</td>\n",
              "    </tr>\n",
              "    <tr>\n",
              "      <th>54</th>\n",
              "      <td>Features Selection Threshold</td>\n",
              "      <td>None</td>\n",
              "    </tr>\n",
              "    <tr>\n",
              "      <th>55</th>\n",
              "      <td>Feature Interaction</td>\n",
              "      <td>False</td>\n",
              "    </tr>\n",
              "    <tr>\n",
              "      <th>56</th>\n",
              "      <td>Feature Ratio</td>\n",
              "      <td>False</td>\n",
              "    </tr>\n",
              "    <tr>\n",
              "      <th>57</th>\n",
              "      <td>Interaction Threshold</td>\n",
              "      <td>None</td>\n",
              "    </tr>\n",
              "    <tr>\n",
              "      <th>58</th>\n",
              "      <td>Fix Imbalance</td>\n",
              "      <td>False</td>\n",
              "    </tr>\n",
              "    <tr>\n",
              "      <th>59</th>\n",
              "      <td>Fix Imbalance Method</td>\n",
              "      <td>SMOTE</td>\n",
              "    </tr>\n",
              "  </tbody>\n",
              "</table>\n",
              "</div>\n",
              "      <button class=\"colab-df-convert\" onclick=\"convertToInteractive('df-88c9e669-22e5-4533-af86-989fa34bdc7b')\"\n",
              "              title=\"Convert this dataframe to an interactive table.\"\n",
              "              style=\"display:none;\">\n",
              "        \n",
              "  <svg xmlns=\"http://www.w3.org/2000/svg\" height=\"24px\"viewBox=\"0 0 24 24\"\n",
              "       width=\"24px\">\n",
              "    <path d=\"M0 0h24v24H0V0z\" fill=\"none\"/>\n",
              "    <path d=\"M18.56 5.44l.94 2.06.94-2.06 2.06-.94-2.06-.94-.94-2.06-.94 2.06-2.06.94zm-11 1L8.5 8.5l.94-2.06 2.06-.94-2.06-.94L8.5 2.5l-.94 2.06-2.06.94zm10 10l.94 2.06.94-2.06 2.06-.94-2.06-.94-.94-2.06-.94 2.06-2.06.94z\"/><path d=\"M17.41 7.96l-1.37-1.37c-.4-.4-.92-.59-1.43-.59-.52 0-1.04.2-1.43.59L10.3 9.45l-7.72 7.72c-.78.78-.78 2.05 0 2.83L4 21.41c.39.39.9.59 1.41.59.51 0 1.02-.2 1.41-.59l7.78-7.78 2.81-2.81c.8-.78.8-2.07 0-2.86zM5.41 20L4 18.59l7.72-7.72 1.47 1.35L5.41 20z\"/>\n",
              "  </svg>\n",
              "      </button>\n",
              "      \n",
              "  <style>\n",
              "    .colab-df-container {\n",
              "      display:flex;\n",
              "      flex-wrap:wrap;\n",
              "      gap: 12px;\n",
              "    }\n",
              "\n",
              "    .colab-df-convert {\n",
              "      background-color: #E8F0FE;\n",
              "      border: none;\n",
              "      border-radius: 50%;\n",
              "      cursor: pointer;\n",
              "      display: none;\n",
              "      fill: #1967D2;\n",
              "      height: 32px;\n",
              "      padding: 0 0 0 0;\n",
              "      width: 32px;\n",
              "    }\n",
              "\n",
              "    .colab-df-convert:hover {\n",
              "      background-color: #E2EBFA;\n",
              "      box-shadow: 0px 1px 2px rgba(60, 64, 67, 0.3), 0px 1px 3px 1px rgba(60, 64, 67, 0.15);\n",
              "      fill: #174EA6;\n",
              "    }\n",
              "\n",
              "    [theme=dark] .colab-df-convert {\n",
              "      background-color: #3B4455;\n",
              "      fill: #D2E3FC;\n",
              "    }\n",
              "\n",
              "    [theme=dark] .colab-df-convert:hover {\n",
              "      background-color: #434B5C;\n",
              "      box-shadow: 0px 1px 3px 1px rgba(0, 0, 0, 0.15);\n",
              "      filter: drop-shadow(0px 1px 2px rgba(0, 0, 0, 0.3));\n",
              "      fill: #FFFFFF;\n",
              "    }\n",
              "  </style>\n",
              "\n",
              "      <script>\n",
              "        const buttonEl =\n",
              "          document.querySelector('#df-88c9e669-22e5-4533-af86-989fa34bdc7b button.colab-df-convert');\n",
              "        buttonEl.style.display =\n",
              "          google.colab.kernel.accessAllowed ? 'block' : 'none';\n",
              "\n",
              "        async function convertToInteractive(key) {\n",
              "          const element = document.querySelector('#df-88c9e669-22e5-4533-af86-989fa34bdc7b');\n",
              "          const dataTable =\n",
              "            await google.colab.kernel.invokeFunction('convertToInteractive',\n",
              "                                                     [key], {});\n",
              "          if (!dataTable) return;\n",
              "\n",
              "          const docLinkHtml = 'Like what you see? Visit the ' +\n",
              "            '<a target=\"_blank\" href=https://colab.research.google.com/notebooks/data_table.ipynb>data table notebook</a>'\n",
              "            + ' to learn more about interactive tables.';\n",
              "          element.innerHTML = '';\n",
              "          dataTable['output_type'] = 'display_data';\n",
              "          await google.colab.output.renderOutput(dataTable, element);\n",
              "          const docLink = document.createElement('div');\n",
              "          docLink.innerHTML = docLinkHtml;\n",
              "          element.appendChild(docLink);\n",
              "        }\n",
              "      </script>\n",
              "    </div>\n",
              "  </div>\n",
              "  "
            ]
          },
          "metadata": {}
        }
      ]
    },
    {
      "cell_type": "markdown",
      "source": [
        "Exeperimento 2"
      ],
      "metadata": {
        "id": "JoIHwmockYf6"
      }
    },
    {
      "cell_type": "code",
      "source": [
        "X_over['GenHlth']=X_over['GenHlth'].astype('category')"
      ],
      "metadata": {
        "id": "mHwM0uiiuOhM"
      },
      "execution_count": null,
      "outputs": []
    },
    {
      "cell_type": "code",
      "source": [
        "#Usando o SMOTE\n",
        "clf_diabetes=setup(data=pd.concat([X_over,y_over],axis=1),#pd.concat([df_diabetes[colunas],df_diabetes['Diabetes_012']],axis=1),\n",
        "                   target='Diabetes_012',\n",
        "                   numeric_features=['BMI','Age','Income'],\n",
        "                   categorical_features=['PhysHlth','HighBP','Fruits','Smoker'],\n",
        "                   ordinal_features={'Education':[1,2,3,4,5,6],'GenHlth':[1,2,3,4,5]},\n",
        "                   high_cardinality_features=['MentHlth'],\n",
        "                   use_gpu=True,\n",
        "                   normalize=True,\n",
        "                   session_id=123#,\n",
        "                   #fix_imbalance=True#, fix_imbalance_method='SMOTE' #adasyn1\n",
        "                   )\n",
        "#GenHlth: estado de saude: 1- excelente e 5 - ruim\n",
        "#PhysHlth: nos ultimos 30 dias quantos dias tive problemas\n",
        "#DiffWalk: dificuldades de subir escadas\n",
        "#Stoke: ja teve derrame\n",
        "#Age:1 = 18-24, 9 = 60-64, 13 = 80 ou mais "
      ],
      "metadata": {
        "colab": {
          "base_uri": "https://localhost:8080/",
          "height": 1000,
          "referenced_widgets": [
            "571123dac3ca4cf3b09236846d8f905a",
            "346b601976644137b7142f1e4a466b4a",
            "58021ee7253b42ddb289dc2c0897c934",
            "21fff8cb6c99435eb8e51b0607e784fa",
            "6dd5e1539fde42a2be72ebfb5e34068f",
            "4341e46c66b647529245f97a1c148b19"
          ]
        },
        "id": "zy_iIZ_XkbFw",
        "outputId": "3be8431a-6432-4779-876b-4fdc5b00af7c"
      },
      "execution_count": null,
      "outputs": [
        {
          "output_type": "display_data",
          "data": {
            "text/plain": [
              "                               Description             Value\n",
              "0                               session_id               123\n",
              "1                                   Target      Diabetes_012\n",
              "2                              Target Type        Multiclass\n",
              "3                            Label Encoded              None\n",
              "4                            Original Data      (570165, 11)\n",
              "5                           Missing Values             False\n",
              "6                         Numeric Features                 6\n",
              "7                     Categorical Features                 4\n",
              "8                         Ordinal Features              True\n",
              "9                High Cardinality Features              True\n",
              "10                 High Cardinality Method         frequency\n",
              "11                   Transformed Train Set      (399115, 40)\n",
              "12                    Transformed Test Set      (171050, 40)\n",
              "13                      Shuffle Train-Test              True\n",
              "14                     Stratify Train-Test             False\n",
              "15                          Fold Generator   StratifiedKFold\n",
              "16                             Fold Number                10\n",
              "17                                CPU Jobs                -1\n",
              "18                                 Use GPU              True\n",
              "19                          Log Experiment             False\n",
              "20                         Experiment Name  clf-default-name\n",
              "21                                     USI              88a1\n",
              "22                         Imputation Type            simple\n",
              "23          Iterative Imputation Iteration              None\n",
              "24                         Numeric Imputer              mean\n",
              "25      Iterative Imputation Numeric Model              None\n",
              "26                     Categorical Imputer          constant\n",
              "27  Iterative Imputation Categorical Model              None\n",
              "28           Unknown Categoricals Handling    least_frequent\n",
              "29                               Normalize              True\n",
              "30                        Normalize Method            zscore\n",
              "31                          Transformation             False\n",
              "32                   Transformation Method              None\n",
              "33                                     PCA             False\n",
              "34                              PCA Method              None\n",
              "35                          PCA Components              None\n",
              "36                     Ignore Low Variance             False\n",
              "37                     Combine Rare Levels             False\n",
              "38                    Rare Level Threshold              None\n",
              "39                         Numeric Binning             False\n",
              "40                         Remove Outliers             False\n",
              "41                      Outliers Threshold              None\n",
              "42                Remove Multicollinearity             False\n",
              "43             Multicollinearity Threshold              None\n",
              "44             Remove Perfect Collinearity              True\n",
              "45                              Clustering             False\n",
              "46                    Clustering Iteration              None\n",
              "47                     Polynomial Features             False\n",
              "48                       Polynomial Degree              None\n",
              "49                    Trignometry Features             False\n",
              "50                    Polynomial Threshold              None\n",
              "51                          Group Features             False\n",
              "52                       Feature Selection             False\n",
              "53                Feature Selection Method           classic\n",
              "54            Features Selection Threshold              None\n",
              "55                     Feature Interaction             False\n",
              "56                           Feature Ratio             False\n",
              "57                   Interaction Threshold              None\n",
              "58                           Fix Imbalance             False\n",
              "59                    Fix Imbalance Method             SMOTE"
            ],
            "text/html": [
              "\n",
              "  <div id=\"df-8f47b5b3-d04c-44c9-b92e-b1c41e3bcb29\">\n",
              "    <div class=\"colab-df-container\">\n",
              "      <div>\n",
              "<style scoped>\n",
              "    .dataframe tbody tr th:only-of-type {\n",
              "        vertical-align: middle;\n",
              "    }\n",
              "\n",
              "    .dataframe tbody tr th {\n",
              "        vertical-align: top;\n",
              "    }\n",
              "\n",
              "    .dataframe thead th {\n",
              "        text-align: right;\n",
              "    }\n",
              "</style>\n",
              "<table border=\"1\" class=\"dataframe\">\n",
              "  <thead>\n",
              "    <tr style=\"text-align: right;\">\n",
              "      <th></th>\n",
              "      <th>Description</th>\n",
              "      <th>Value</th>\n",
              "    </tr>\n",
              "  </thead>\n",
              "  <tbody>\n",
              "    <tr>\n",
              "      <th>0</th>\n",
              "      <td>session_id</td>\n",
              "      <td>123</td>\n",
              "    </tr>\n",
              "    <tr>\n",
              "      <th>1</th>\n",
              "      <td>Target</td>\n",
              "      <td>Diabetes_012</td>\n",
              "    </tr>\n",
              "    <tr>\n",
              "      <th>2</th>\n",
              "      <td>Target Type</td>\n",
              "      <td>Multiclass</td>\n",
              "    </tr>\n",
              "    <tr>\n",
              "      <th>3</th>\n",
              "      <td>Label Encoded</td>\n",
              "      <td>None</td>\n",
              "    </tr>\n",
              "    <tr>\n",
              "      <th>4</th>\n",
              "      <td>Original Data</td>\n",
              "      <td>(570165, 11)</td>\n",
              "    </tr>\n",
              "    <tr>\n",
              "      <th>5</th>\n",
              "      <td>Missing Values</td>\n",
              "      <td>False</td>\n",
              "    </tr>\n",
              "    <tr>\n",
              "      <th>6</th>\n",
              "      <td>Numeric Features</td>\n",
              "      <td>6</td>\n",
              "    </tr>\n",
              "    <tr>\n",
              "      <th>7</th>\n",
              "      <td>Categorical Features</td>\n",
              "      <td>4</td>\n",
              "    </tr>\n",
              "    <tr>\n",
              "      <th>8</th>\n",
              "      <td>Ordinal Features</td>\n",
              "      <td>True</td>\n",
              "    </tr>\n",
              "    <tr>\n",
              "      <th>9</th>\n",
              "      <td>High Cardinality Features</td>\n",
              "      <td>True</td>\n",
              "    </tr>\n",
              "    <tr>\n",
              "      <th>10</th>\n",
              "      <td>High Cardinality Method</td>\n",
              "      <td>frequency</td>\n",
              "    </tr>\n",
              "    <tr>\n",
              "      <th>11</th>\n",
              "      <td>Transformed Train Set</td>\n",
              "      <td>(399115, 40)</td>\n",
              "    </tr>\n",
              "    <tr>\n",
              "      <th>12</th>\n",
              "      <td>Transformed Test Set</td>\n",
              "      <td>(171050, 40)</td>\n",
              "    </tr>\n",
              "    <tr>\n",
              "      <th>13</th>\n",
              "      <td>Shuffle Train-Test</td>\n",
              "      <td>True</td>\n",
              "    </tr>\n",
              "    <tr>\n",
              "      <th>14</th>\n",
              "      <td>Stratify Train-Test</td>\n",
              "      <td>False</td>\n",
              "    </tr>\n",
              "    <tr>\n",
              "      <th>15</th>\n",
              "      <td>Fold Generator</td>\n",
              "      <td>StratifiedKFold</td>\n",
              "    </tr>\n",
              "    <tr>\n",
              "      <th>16</th>\n",
              "      <td>Fold Number</td>\n",
              "      <td>10</td>\n",
              "    </tr>\n",
              "    <tr>\n",
              "      <th>17</th>\n",
              "      <td>CPU Jobs</td>\n",
              "      <td>-1</td>\n",
              "    </tr>\n",
              "    <tr>\n",
              "      <th>18</th>\n",
              "      <td>Use GPU</td>\n",
              "      <td>True</td>\n",
              "    </tr>\n",
              "    <tr>\n",
              "      <th>19</th>\n",
              "      <td>Log Experiment</td>\n",
              "      <td>False</td>\n",
              "    </tr>\n",
              "    <tr>\n",
              "      <th>20</th>\n",
              "      <td>Experiment Name</td>\n",
              "      <td>clf-default-name</td>\n",
              "    </tr>\n",
              "    <tr>\n",
              "      <th>21</th>\n",
              "      <td>USI</td>\n",
              "      <td>88a1</td>\n",
              "    </tr>\n",
              "    <tr>\n",
              "      <th>22</th>\n",
              "      <td>Imputation Type</td>\n",
              "      <td>simple</td>\n",
              "    </tr>\n",
              "    <tr>\n",
              "      <th>23</th>\n",
              "      <td>Iterative Imputation Iteration</td>\n",
              "      <td>None</td>\n",
              "    </tr>\n",
              "    <tr>\n",
              "      <th>24</th>\n",
              "      <td>Numeric Imputer</td>\n",
              "      <td>mean</td>\n",
              "    </tr>\n",
              "    <tr>\n",
              "      <th>25</th>\n",
              "      <td>Iterative Imputation Numeric Model</td>\n",
              "      <td>None</td>\n",
              "    </tr>\n",
              "    <tr>\n",
              "      <th>26</th>\n",
              "      <td>Categorical Imputer</td>\n",
              "      <td>constant</td>\n",
              "    </tr>\n",
              "    <tr>\n",
              "      <th>27</th>\n",
              "      <td>Iterative Imputation Categorical Model</td>\n",
              "      <td>None</td>\n",
              "    </tr>\n",
              "    <tr>\n",
              "      <th>28</th>\n",
              "      <td>Unknown Categoricals Handling</td>\n",
              "      <td>least_frequent</td>\n",
              "    </tr>\n",
              "    <tr>\n",
              "      <th>29</th>\n",
              "      <td>Normalize</td>\n",
              "      <td>True</td>\n",
              "    </tr>\n",
              "    <tr>\n",
              "      <th>30</th>\n",
              "      <td>Normalize Method</td>\n",
              "      <td>zscore</td>\n",
              "    </tr>\n",
              "    <tr>\n",
              "      <th>31</th>\n",
              "      <td>Transformation</td>\n",
              "      <td>False</td>\n",
              "    </tr>\n",
              "    <tr>\n",
              "      <th>32</th>\n",
              "      <td>Transformation Method</td>\n",
              "      <td>None</td>\n",
              "    </tr>\n",
              "    <tr>\n",
              "      <th>33</th>\n",
              "      <td>PCA</td>\n",
              "      <td>False</td>\n",
              "    </tr>\n",
              "    <tr>\n",
              "      <th>34</th>\n",
              "      <td>PCA Method</td>\n",
              "      <td>None</td>\n",
              "    </tr>\n",
              "    <tr>\n",
              "      <th>35</th>\n",
              "      <td>PCA Components</td>\n",
              "      <td>None</td>\n",
              "    </tr>\n",
              "    <tr>\n",
              "      <th>36</th>\n",
              "      <td>Ignore Low Variance</td>\n",
              "      <td>False</td>\n",
              "    </tr>\n",
              "    <tr>\n",
              "      <th>37</th>\n",
              "      <td>Combine Rare Levels</td>\n",
              "      <td>False</td>\n",
              "    </tr>\n",
              "    <tr>\n",
              "      <th>38</th>\n",
              "      <td>Rare Level Threshold</td>\n",
              "      <td>None</td>\n",
              "    </tr>\n",
              "    <tr>\n",
              "      <th>39</th>\n",
              "      <td>Numeric Binning</td>\n",
              "      <td>False</td>\n",
              "    </tr>\n",
              "    <tr>\n",
              "      <th>40</th>\n",
              "      <td>Remove Outliers</td>\n",
              "      <td>False</td>\n",
              "    </tr>\n",
              "    <tr>\n",
              "      <th>41</th>\n",
              "      <td>Outliers Threshold</td>\n",
              "      <td>None</td>\n",
              "    </tr>\n",
              "    <tr>\n",
              "      <th>42</th>\n",
              "      <td>Remove Multicollinearity</td>\n",
              "      <td>False</td>\n",
              "    </tr>\n",
              "    <tr>\n",
              "      <th>43</th>\n",
              "      <td>Multicollinearity Threshold</td>\n",
              "      <td>None</td>\n",
              "    </tr>\n",
              "    <tr>\n",
              "      <th>44</th>\n",
              "      <td>Remove Perfect Collinearity</td>\n",
              "      <td>True</td>\n",
              "    </tr>\n",
              "    <tr>\n",
              "      <th>45</th>\n",
              "      <td>Clustering</td>\n",
              "      <td>False</td>\n",
              "    </tr>\n",
              "    <tr>\n",
              "      <th>46</th>\n",
              "      <td>Clustering Iteration</td>\n",
              "      <td>None</td>\n",
              "    </tr>\n",
              "    <tr>\n",
              "      <th>47</th>\n",
              "      <td>Polynomial Features</td>\n",
              "      <td>False</td>\n",
              "    </tr>\n",
              "    <tr>\n",
              "      <th>48</th>\n",
              "      <td>Polynomial Degree</td>\n",
              "      <td>None</td>\n",
              "    </tr>\n",
              "    <tr>\n",
              "      <th>49</th>\n",
              "      <td>Trignometry Features</td>\n",
              "      <td>False</td>\n",
              "    </tr>\n",
              "    <tr>\n",
              "      <th>50</th>\n",
              "      <td>Polynomial Threshold</td>\n",
              "      <td>None</td>\n",
              "    </tr>\n",
              "    <tr>\n",
              "      <th>51</th>\n",
              "      <td>Group Features</td>\n",
              "      <td>False</td>\n",
              "    </tr>\n",
              "    <tr>\n",
              "      <th>52</th>\n",
              "      <td>Feature Selection</td>\n",
              "      <td>False</td>\n",
              "    </tr>\n",
              "    <tr>\n",
              "      <th>53</th>\n",
              "      <td>Feature Selection Method</td>\n",
              "      <td>classic</td>\n",
              "    </tr>\n",
              "    <tr>\n",
              "      <th>54</th>\n",
              "      <td>Features Selection Threshold</td>\n",
              "      <td>None</td>\n",
              "    </tr>\n",
              "    <tr>\n",
              "      <th>55</th>\n",
              "      <td>Feature Interaction</td>\n",
              "      <td>False</td>\n",
              "    </tr>\n",
              "    <tr>\n",
              "      <th>56</th>\n",
              "      <td>Feature Ratio</td>\n",
              "      <td>False</td>\n",
              "    </tr>\n",
              "    <tr>\n",
              "      <th>57</th>\n",
              "      <td>Interaction Threshold</td>\n",
              "      <td>None</td>\n",
              "    </tr>\n",
              "    <tr>\n",
              "      <th>58</th>\n",
              "      <td>Fix Imbalance</td>\n",
              "      <td>False</td>\n",
              "    </tr>\n",
              "    <tr>\n",
              "      <th>59</th>\n",
              "      <td>Fix Imbalance Method</td>\n",
              "      <td>SMOTE</td>\n",
              "    </tr>\n",
              "  </tbody>\n",
              "</table>\n",
              "</div>\n",
              "      <button class=\"colab-df-convert\" onclick=\"convertToInteractive('df-8f47b5b3-d04c-44c9-b92e-b1c41e3bcb29')\"\n",
              "              title=\"Convert this dataframe to an interactive table.\"\n",
              "              style=\"display:none;\">\n",
              "        \n",
              "  <svg xmlns=\"http://www.w3.org/2000/svg\" height=\"24px\"viewBox=\"0 0 24 24\"\n",
              "       width=\"24px\">\n",
              "    <path d=\"M0 0h24v24H0V0z\" fill=\"none\"/>\n",
              "    <path d=\"M18.56 5.44l.94 2.06.94-2.06 2.06-.94-2.06-.94-.94-2.06-.94 2.06-2.06.94zm-11 1L8.5 8.5l.94-2.06 2.06-.94-2.06-.94L8.5 2.5l-.94 2.06-2.06.94zm10 10l.94 2.06.94-2.06 2.06-.94-2.06-.94-.94-2.06-.94 2.06-2.06.94z\"/><path d=\"M17.41 7.96l-1.37-1.37c-.4-.4-.92-.59-1.43-.59-.52 0-1.04.2-1.43.59L10.3 9.45l-7.72 7.72c-.78.78-.78 2.05 0 2.83L4 21.41c.39.39.9.59 1.41.59.51 0 1.02-.2 1.41-.59l7.78-7.78 2.81-2.81c.8-.78.8-2.07 0-2.86zM5.41 20L4 18.59l7.72-7.72 1.47 1.35L5.41 20z\"/>\n",
              "  </svg>\n",
              "      </button>\n",
              "      \n",
              "  <style>\n",
              "    .colab-df-container {\n",
              "      display:flex;\n",
              "      flex-wrap:wrap;\n",
              "      gap: 12px;\n",
              "    }\n",
              "\n",
              "    .colab-df-convert {\n",
              "      background-color: #E8F0FE;\n",
              "      border: none;\n",
              "      border-radius: 50%;\n",
              "      cursor: pointer;\n",
              "      display: none;\n",
              "      fill: #1967D2;\n",
              "      height: 32px;\n",
              "      padding: 0 0 0 0;\n",
              "      width: 32px;\n",
              "    }\n",
              "\n",
              "    .colab-df-convert:hover {\n",
              "      background-color: #E2EBFA;\n",
              "      box-shadow: 0px 1px 2px rgba(60, 64, 67, 0.3), 0px 1px 3px 1px rgba(60, 64, 67, 0.15);\n",
              "      fill: #174EA6;\n",
              "    }\n",
              "\n",
              "    [theme=dark] .colab-df-convert {\n",
              "      background-color: #3B4455;\n",
              "      fill: #D2E3FC;\n",
              "    }\n",
              "\n",
              "    [theme=dark] .colab-df-convert:hover {\n",
              "      background-color: #434B5C;\n",
              "      box-shadow: 0px 1px 3px 1px rgba(0, 0, 0, 0.15);\n",
              "      filter: drop-shadow(0px 1px 2px rgba(0, 0, 0, 0.3));\n",
              "      fill: #FFFFFF;\n",
              "    }\n",
              "  </style>\n",
              "\n",
              "      <script>\n",
              "        const buttonEl =\n",
              "          document.querySelector('#df-8f47b5b3-d04c-44c9-b92e-b1c41e3bcb29 button.colab-df-convert');\n",
              "        buttonEl.style.display =\n",
              "          google.colab.kernel.accessAllowed ? 'block' : 'none';\n",
              "\n",
              "        async function convertToInteractive(key) {\n",
              "          const element = document.querySelector('#df-8f47b5b3-d04c-44c9-b92e-b1c41e3bcb29');\n",
              "          const dataTable =\n",
              "            await google.colab.kernel.invokeFunction('convertToInteractive',\n",
              "                                                     [key], {});\n",
              "          if (!dataTable) return;\n",
              "\n",
              "          const docLinkHtml = 'Like what you see? Visit the ' +\n",
              "            '<a target=\"_blank\" href=https://colab.research.google.com/notebooks/data_table.ipynb>data table notebook</a>'\n",
              "            + ' to learn more about interactive tables.';\n",
              "          element.innerHTML = '';\n",
              "          dataTable['output_type'] = 'display_data';\n",
              "          await google.colab.output.renderOutput(dataTable, element);\n",
              "          const docLink = document.createElement('div');\n",
              "          docLink.innerHTML = docLinkHtml;\n",
              "          element.appendChild(docLink);\n",
              "        }\n",
              "      </script>\n",
              "    </div>\n",
              "  </div>\n",
              "  "
            ]
          },
          "metadata": {}
        }
      ]
    },
    {
      "cell_type": "markdown",
      "source": [
        "**Visualizar os dados transformados**"
      ],
      "metadata": {
        "id": "rviuvnskkidZ"
      }
    },
    {
      "cell_type": "code",
      "source": [
        "get_config(\"X_train\").head()"
      ],
      "metadata": {
        "id": "7_a9gpt7kjB1",
        "colab": {
          "base_uri": "https://localhost:8080/",
          "height": 300
        },
        "outputId": "3df4a677-ec42-4d01-fa94-dcacf4e693f5"
      },
      "execution_count": null,
      "outputs": [
        {
          "output_type": "execute_result",
          "data": {
            "text/plain": [
              "             BMI       Age  Education  GenHlth  MentHlth  Income_1  Income_2  \\\n",
              "374741  0.381704 -0.953676        1.0      3.0 -1.518724       1.0       0.0   \n",
              "538810 -0.170481  0.862182        5.0      1.0  0.701298       0.0       0.0   \n",
              "79930  -0.735850 -0.590504        5.0      0.0 -1.526985       0.0       0.0   \n",
              "169754 -1.301220  1.588526        5.0      1.0  0.701298       0.0       0.0   \n",
              "382625 -0.453165  1.588526        5.0      1.0  0.701298       0.0       0.0   \n",
              "\n",
              "        Income_3  Income_4  Income_5  ...  PhysHlth_30  PhysHlth_4  \\\n",
              "374741       0.0       0.0       0.0  ...          0.0         0.0   \n",
              "538810       0.0       0.0       0.0  ...          0.0         0.0   \n",
              "79930        0.0       0.0       0.0  ...          0.0         0.0   \n",
              "169754       0.0       0.0       0.0  ...          0.0         0.0   \n",
              "382625       0.0       0.0       0.0  ...          0.0         0.0   \n",
              "\n",
              "        PhysHlth_5  PhysHlth_6  PhysHlth_7  PhysHlth_8  PhysHlth_9  HighBP_0  \\\n",
              "374741         0.0         0.0         0.0         0.0         0.0       1.0   \n",
              "538810         0.0         0.0         0.0         0.0         0.0       0.0   \n",
              "79930          0.0         0.0         0.0         0.0         0.0       1.0   \n",
              "169754         0.0         0.0         0.0         0.0         0.0       0.0   \n",
              "382625         0.0         0.0         0.0         0.0         0.0       0.0   \n",
              "\n",
              "        Fruits_0  Smoker_0  \n",
              "374741       1.0       1.0  \n",
              "538810       0.0       1.0  \n",
              "79930        0.0       1.0  \n",
              "169754       0.0       0.0  \n",
              "382625       0.0       1.0  \n",
              "\n",
              "[5 rows x 47 columns]"
            ],
            "text/html": [
              "\n",
              "  <div id=\"df-2038add4-9800-4597-8d7a-c2f05221348e\">\n",
              "    <div class=\"colab-df-container\">\n",
              "      <div>\n",
              "<style scoped>\n",
              "    .dataframe tbody tr th:only-of-type {\n",
              "        vertical-align: middle;\n",
              "    }\n",
              "\n",
              "    .dataframe tbody tr th {\n",
              "        vertical-align: top;\n",
              "    }\n",
              "\n",
              "    .dataframe thead th {\n",
              "        text-align: right;\n",
              "    }\n",
              "</style>\n",
              "<table border=\"1\" class=\"dataframe\">\n",
              "  <thead>\n",
              "    <tr style=\"text-align: right;\">\n",
              "      <th></th>\n",
              "      <th>BMI</th>\n",
              "      <th>Age</th>\n",
              "      <th>Education</th>\n",
              "      <th>GenHlth</th>\n",
              "      <th>MentHlth</th>\n",
              "      <th>Income_1</th>\n",
              "      <th>Income_2</th>\n",
              "      <th>Income_3</th>\n",
              "      <th>Income_4</th>\n",
              "      <th>Income_5</th>\n",
              "      <th>...</th>\n",
              "      <th>PhysHlth_30</th>\n",
              "      <th>PhysHlth_4</th>\n",
              "      <th>PhysHlth_5</th>\n",
              "      <th>PhysHlth_6</th>\n",
              "      <th>PhysHlth_7</th>\n",
              "      <th>PhysHlth_8</th>\n",
              "      <th>PhysHlth_9</th>\n",
              "      <th>HighBP_0</th>\n",
              "      <th>Fruits_0</th>\n",
              "      <th>Smoker_0</th>\n",
              "    </tr>\n",
              "  </thead>\n",
              "  <tbody>\n",
              "    <tr>\n",
              "      <th>374741</th>\n",
              "      <td>0.381704</td>\n",
              "      <td>-0.953676</td>\n",
              "      <td>1.0</td>\n",
              "      <td>3.0</td>\n",
              "      <td>-1.518724</td>\n",
              "      <td>1.0</td>\n",
              "      <td>0.0</td>\n",
              "      <td>0.0</td>\n",
              "      <td>0.0</td>\n",
              "      <td>0.0</td>\n",
              "      <td>...</td>\n",
              "      <td>0.0</td>\n",
              "      <td>0.0</td>\n",
              "      <td>0.0</td>\n",
              "      <td>0.0</td>\n",
              "      <td>0.0</td>\n",
              "      <td>0.0</td>\n",
              "      <td>0.0</td>\n",
              "      <td>1.0</td>\n",
              "      <td>1.0</td>\n",
              "      <td>1.0</td>\n",
              "    </tr>\n",
              "    <tr>\n",
              "      <th>538810</th>\n",
              "      <td>-0.170481</td>\n",
              "      <td>0.862182</td>\n",
              "      <td>5.0</td>\n",
              "      <td>1.0</td>\n",
              "      <td>0.701298</td>\n",
              "      <td>0.0</td>\n",
              "      <td>0.0</td>\n",
              "      <td>0.0</td>\n",
              "      <td>0.0</td>\n",
              "      <td>0.0</td>\n",
              "      <td>...</td>\n",
              "      <td>0.0</td>\n",
              "      <td>0.0</td>\n",
              "      <td>0.0</td>\n",
              "      <td>0.0</td>\n",
              "      <td>0.0</td>\n",
              "      <td>0.0</td>\n",
              "      <td>0.0</td>\n",
              "      <td>0.0</td>\n",
              "      <td>0.0</td>\n",
              "      <td>1.0</td>\n",
              "    </tr>\n",
              "    <tr>\n",
              "      <th>79930</th>\n",
              "      <td>-0.735850</td>\n",
              "      <td>-0.590504</td>\n",
              "      <td>5.0</td>\n",
              "      <td>0.0</td>\n",
              "      <td>-1.526985</td>\n",
              "      <td>0.0</td>\n",
              "      <td>0.0</td>\n",
              "      <td>0.0</td>\n",
              "      <td>0.0</td>\n",
              "      <td>0.0</td>\n",
              "      <td>...</td>\n",
              "      <td>0.0</td>\n",
              "      <td>0.0</td>\n",
              "      <td>0.0</td>\n",
              "      <td>0.0</td>\n",
              "      <td>0.0</td>\n",
              "      <td>0.0</td>\n",
              "      <td>0.0</td>\n",
              "      <td>1.0</td>\n",
              "      <td>0.0</td>\n",
              "      <td>1.0</td>\n",
              "    </tr>\n",
              "    <tr>\n",
              "      <th>169754</th>\n",
              "      <td>-1.301220</td>\n",
              "      <td>1.588526</td>\n",
              "      <td>5.0</td>\n",
              "      <td>1.0</td>\n",
              "      <td>0.701298</td>\n",
              "      <td>0.0</td>\n",
              "      <td>0.0</td>\n",
              "      <td>0.0</td>\n",
              "      <td>0.0</td>\n",
              "      <td>0.0</td>\n",
              "      <td>...</td>\n",
              "      <td>0.0</td>\n",
              "      <td>0.0</td>\n",
              "      <td>0.0</td>\n",
              "      <td>0.0</td>\n",
              "      <td>0.0</td>\n",
              "      <td>0.0</td>\n",
              "      <td>0.0</td>\n",
              "      <td>0.0</td>\n",
              "      <td>0.0</td>\n",
              "      <td>0.0</td>\n",
              "    </tr>\n",
              "    <tr>\n",
              "      <th>382625</th>\n",
              "      <td>-0.453165</td>\n",
              "      <td>1.588526</td>\n",
              "      <td>5.0</td>\n",
              "      <td>1.0</td>\n",
              "      <td>0.701298</td>\n",
              "      <td>0.0</td>\n",
              "      <td>0.0</td>\n",
              "      <td>0.0</td>\n",
              "      <td>0.0</td>\n",
              "      <td>0.0</td>\n",
              "      <td>...</td>\n",
              "      <td>0.0</td>\n",
              "      <td>0.0</td>\n",
              "      <td>0.0</td>\n",
              "      <td>0.0</td>\n",
              "      <td>0.0</td>\n",
              "      <td>0.0</td>\n",
              "      <td>0.0</td>\n",
              "      <td>0.0</td>\n",
              "      <td>0.0</td>\n",
              "      <td>1.0</td>\n",
              "    </tr>\n",
              "  </tbody>\n",
              "</table>\n",
              "<p>5 rows × 47 columns</p>\n",
              "</div>\n",
              "      <button class=\"colab-df-convert\" onclick=\"convertToInteractive('df-2038add4-9800-4597-8d7a-c2f05221348e')\"\n",
              "              title=\"Convert this dataframe to an interactive table.\"\n",
              "              style=\"display:none;\">\n",
              "        \n",
              "  <svg xmlns=\"http://www.w3.org/2000/svg\" height=\"24px\"viewBox=\"0 0 24 24\"\n",
              "       width=\"24px\">\n",
              "    <path d=\"M0 0h24v24H0V0z\" fill=\"none\"/>\n",
              "    <path d=\"M18.56 5.44l.94 2.06.94-2.06 2.06-.94-2.06-.94-.94-2.06-.94 2.06-2.06.94zm-11 1L8.5 8.5l.94-2.06 2.06-.94-2.06-.94L8.5 2.5l-.94 2.06-2.06.94zm10 10l.94 2.06.94-2.06 2.06-.94-2.06-.94-.94-2.06-.94 2.06-2.06.94z\"/><path d=\"M17.41 7.96l-1.37-1.37c-.4-.4-.92-.59-1.43-.59-.52 0-1.04.2-1.43.59L10.3 9.45l-7.72 7.72c-.78.78-.78 2.05 0 2.83L4 21.41c.39.39.9.59 1.41.59.51 0 1.02-.2 1.41-.59l7.78-7.78 2.81-2.81c.8-.78.8-2.07 0-2.86zM5.41 20L4 18.59l7.72-7.72 1.47 1.35L5.41 20z\"/>\n",
              "  </svg>\n",
              "      </button>\n",
              "      \n",
              "  <style>\n",
              "    .colab-df-container {\n",
              "      display:flex;\n",
              "      flex-wrap:wrap;\n",
              "      gap: 12px;\n",
              "    }\n",
              "\n",
              "    .colab-df-convert {\n",
              "      background-color: #E8F0FE;\n",
              "      border: none;\n",
              "      border-radius: 50%;\n",
              "      cursor: pointer;\n",
              "      display: none;\n",
              "      fill: #1967D2;\n",
              "      height: 32px;\n",
              "      padding: 0 0 0 0;\n",
              "      width: 32px;\n",
              "    }\n",
              "\n",
              "    .colab-df-convert:hover {\n",
              "      background-color: #E2EBFA;\n",
              "      box-shadow: 0px 1px 2px rgba(60, 64, 67, 0.3), 0px 1px 3px 1px rgba(60, 64, 67, 0.15);\n",
              "      fill: #174EA6;\n",
              "    }\n",
              "\n",
              "    [theme=dark] .colab-df-convert {\n",
              "      background-color: #3B4455;\n",
              "      fill: #D2E3FC;\n",
              "    }\n",
              "\n",
              "    [theme=dark] .colab-df-convert:hover {\n",
              "      background-color: #434B5C;\n",
              "      box-shadow: 0px 1px 3px 1px rgba(0, 0, 0, 0.15);\n",
              "      filter: drop-shadow(0px 1px 2px rgba(0, 0, 0, 0.3));\n",
              "      fill: #FFFFFF;\n",
              "    }\n",
              "  </style>\n",
              "\n",
              "      <script>\n",
              "        const buttonEl =\n",
              "          document.querySelector('#df-2038add4-9800-4597-8d7a-c2f05221348e button.colab-df-convert');\n",
              "        buttonEl.style.display =\n",
              "          google.colab.kernel.accessAllowed ? 'block' : 'none';\n",
              "\n",
              "        async function convertToInteractive(key) {\n",
              "          const element = document.querySelector('#df-2038add4-9800-4597-8d7a-c2f05221348e');\n",
              "          const dataTable =\n",
              "            await google.colab.kernel.invokeFunction('convertToInteractive',\n",
              "                                                     [key], {});\n",
              "          if (!dataTable) return;\n",
              "\n",
              "          const docLinkHtml = 'Like what you see? Visit the ' +\n",
              "            '<a target=\"_blank\" href=https://colab.research.google.com/notebooks/data_table.ipynb>data table notebook</a>'\n",
              "            + ' to learn more about interactive tables.';\n",
              "          element.innerHTML = '';\n",
              "          dataTable['output_type'] = 'display_data';\n",
              "          await google.colab.output.renderOutput(dataTable, element);\n",
              "          const docLink = document.createElement('div');\n",
              "          docLink.innerHTML = docLinkHtml;\n",
              "          element.appendChild(docLink);\n",
              "        }\n",
              "      </script>\n",
              "    </div>\n",
              "  </div>\n",
              "  "
            ]
          },
          "metadata": {},
          "execution_count": 30
        }
      ]
    },
    {
      "cell_type": "markdown",
      "source": [
        "**Escolher o melhor algoritmo**"
      ],
      "metadata": {
        "id": "zHcaL9yPklTG"
      }
    },
    {
      "cell_type": "code",
      "source": [
        "best_model=compare_models(include=['lightgbm','lr','svm','knn','rf'],fold=5)\n",
        "#best1_model=compare_models(fold=3)"
      ],
      "metadata": {
        "id": "yENtiNKzkrgZ",
        "colab": {
          "base_uri": "https://localhost:8080/",
          "height": 489,
          "referenced_widgets": [
            "4a1e8b4cab244f839f82c42c8304ca01",
            "86c40c347ad54b9e8a0bc0ced82c4af6",
            "e90e95ecf74b4d6493994f10c27b4577"
          ]
        },
        "outputId": "85954c67-eee7-4d02-f0a5-84e87f7606e4"
      },
      "execution_count": null,
      "outputs": [
        {
          "output_type": "display_data",
          "data": {
            "text/plain": [
              "                                    Model  Accuracy     AUC  Recall   Prec.  \\\n",
              "rf               Random Forest Classifier    0.8334  0.9448  0.8335  0.8330   \n",
              "et                 Extra Trees Classifier    0.8203  0.9369  0.8203  0.8187   \n",
              "dt               Decision Tree Classifier    0.7900  0.8577  0.7900  0.7877   \n",
              "knn                K Neighbors Classifier    0.7367  0.8824  0.7367  0.7362   \n",
              "lightgbm  Light Gradient Boosting Machine    0.6337  0.8200  0.6337  0.6331   \n",
              "gbc          Gradient Boosting Classifier    0.5789  0.7679  0.5789  0.5812   \n",
              "ada                  Ada Boost Classifier    0.5400  0.7277  0.5399  0.5395   \n",
              "lr                    Logistic Regression    0.5251  0.7140  0.5251  0.5230   \n",
              "lda          Linear Discriminant Analysis    0.5235  0.7128  0.5234  0.5214   \n",
              "ridge                    Ridge Classifier    0.5212  0.0000  0.5212  0.5195   \n",
              "svm                   SVM - Linear Kernel    0.4882  0.0000  0.4880  0.5095   \n",
              "nb                            Naive Bayes    0.3728  0.6432  0.3728  0.4426   \n",
              "qda       Quadratic Discriminant Analysis    0.3628  0.6399  0.3628  0.4300   \n",
              "dummy                    Dummy Classifier    0.3336  0.5000  0.3333  0.1113   \n",
              "\n",
              "              F1   Kappa     MCC  TT (Sec)  \n",
              "rf        0.8320  0.7501  0.7513   66.8600  \n",
              "et        0.8187  0.7304  0.7311   81.7267  \n",
              "dt        0.7878  0.6849  0.6858    3.2333  \n",
              "knn       0.7309  0.6050  0.6096  268.6500  \n",
              "lightgbm  0.6330  0.4506  0.4509   11.4100  \n",
              "gbc       0.5793  0.3683  0.3688  163.0800  \n",
              "ada       0.5381  0.3099  0.3109   17.5200  \n",
              "lr        0.5220  0.2876  0.2887   84.1167  \n",
              "lda       0.5203  0.2852  0.2864    3.0800  \n",
              "ridge     0.5147  0.2818  0.2847    0.9333  \n",
              "svm       0.4366  0.2322  0.2560    5.2033  \n",
              "nb        0.2764  0.0592  0.0976    1.0700  \n",
              "qda       0.2581  0.0442  0.0779    2.1500  \n",
              "dummy     0.1669  0.0000  0.0000    0.5300  "
            ],
            "text/html": [
              "\n",
              "  <div id=\"df-64a555cd-1a38-4331-ad75-811c88f7f12e\">\n",
              "    <div class=\"colab-df-container\">\n",
              "      <div>\n",
              "<style scoped>\n",
              "    .dataframe tbody tr th:only-of-type {\n",
              "        vertical-align: middle;\n",
              "    }\n",
              "\n",
              "    .dataframe tbody tr th {\n",
              "        vertical-align: top;\n",
              "    }\n",
              "\n",
              "    .dataframe thead th {\n",
              "        text-align: right;\n",
              "    }\n",
              "</style>\n",
              "<table border=\"1\" class=\"dataframe\">\n",
              "  <thead>\n",
              "    <tr style=\"text-align: right;\">\n",
              "      <th></th>\n",
              "      <th>Model</th>\n",
              "      <th>Accuracy</th>\n",
              "      <th>AUC</th>\n",
              "      <th>Recall</th>\n",
              "      <th>Prec.</th>\n",
              "      <th>F1</th>\n",
              "      <th>Kappa</th>\n",
              "      <th>MCC</th>\n",
              "      <th>TT (Sec)</th>\n",
              "    </tr>\n",
              "  </thead>\n",
              "  <tbody>\n",
              "    <tr>\n",
              "      <th>rf</th>\n",
              "      <td>Random Forest Classifier</td>\n",
              "      <td>0.8334</td>\n",
              "      <td>0.9448</td>\n",
              "      <td>0.8335</td>\n",
              "      <td>0.8330</td>\n",
              "      <td>0.8320</td>\n",
              "      <td>0.7501</td>\n",
              "      <td>0.7513</td>\n",
              "      <td>66.8600</td>\n",
              "    </tr>\n",
              "    <tr>\n",
              "      <th>et</th>\n",
              "      <td>Extra Trees Classifier</td>\n",
              "      <td>0.8203</td>\n",
              "      <td>0.9369</td>\n",
              "      <td>0.8203</td>\n",
              "      <td>0.8187</td>\n",
              "      <td>0.8187</td>\n",
              "      <td>0.7304</td>\n",
              "      <td>0.7311</td>\n",
              "      <td>81.7267</td>\n",
              "    </tr>\n",
              "    <tr>\n",
              "      <th>dt</th>\n",
              "      <td>Decision Tree Classifier</td>\n",
              "      <td>0.7900</td>\n",
              "      <td>0.8577</td>\n",
              "      <td>0.7900</td>\n",
              "      <td>0.7877</td>\n",
              "      <td>0.7878</td>\n",
              "      <td>0.6849</td>\n",
              "      <td>0.6858</td>\n",
              "      <td>3.2333</td>\n",
              "    </tr>\n",
              "    <tr>\n",
              "      <th>knn</th>\n",
              "      <td>K Neighbors Classifier</td>\n",
              "      <td>0.7367</td>\n",
              "      <td>0.8824</td>\n",
              "      <td>0.7367</td>\n",
              "      <td>0.7362</td>\n",
              "      <td>0.7309</td>\n",
              "      <td>0.6050</td>\n",
              "      <td>0.6096</td>\n",
              "      <td>268.6500</td>\n",
              "    </tr>\n",
              "    <tr>\n",
              "      <th>lightgbm</th>\n",
              "      <td>Light Gradient Boosting Machine</td>\n",
              "      <td>0.6337</td>\n",
              "      <td>0.8200</td>\n",
              "      <td>0.6337</td>\n",
              "      <td>0.6331</td>\n",
              "      <td>0.6330</td>\n",
              "      <td>0.4506</td>\n",
              "      <td>0.4509</td>\n",
              "      <td>11.4100</td>\n",
              "    </tr>\n",
              "    <tr>\n",
              "      <th>gbc</th>\n",
              "      <td>Gradient Boosting Classifier</td>\n",
              "      <td>0.5789</td>\n",
              "      <td>0.7679</td>\n",
              "      <td>0.5789</td>\n",
              "      <td>0.5812</td>\n",
              "      <td>0.5793</td>\n",
              "      <td>0.3683</td>\n",
              "      <td>0.3688</td>\n",
              "      <td>163.0800</td>\n",
              "    </tr>\n",
              "    <tr>\n",
              "      <th>ada</th>\n",
              "      <td>Ada Boost Classifier</td>\n",
              "      <td>0.5400</td>\n",
              "      <td>0.7277</td>\n",
              "      <td>0.5399</td>\n",
              "      <td>0.5395</td>\n",
              "      <td>0.5381</td>\n",
              "      <td>0.3099</td>\n",
              "      <td>0.3109</td>\n",
              "      <td>17.5200</td>\n",
              "    </tr>\n",
              "    <tr>\n",
              "      <th>lr</th>\n",
              "      <td>Logistic Regression</td>\n",
              "      <td>0.5251</td>\n",
              "      <td>0.7140</td>\n",
              "      <td>0.5251</td>\n",
              "      <td>0.5230</td>\n",
              "      <td>0.5220</td>\n",
              "      <td>0.2876</td>\n",
              "      <td>0.2887</td>\n",
              "      <td>84.1167</td>\n",
              "    </tr>\n",
              "    <tr>\n",
              "      <th>lda</th>\n",
              "      <td>Linear Discriminant Analysis</td>\n",
              "      <td>0.5235</td>\n",
              "      <td>0.7128</td>\n",
              "      <td>0.5234</td>\n",
              "      <td>0.5214</td>\n",
              "      <td>0.5203</td>\n",
              "      <td>0.2852</td>\n",
              "      <td>0.2864</td>\n",
              "      <td>3.0800</td>\n",
              "    </tr>\n",
              "    <tr>\n",
              "      <th>ridge</th>\n",
              "      <td>Ridge Classifier</td>\n",
              "      <td>0.5212</td>\n",
              "      <td>0.0000</td>\n",
              "      <td>0.5212</td>\n",
              "      <td>0.5195</td>\n",
              "      <td>0.5147</td>\n",
              "      <td>0.2818</td>\n",
              "      <td>0.2847</td>\n",
              "      <td>0.9333</td>\n",
              "    </tr>\n",
              "    <tr>\n",
              "      <th>svm</th>\n",
              "      <td>SVM - Linear Kernel</td>\n",
              "      <td>0.4882</td>\n",
              "      <td>0.0000</td>\n",
              "      <td>0.4880</td>\n",
              "      <td>0.5095</td>\n",
              "      <td>0.4366</td>\n",
              "      <td>0.2322</td>\n",
              "      <td>0.2560</td>\n",
              "      <td>5.2033</td>\n",
              "    </tr>\n",
              "    <tr>\n",
              "      <th>nb</th>\n",
              "      <td>Naive Bayes</td>\n",
              "      <td>0.3728</td>\n",
              "      <td>0.6432</td>\n",
              "      <td>0.3728</td>\n",
              "      <td>0.4426</td>\n",
              "      <td>0.2764</td>\n",
              "      <td>0.0592</td>\n",
              "      <td>0.0976</td>\n",
              "      <td>1.0700</td>\n",
              "    </tr>\n",
              "    <tr>\n",
              "      <th>qda</th>\n",
              "      <td>Quadratic Discriminant Analysis</td>\n",
              "      <td>0.3628</td>\n",
              "      <td>0.6399</td>\n",
              "      <td>0.3628</td>\n",
              "      <td>0.4300</td>\n",
              "      <td>0.2581</td>\n",
              "      <td>0.0442</td>\n",
              "      <td>0.0779</td>\n",
              "      <td>2.1500</td>\n",
              "    </tr>\n",
              "    <tr>\n",
              "      <th>dummy</th>\n",
              "      <td>Dummy Classifier</td>\n",
              "      <td>0.3336</td>\n",
              "      <td>0.5000</td>\n",
              "      <td>0.3333</td>\n",
              "      <td>0.1113</td>\n",
              "      <td>0.1669</td>\n",
              "      <td>0.0000</td>\n",
              "      <td>0.0000</td>\n",
              "      <td>0.5300</td>\n",
              "    </tr>\n",
              "  </tbody>\n",
              "</table>\n",
              "</div>\n",
              "      <button class=\"colab-df-convert\" onclick=\"convertToInteractive('df-64a555cd-1a38-4331-ad75-811c88f7f12e')\"\n",
              "              title=\"Convert this dataframe to an interactive table.\"\n",
              "              style=\"display:none;\">\n",
              "        \n",
              "  <svg xmlns=\"http://www.w3.org/2000/svg\" height=\"24px\"viewBox=\"0 0 24 24\"\n",
              "       width=\"24px\">\n",
              "    <path d=\"M0 0h24v24H0V0z\" fill=\"none\"/>\n",
              "    <path d=\"M18.56 5.44l.94 2.06.94-2.06 2.06-.94-2.06-.94-.94-2.06-.94 2.06-2.06.94zm-11 1L8.5 8.5l.94-2.06 2.06-.94-2.06-.94L8.5 2.5l-.94 2.06-2.06.94zm10 10l.94 2.06.94-2.06 2.06-.94-2.06-.94-.94-2.06-.94 2.06-2.06.94z\"/><path d=\"M17.41 7.96l-1.37-1.37c-.4-.4-.92-.59-1.43-.59-.52 0-1.04.2-1.43.59L10.3 9.45l-7.72 7.72c-.78.78-.78 2.05 0 2.83L4 21.41c.39.39.9.59 1.41.59.51 0 1.02-.2 1.41-.59l7.78-7.78 2.81-2.81c.8-.78.8-2.07 0-2.86zM5.41 20L4 18.59l7.72-7.72 1.47 1.35L5.41 20z\"/>\n",
              "  </svg>\n",
              "      </button>\n",
              "      \n",
              "  <style>\n",
              "    .colab-df-container {\n",
              "      display:flex;\n",
              "      flex-wrap:wrap;\n",
              "      gap: 12px;\n",
              "    }\n",
              "\n",
              "    .colab-df-convert {\n",
              "      background-color: #E8F0FE;\n",
              "      border: none;\n",
              "      border-radius: 50%;\n",
              "      cursor: pointer;\n",
              "      display: none;\n",
              "      fill: #1967D2;\n",
              "      height: 32px;\n",
              "      padding: 0 0 0 0;\n",
              "      width: 32px;\n",
              "    }\n",
              "\n",
              "    .colab-df-convert:hover {\n",
              "      background-color: #E2EBFA;\n",
              "      box-shadow: 0px 1px 2px rgba(60, 64, 67, 0.3), 0px 1px 3px 1px rgba(60, 64, 67, 0.15);\n",
              "      fill: #174EA6;\n",
              "    }\n",
              "\n",
              "    [theme=dark] .colab-df-convert {\n",
              "      background-color: #3B4455;\n",
              "      fill: #D2E3FC;\n",
              "    }\n",
              "\n",
              "    [theme=dark] .colab-df-convert:hover {\n",
              "      background-color: #434B5C;\n",
              "      box-shadow: 0px 1px 3px 1px rgba(0, 0, 0, 0.15);\n",
              "      filter: drop-shadow(0px 1px 2px rgba(0, 0, 0, 0.3));\n",
              "      fill: #FFFFFF;\n",
              "    }\n",
              "  </style>\n",
              "\n",
              "      <script>\n",
              "        const buttonEl =\n",
              "          document.querySelector('#df-64a555cd-1a38-4331-ad75-811c88f7f12e button.colab-df-convert');\n",
              "        buttonEl.style.display =\n",
              "          google.colab.kernel.accessAllowed ? 'block' : 'none';\n",
              "\n",
              "        async function convertToInteractive(key) {\n",
              "          const element = document.querySelector('#df-64a555cd-1a38-4331-ad75-811c88f7f12e');\n",
              "          const dataTable =\n",
              "            await google.colab.kernel.invokeFunction('convertToInteractive',\n",
              "                                                     [key], {});\n",
              "          if (!dataTable) return;\n",
              "\n",
              "          const docLinkHtml = 'Like what you see? Visit the ' +\n",
              "            '<a target=\"_blank\" href=https://colab.research.google.com/notebooks/data_table.ipynb>data table notebook</a>'\n",
              "            + ' to learn more about interactive tables.';\n",
              "          element.innerHTML = '';\n",
              "          dataTable['output_type'] = 'display_data';\n",
              "          await google.colab.output.renderOutput(dataTable, element);\n",
              "          const docLink = document.createElement('div');\n",
              "          docLink.innerHTML = docLinkHtml;\n",
              "          element.appendChild(docLink);\n",
              "        }\n",
              "      </script>\n",
              "    </div>\n",
              "  </div>\n",
              "  "
            ]
          },
          "metadata": {}
        }
      ]
    },
    {
      "cell_type": "markdown",
      "source": [
        "**Criar o modelo**"
      ],
      "metadata": {
        "id": "uoLFbKa4kt1b"
      }
    },
    {
      "cell_type": "code",
      "source": [
        "modelo = create_model('rf',fold=5)"
      ],
      "metadata": {
        "colab": {
          "base_uri": "https://localhost:8080/",
          "height": 332,
          "referenced_widgets": [
            "2b5d375e1c834be685d35ee6c58f5333",
            "64dbc364628847debf606c6d693a7ff7",
            "11e6870d0f10421e804881bf5ab2fa58"
          ]
        },
        "id": "OtrKwCzvk1_M",
        "outputId": "2291b8fd-524c-4ee9-fb76-9359902c78a2"
      },
      "execution_count": null,
      "outputs": [
        {
          "output_type": "display_data",
          "data": {
            "text/plain": [
              "             Accuracy  AUC  Recall   Prec.      F1   Kappa     MCC\n",
              "Split  Fold                                                       \n",
              "CV-Val 0       0.4867  0.0  0.4865  0.5189  0.4301  0.2299  0.2542\n",
              "       1       0.4884  0.0  0.4882  0.5153  0.4304  0.2325  0.2565\n",
              "       2       0.4926  0.0  0.4925  0.5238  0.4281  0.2388  0.2682\n",
              "       3       0.4902  0.0  0.4901  0.5022  0.4467  0.2352  0.2544\n",
              "       4       0.4984  0.0  0.4983  0.5031  0.4694  0.2475  0.2612\n",
              "       Mean    0.4913  0.0  0.4911  0.5127  0.4409  0.2368  0.2589\n",
              "       Std     0.0041  0.0  0.0041  0.0086  0.0157  0.0061  0.0053\n",
              "Train  NaN     0.4912  0.0  0.4910  0.5258  0.4317  0.2366  0.2664"
            ],
            "text/html": [
              "\n",
              "  <div id=\"df-2c4b8b80-5f1a-4619-95fd-23480389dcc9\">\n",
              "    <div class=\"colab-df-container\">\n",
              "      <div>\n",
              "<style scoped>\n",
              "    .dataframe tbody tr th:only-of-type {\n",
              "        vertical-align: middle;\n",
              "    }\n",
              "\n",
              "    .dataframe tbody tr th {\n",
              "        vertical-align: top;\n",
              "    }\n",
              "\n",
              "    .dataframe thead th {\n",
              "        text-align: right;\n",
              "    }\n",
              "</style>\n",
              "<table border=\"1\" class=\"dataframe\">\n",
              "  <thead>\n",
              "    <tr style=\"text-align: right;\">\n",
              "      <th></th>\n",
              "      <th></th>\n",
              "      <th>Accuracy</th>\n",
              "      <th>AUC</th>\n",
              "      <th>Recall</th>\n",
              "      <th>Prec.</th>\n",
              "      <th>F1</th>\n",
              "      <th>Kappa</th>\n",
              "      <th>MCC</th>\n",
              "    </tr>\n",
              "    <tr>\n",
              "      <th>Split</th>\n",
              "      <th>Fold</th>\n",
              "      <th></th>\n",
              "      <th></th>\n",
              "      <th></th>\n",
              "      <th></th>\n",
              "      <th></th>\n",
              "      <th></th>\n",
              "      <th></th>\n",
              "    </tr>\n",
              "  </thead>\n",
              "  <tbody>\n",
              "    <tr>\n",
              "      <th rowspan=\"7\" valign=\"top\">CV-Val</th>\n",
              "      <th>0</th>\n",
              "      <td>0.4867</td>\n",
              "      <td>0.0</td>\n",
              "      <td>0.4865</td>\n",
              "      <td>0.5189</td>\n",
              "      <td>0.4301</td>\n",
              "      <td>0.2299</td>\n",
              "      <td>0.2542</td>\n",
              "    </tr>\n",
              "    <tr>\n",
              "      <th>1</th>\n",
              "      <td>0.4884</td>\n",
              "      <td>0.0</td>\n",
              "      <td>0.4882</td>\n",
              "      <td>0.5153</td>\n",
              "      <td>0.4304</td>\n",
              "      <td>0.2325</td>\n",
              "      <td>0.2565</td>\n",
              "    </tr>\n",
              "    <tr>\n",
              "      <th>2</th>\n",
              "      <td>0.4926</td>\n",
              "      <td>0.0</td>\n",
              "      <td>0.4925</td>\n",
              "      <td>0.5238</td>\n",
              "      <td>0.4281</td>\n",
              "      <td>0.2388</td>\n",
              "      <td>0.2682</td>\n",
              "    </tr>\n",
              "    <tr>\n",
              "      <th>3</th>\n",
              "      <td>0.4902</td>\n",
              "      <td>0.0</td>\n",
              "      <td>0.4901</td>\n",
              "      <td>0.5022</td>\n",
              "      <td>0.4467</td>\n",
              "      <td>0.2352</td>\n",
              "      <td>0.2544</td>\n",
              "    </tr>\n",
              "    <tr>\n",
              "      <th>4</th>\n",
              "      <td>0.4984</td>\n",
              "      <td>0.0</td>\n",
              "      <td>0.4983</td>\n",
              "      <td>0.5031</td>\n",
              "      <td>0.4694</td>\n",
              "      <td>0.2475</td>\n",
              "      <td>0.2612</td>\n",
              "    </tr>\n",
              "    <tr>\n",
              "      <th>Mean</th>\n",
              "      <td>0.4913</td>\n",
              "      <td>0.0</td>\n",
              "      <td>0.4911</td>\n",
              "      <td>0.5127</td>\n",
              "      <td>0.4409</td>\n",
              "      <td>0.2368</td>\n",
              "      <td>0.2589</td>\n",
              "    </tr>\n",
              "    <tr>\n",
              "      <th>Std</th>\n",
              "      <td>0.0041</td>\n",
              "      <td>0.0</td>\n",
              "      <td>0.0041</td>\n",
              "      <td>0.0086</td>\n",
              "      <td>0.0157</td>\n",
              "      <td>0.0061</td>\n",
              "      <td>0.0053</td>\n",
              "    </tr>\n",
              "    <tr>\n",
              "      <th>Train</th>\n",
              "      <th>NaN</th>\n",
              "      <td>0.4912</td>\n",
              "      <td>0.0</td>\n",
              "      <td>0.4910</td>\n",
              "      <td>0.5258</td>\n",
              "      <td>0.4317</td>\n",
              "      <td>0.2366</td>\n",
              "      <td>0.2664</td>\n",
              "    </tr>\n",
              "  </tbody>\n",
              "</table>\n",
              "</div>\n",
              "      <button class=\"colab-df-convert\" onclick=\"convertToInteractive('df-2c4b8b80-5f1a-4619-95fd-23480389dcc9')\"\n",
              "              title=\"Convert this dataframe to an interactive table.\"\n",
              "              style=\"display:none;\">\n",
              "        \n",
              "  <svg xmlns=\"http://www.w3.org/2000/svg\" height=\"24px\"viewBox=\"0 0 24 24\"\n",
              "       width=\"24px\">\n",
              "    <path d=\"M0 0h24v24H0V0z\" fill=\"none\"/>\n",
              "    <path d=\"M18.56 5.44l.94 2.06.94-2.06 2.06-.94-2.06-.94-.94-2.06-.94 2.06-2.06.94zm-11 1L8.5 8.5l.94-2.06 2.06-.94-2.06-.94L8.5 2.5l-.94 2.06-2.06.94zm10 10l.94 2.06.94-2.06 2.06-.94-2.06-.94-.94-2.06-.94 2.06-2.06.94z\"/><path d=\"M17.41 7.96l-1.37-1.37c-.4-.4-.92-.59-1.43-.59-.52 0-1.04.2-1.43.59L10.3 9.45l-7.72 7.72c-.78.78-.78 2.05 0 2.83L4 21.41c.39.39.9.59 1.41.59.51 0 1.02-.2 1.41-.59l7.78-7.78 2.81-2.81c.8-.78.8-2.07 0-2.86zM5.41 20L4 18.59l7.72-7.72 1.47 1.35L5.41 20z\"/>\n",
              "  </svg>\n",
              "      </button>\n",
              "      \n",
              "  <style>\n",
              "    .colab-df-container {\n",
              "      display:flex;\n",
              "      flex-wrap:wrap;\n",
              "      gap: 12px;\n",
              "    }\n",
              "\n",
              "    .colab-df-convert {\n",
              "      background-color: #E8F0FE;\n",
              "      border: none;\n",
              "      border-radius: 50%;\n",
              "      cursor: pointer;\n",
              "      display: none;\n",
              "      fill: #1967D2;\n",
              "      height: 32px;\n",
              "      padding: 0 0 0 0;\n",
              "      width: 32px;\n",
              "    }\n",
              "\n",
              "    .colab-df-convert:hover {\n",
              "      background-color: #E2EBFA;\n",
              "      box-shadow: 0px 1px 2px rgba(60, 64, 67, 0.3), 0px 1px 3px 1px rgba(60, 64, 67, 0.15);\n",
              "      fill: #174EA6;\n",
              "    }\n",
              "\n",
              "    [theme=dark] .colab-df-convert {\n",
              "      background-color: #3B4455;\n",
              "      fill: #D2E3FC;\n",
              "    }\n",
              "\n",
              "    [theme=dark] .colab-df-convert:hover {\n",
              "      background-color: #434B5C;\n",
              "      box-shadow: 0px 1px 3px 1px rgba(0, 0, 0, 0.15);\n",
              "      filter: drop-shadow(0px 1px 2px rgba(0, 0, 0, 0.3));\n",
              "      fill: #FFFFFF;\n",
              "    }\n",
              "  </style>\n",
              "\n",
              "      <script>\n",
              "        const buttonEl =\n",
              "          document.querySelector('#df-2c4b8b80-5f1a-4619-95fd-23480389dcc9 button.colab-df-convert');\n",
              "        buttonEl.style.display =\n",
              "          google.colab.kernel.accessAllowed ? 'block' : 'none';\n",
              "\n",
              "        async function convertToInteractive(key) {\n",
              "          const element = document.querySelector('#df-2c4b8b80-5f1a-4619-95fd-23480389dcc9');\n",
              "          const dataTable =\n",
              "            await google.colab.kernel.invokeFunction('convertToInteractive',\n",
              "                                                     [key], {});\n",
              "          if (!dataTable) return;\n",
              "\n",
              "          const docLinkHtml = 'Like what you see? Visit the ' +\n",
              "            '<a target=\"_blank\" href=https://colab.research.google.com/notebooks/data_table.ipynb>data table notebook</a>'\n",
              "            + ' to learn more about interactive tables.';\n",
              "          element.innerHTML = '';\n",
              "          dataTable['output_type'] = 'display_data';\n",
              "          await google.colab.output.renderOutput(dataTable, element);\n",
              "          const docLink = document.createElement('div');\n",
              "          docLink.innerHTML = docLinkHtml;\n",
              "          element.appendChild(docLink);\n",
              "        }\n",
              "      </script>\n",
              "    </div>\n",
              "  </div>\n",
              "  "
            ]
          },
          "metadata": {}
        }
      ]
    },
    {
      "cell_type": "markdown",
      "source": [
        "Experimento 1: **RF 84.70% --> 84.82 apos tunning**\n",
        "\n",
        "Experimento 2: **RF 84.41%**"
      ],
      "metadata": {
        "id": "YpsK3EeMk4U4"
      }
    },
    {
      "cell_type": "markdown",
      "source": [
        "**Optimizar o modelo**"
      ],
      "metadata": {
        "id": "KVjqDa96k7cB"
      }
    },
    {
      "cell_type": "code",
      "source": [
        "params_rf={\n",
        "    'n_estimators': [100, 250],\n",
        "    'max_depth': [ 2, 4, 6,None]\n",
        "}\n",
        "\n",
        "params_svm={\n",
        "    'kernel': ['poly', 'rbf'],\n",
        "    'C': [ 1, 0.5, 5]\n",
        "}\n"
      ],
      "metadata": {
        "id": "ZxqCD3b0lC_D"
      },
      "execution_count": null,
      "outputs": []
    },
    {
      "cell_type": "code",
      "source": [
        "#Visualizar os paramteros do modelo\n",
        "#modelo.get_params().keys()\n",
        "best_model.get_params().keys()"
      ],
      "metadata": {
        "colab": {
          "base_uri": "https://localhost:8080/"
        },
        "id": "JNbVqKe14ps0",
        "outputId": "9972ac43-1b22-4fef-e1c9-be95457be78b"
      },
      "execution_count": null,
      "outputs": [
        {
          "output_type": "execute_result",
          "data": {
            "text/plain": [
              "dict_keys(['alpha', 'average', 'class_weight', 'early_stopping', 'epsilon', 'eta0', 'fit_intercept', 'l1_ratio', 'learning_rate', 'loss', 'max_iter', 'n_iter_no_change', 'n_jobs', 'penalty', 'power_t', 'random_state', 'shuffle', 'tol', 'validation_fraction', 'verbose', 'warm_start'])"
            ]
          },
          "metadata": {},
          "execution_count": 32
        }
      ]
    },
    {
      "cell_type": "code",
      "source": [
        ""
      ],
      "metadata": {
        "id": "w_Ne6wrn47za"
      },
      "execution_count": null,
      "outputs": []
    },
    {
      "cell_type": "code",
      "source": [
        "modelo_optimizado=tune_model(best_model,fold=5,custom_grid=params_rf)\n",
        "#modelo_optimizado=tune_model(modelo,fold=5,custom_grid=params_svm)"
      ],
      "metadata": {
        "colab": {
          "base_uri": "https://localhost:8080/",
          "height": 1000,
          "referenced_widgets": [
            "c44accd3444c4985b96308e001898eb2",
            "af4fa76714194f509219069fb390a0e9",
            "d596ba405c54479a9cd48d1c3a584de7"
          ]
        },
        "id": "_n32V-wflN9t",
        "outputId": "7dfa950d-4190-49d4-d21f-9bee39d5678a"
      },
      "execution_count": null,
      "outputs": [
        {
          "output_type": "display_data",
          "data": {
            "text/plain": [
              "IntProgress(value=0, description='Processing: ', max=7)"
            ],
            "application/vnd.jupyter.widget-view+json": {
              "version_major": 2,
              "version_minor": 0,
              "model_id": "c44accd3444c4985b96308e001898eb2"
            }
          },
          "metadata": {}
        },
        {
          "output_type": "display_data",
          "data": {
            "text/plain": [
              "                                                                         \n",
              "                                                                         \n",
              "Initiated  . . . . . . . . . . . . . . . . . .                   13:47:53\n",
              "Status     . . . . . . . . . . . . . . . . . .  Searching Hyperparameters\n",
              "Estimator  . . . . . . . . . . . . . . . . . .        SVM - Linear Kernel"
            ],
            "text/html": [
              "\n",
              "  <div id=\"df-fdbea059-aa1c-4c5c-bb3b-f23e7f0e35fe\">\n",
              "    <div class=\"colab-df-container\">\n",
              "      <div>\n",
              "<style scoped>\n",
              "    .dataframe tbody tr th:only-of-type {\n",
              "        vertical-align: middle;\n",
              "    }\n",
              "\n",
              "    .dataframe tbody tr th {\n",
              "        vertical-align: top;\n",
              "    }\n",
              "\n",
              "    .dataframe thead th {\n",
              "        text-align: right;\n",
              "    }\n",
              "</style>\n",
              "<table border=\"1\" class=\"dataframe\">\n",
              "  <thead>\n",
              "    <tr style=\"text-align: right;\">\n",
              "      <th></th>\n",
              "      <th></th>\n",
              "      <th></th>\n",
              "    </tr>\n",
              "    <tr>\n",
              "      <th></th>\n",
              "      <th></th>\n",
              "      <th></th>\n",
              "    </tr>\n",
              "  </thead>\n",
              "  <tbody>\n",
              "    <tr>\n",
              "      <th>Initiated</th>\n",
              "      <td>. . . . . . . . . . . . . . . . . .</td>\n",
              "      <td>13:47:53</td>\n",
              "    </tr>\n",
              "    <tr>\n",
              "      <th>Status</th>\n",
              "      <td>. . . . . . . . . . . . . . . . . .</td>\n",
              "      <td>Searching Hyperparameters</td>\n",
              "    </tr>\n",
              "    <tr>\n",
              "      <th>Estimator</th>\n",
              "      <td>. . . . . . . . . . . . . . . . . .</td>\n",
              "      <td>SVM - Linear Kernel</td>\n",
              "    </tr>\n",
              "  </tbody>\n",
              "</table>\n",
              "</div>\n",
              "      <button class=\"colab-df-convert\" onclick=\"convertToInteractive('df-fdbea059-aa1c-4c5c-bb3b-f23e7f0e35fe')\"\n",
              "              title=\"Convert this dataframe to an interactive table.\"\n",
              "              style=\"display:none;\">\n",
              "        \n",
              "  <svg xmlns=\"http://www.w3.org/2000/svg\" height=\"24px\"viewBox=\"0 0 24 24\"\n",
              "       width=\"24px\">\n",
              "    <path d=\"M0 0h24v24H0V0z\" fill=\"none\"/>\n",
              "    <path d=\"M18.56 5.44l.94 2.06.94-2.06 2.06-.94-2.06-.94-.94-2.06-.94 2.06-2.06.94zm-11 1L8.5 8.5l.94-2.06 2.06-.94-2.06-.94L8.5 2.5l-.94 2.06-2.06.94zm10 10l.94 2.06.94-2.06 2.06-.94-2.06-.94-.94-2.06-.94 2.06-2.06.94z\"/><path d=\"M17.41 7.96l-1.37-1.37c-.4-.4-.92-.59-1.43-.59-.52 0-1.04.2-1.43.59L10.3 9.45l-7.72 7.72c-.78.78-.78 2.05 0 2.83L4 21.41c.39.39.9.59 1.41.59.51 0 1.02-.2 1.41-.59l7.78-7.78 2.81-2.81c.8-.78.8-2.07 0-2.86zM5.41 20L4 18.59l7.72-7.72 1.47 1.35L5.41 20z\"/>\n",
              "  </svg>\n",
              "      </button>\n",
              "      \n",
              "  <style>\n",
              "    .colab-df-container {\n",
              "      display:flex;\n",
              "      flex-wrap:wrap;\n",
              "      gap: 12px;\n",
              "    }\n",
              "\n",
              "    .colab-df-convert {\n",
              "      background-color: #E8F0FE;\n",
              "      border: none;\n",
              "      border-radius: 50%;\n",
              "      cursor: pointer;\n",
              "      display: none;\n",
              "      fill: #1967D2;\n",
              "      height: 32px;\n",
              "      padding: 0 0 0 0;\n",
              "      width: 32px;\n",
              "    }\n",
              "\n",
              "    .colab-df-convert:hover {\n",
              "      background-color: #E2EBFA;\n",
              "      box-shadow: 0px 1px 2px rgba(60, 64, 67, 0.3), 0px 1px 3px 1px rgba(60, 64, 67, 0.15);\n",
              "      fill: #174EA6;\n",
              "    }\n",
              "\n",
              "    [theme=dark] .colab-df-convert {\n",
              "      background-color: #3B4455;\n",
              "      fill: #D2E3FC;\n",
              "    }\n",
              "\n",
              "    [theme=dark] .colab-df-convert:hover {\n",
              "      background-color: #434B5C;\n",
              "      box-shadow: 0px 1px 3px 1px rgba(0, 0, 0, 0.15);\n",
              "      filter: drop-shadow(0px 1px 2px rgba(0, 0, 0, 0.3));\n",
              "      fill: #FFFFFF;\n",
              "    }\n",
              "  </style>\n",
              "\n",
              "      <script>\n",
              "        const buttonEl =\n",
              "          document.querySelector('#df-fdbea059-aa1c-4c5c-bb3b-f23e7f0e35fe button.colab-df-convert');\n",
              "        buttonEl.style.display =\n",
              "          google.colab.kernel.accessAllowed ? 'block' : 'none';\n",
              "\n",
              "        async function convertToInteractive(key) {\n",
              "          const element = document.querySelector('#df-fdbea059-aa1c-4c5c-bb3b-f23e7f0e35fe');\n",
              "          const dataTable =\n",
              "            await google.colab.kernel.invokeFunction('convertToInteractive',\n",
              "                                                     [key], {});\n",
              "          if (!dataTable) return;\n",
              "\n",
              "          const docLinkHtml = 'Like what you see? Visit the ' +\n",
              "            '<a target=\"_blank\" href=https://colab.research.google.com/notebooks/data_table.ipynb>data table notebook</a>'\n",
              "            + ' to learn more about interactive tables.';\n",
              "          element.innerHTML = '';\n",
              "          dataTable['output_type'] = 'display_data';\n",
              "          await google.colab.output.renderOutput(dataTable, element);\n",
              "          const docLink = document.createElement('div');\n",
              "          docLink.innerHTML = docLinkHtml;\n",
              "          element.appendChild(docLink);\n",
              "        }\n",
              "      </script>\n",
              "    </div>\n",
              "  </div>\n",
              "  "
            ]
          },
          "metadata": {}
        },
        {
          "output_type": "display_data",
          "data": {
            "text/plain": [
              "Empty DataFrame\n",
              "Columns: [Split, Fold, Accuracy, AUC, Recall, Prec., F1, Kappa, MCC]\n",
              "Index: []"
            ],
            "text/html": [
              "\n",
              "  <div id=\"df-2f4a02d8-5a10-4e54-b8c1-3d294addb545\">\n",
              "    <div class=\"colab-df-container\">\n",
              "      <div>\n",
              "<style scoped>\n",
              "    .dataframe tbody tr th:only-of-type {\n",
              "        vertical-align: middle;\n",
              "    }\n",
              "\n",
              "    .dataframe tbody tr th {\n",
              "        vertical-align: top;\n",
              "    }\n",
              "\n",
              "    .dataframe thead th {\n",
              "        text-align: right;\n",
              "    }\n",
              "</style>\n",
              "<table border=\"1\" class=\"dataframe\">\n",
              "  <thead>\n",
              "    <tr style=\"text-align: right;\">\n",
              "      <th></th>\n",
              "      <th>Split</th>\n",
              "      <th>Fold</th>\n",
              "      <th>Accuracy</th>\n",
              "      <th>AUC</th>\n",
              "      <th>Recall</th>\n",
              "      <th>Prec.</th>\n",
              "      <th>F1</th>\n",
              "      <th>Kappa</th>\n",
              "      <th>MCC</th>\n",
              "    </tr>\n",
              "  </thead>\n",
              "  <tbody>\n",
              "  </tbody>\n",
              "</table>\n",
              "</div>\n",
              "      <button class=\"colab-df-convert\" onclick=\"convertToInteractive('df-2f4a02d8-5a10-4e54-b8c1-3d294addb545')\"\n",
              "              title=\"Convert this dataframe to an interactive table.\"\n",
              "              style=\"display:none;\">\n",
              "        \n",
              "  <svg xmlns=\"http://www.w3.org/2000/svg\" height=\"24px\"viewBox=\"0 0 24 24\"\n",
              "       width=\"24px\">\n",
              "    <path d=\"M0 0h24v24H0V0z\" fill=\"none\"/>\n",
              "    <path d=\"M18.56 5.44l.94 2.06.94-2.06 2.06-.94-2.06-.94-.94-2.06-.94 2.06-2.06.94zm-11 1L8.5 8.5l.94-2.06 2.06-.94-2.06-.94L8.5 2.5l-.94 2.06-2.06.94zm10 10l.94 2.06.94-2.06 2.06-.94-2.06-.94-.94-2.06-.94 2.06-2.06.94z\"/><path d=\"M17.41 7.96l-1.37-1.37c-.4-.4-.92-.59-1.43-.59-.52 0-1.04.2-1.43.59L10.3 9.45l-7.72 7.72c-.78.78-.78 2.05 0 2.83L4 21.41c.39.39.9.59 1.41.59.51 0 1.02-.2 1.41-.59l7.78-7.78 2.81-2.81c.8-.78.8-2.07 0-2.86zM5.41 20L4 18.59l7.72-7.72 1.47 1.35L5.41 20z\"/>\n",
              "  </svg>\n",
              "      </button>\n",
              "      \n",
              "  <style>\n",
              "    .colab-df-container {\n",
              "      display:flex;\n",
              "      flex-wrap:wrap;\n",
              "      gap: 12px;\n",
              "    }\n",
              "\n",
              "    .colab-df-convert {\n",
              "      background-color: #E8F0FE;\n",
              "      border: none;\n",
              "      border-radius: 50%;\n",
              "      cursor: pointer;\n",
              "      display: none;\n",
              "      fill: #1967D2;\n",
              "      height: 32px;\n",
              "      padding: 0 0 0 0;\n",
              "      width: 32px;\n",
              "    }\n",
              "\n",
              "    .colab-df-convert:hover {\n",
              "      background-color: #E2EBFA;\n",
              "      box-shadow: 0px 1px 2px rgba(60, 64, 67, 0.3), 0px 1px 3px 1px rgba(60, 64, 67, 0.15);\n",
              "      fill: #174EA6;\n",
              "    }\n",
              "\n",
              "    [theme=dark] .colab-df-convert {\n",
              "      background-color: #3B4455;\n",
              "      fill: #D2E3FC;\n",
              "    }\n",
              "\n",
              "    [theme=dark] .colab-df-convert:hover {\n",
              "      background-color: #434B5C;\n",
              "      box-shadow: 0px 1px 3px 1px rgba(0, 0, 0, 0.15);\n",
              "      filter: drop-shadow(0px 1px 2px rgba(0, 0, 0, 0.3));\n",
              "      fill: #FFFFFF;\n",
              "    }\n",
              "  </style>\n",
              "\n",
              "      <script>\n",
              "        const buttonEl =\n",
              "          document.querySelector('#df-2f4a02d8-5a10-4e54-b8c1-3d294addb545 button.colab-df-convert');\n",
              "        buttonEl.style.display =\n",
              "          google.colab.kernel.accessAllowed ? 'block' : 'none';\n",
              "\n",
              "        async function convertToInteractive(key) {\n",
              "          const element = document.querySelector('#df-2f4a02d8-5a10-4e54-b8c1-3d294addb545');\n",
              "          const dataTable =\n",
              "            await google.colab.kernel.invokeFunction('convertToInteractive',\n",
              "                                                     [key], {});\n",
              "          if (!dataTable) return;\n",
              "\n",
              "          const docLinkHtml = 'Like what you see? Visit the ' +\n",
              "            '<a target=\"_blank\" href=https://colab.research.google.com/notebooks/data_table.ipynb>data table notebook</a>'\n",
              "            + ' to learn more about interactive tables.';\n",
              "          element.innerHTML = '';\n",
              "          dataTable['output_type'] = 'display_data';\n",
              "          await google.colab.output.renderOutput(dataTable, element);\n",
              "          const docLink = document.createElement('div');\n",
              "          docLink.innerHTML = docLinkHtml;\n",
              "          element.appendChild(docLink);\n",
              "        }\n",
              "      </script>\n",
              "    </div>\n",
              "  </div>\n",
              "  "
            ]
          },
          "metadata": {}
        },
        {
          "output_type": "stream",
          "name": "stdout",
          "text": [
            "Fitting 5 folds for each of 6 candidates, totalling 30 fits\n"
          ]
        },
        {
          "output_type": "stream",
          "name": "stderr",
          "text": [
            "[Parallel(n_jobs=-1)]: Using backend LokyBackend with 2 concurrent workers.\n"
          ]
        },
        {
          "output_type": "error",
          "ename": "ValueError",
          "evalue": "ignored",
          "traceback": [
            "\u001b[0;31m---------------------------------------------------------------------------\u001b[0m",
            "\u001b[0;31m_RemoteTraceback\u001b[0m                          Traceback (most recent call last)",
            "\u001b[0;31m_RemoteTraceback\u001b[0m: \n\"\"\"\nTraceback (most recent call last):\n  File \"/usr/local/lib/python3.7/dist-packages/pycaret/internal/pipeline.py\", line 106, in set_params\n    result = super().set_params(**kwargs)\n  File \"/usr/local/lib/python3.7/dist-packages/sklearn/pipeline.py\", line 141, in set_params\n    self._set_params('steps', **kwargs)\n  File \"/usr/local/lib/python3.7/dist-packages/sklearn/utils/metaestimators.py\", line 53, in _set_params\n    super().set_params(**params)\n  File \"/usr/local/lib/python3.7/dist-packages/sklearn/base.py\", line 261, in set_params\n    valid_params[key].set_params(**sub_params)\n  File \"/usr/local/lib/python3.7/dist-packages/sklearn/linear_model/_stochastic_gradient.py\", line 116, in set_params\n    super().set_params(**kwargs)\n  File \"/usr/local/lib/python3.7/dist-packages/sklearn/base.py\", line 252, in set_params\n    (key, self))\nValueError: Invalid parameter kernel for estimator SGDClassifier(eta0=0.001, n_jobs=-1, random_state=123). Check the list of available parameters with `estimator.get_params().keys()`.\n\nDuring handling of the above exception, another exception occurred:\n\nTraceback (most recent call last):\n  File \"/usr/local/lib/python3.7/dist-packages/joblib/externals/loky/process_executor.py\", line 431, in _process_worker\n    r = call_item()\n  File \"/usr/local/lib/python3.7/dist-packages/joblib/externals/loky/process_executor.py\", line 285, in __call__\n    return self.fn(*self.args, **self.kwargs)\n  File \"/usr/local/lib/python3.7/dist-packages/joblib/_parallel_backends.py\", line 595, in __call__\n    return self.func(*args, **kwargs)\n  File \"/usr/local/lib/python3.7/dist-packages/joblib/parallel.py\", line 263, in __call__\n    for func, args, kwargs in self.items]\n  File \"/usr/local/lib/python3.7/dist-packages/joblib/parallel.py\", line 263, in <listcomp>\n    for func, args, kwargs in self.items]\n  File \"/usr/local/lib/python3.7/dist-packages/sklearn/model_selection/_validation.py\", line 520, in _fit_and_score\n    estimator = estimator.set_params(**cloned_parameters)\n  File \"/usr/local/lib/python3.7/dist-packages/pycaret/internal/pipeline.py\", line 108, in set_params\n    result = self._final_estimator.set_params(**kwargs)\n  File \"/usr/local/lib/python3.7/dist-packages/sklearn/linear_model/_stochastic_gradient.py\", line 116, in set_params\n    super().set_params(**kwargs)\n  File \"/usr/local/lib/python3.7/dist-packages/sklearn/base.py\", line 252, in set_params\n    (key, self))\nValueError: Invalid parameter actual_estimator for estimator SGDClassifier(eta0=0.001, n_jobs=-1, random_state=123). Check the list of available parameters with `estimator.get_params().keys()`.\n\"\"\"",
            "\nThe above exception was the direct cause of the following exception:\n",
            "\u001b[0;31mValueError\u001b[0m                                Traceback (most recent call last)",
            "\u001b[0;32m<ipython-input-29-a6015edfa3da>\u001b[0m in \u001b[0;36m<module>\u001b[0;34m()\u001b[0m\n\u001b[1;32m      1\u001b[0m \u001b[0;31m#modelo_optimizado=tune_model(best_model,fold=5,custom_grid=params_rf)\u001b[0m\u001b[0;34m\u001b[0m\u001b[0;34m\u001b[0m\u001b[0;34m\u001b[0m\u001b[0m\n\u001b[0;32m----> 2\u001b[0;31m \u001b[0mmodelo_optimizado\u001b[0m\u001b[0;34m=\u001b[0m\u001b[0mtune_model\u001b[0m\u001b[0;34m(\u001b[0m\u001b[0mmodelo\u001b[0m\u001b[0;34m,\u001b[0m\u001b[0mfold\u001b[0m\u001b[0;34m=\u001b[0m\u001b[0;36m5\u001b[0m\u001b[0;34m,\u001b[0m\u001b[0mcustom_grid\u001b[0m\u001b[0;34m=\u001b[0m\u001b[0mparams_svm\u001b[0m\u001b[0;34m)\u001b[0m\u001b[0;34m\u001b[0m\u001b[0;34m\u001b[0m\u001b[0m\n\u001b[0m",
            "\u001b[0;32m/usr/local/lib/python3.7/dist-packages/pycaret/classification.py\u001b[0m in \u001b[0;36mtune_model\u001b[0;34m(estimator, fold, round, n_iter, custom_grid, optimize, custom_scorer, search_library, search_algorithm, early_stopping, early_stopping_max_iters, choose_better, fit_kwargs, groups, return_tuner, verbose, tuner_verbose, return_train_score, **kwargs)\u001b[0m\n\u001b[1;32m   1178\u001b[0m         \u001b[0mtuner_verbose\u001b[0m\u001b[0;34m=\u001b[0m\u001b[0mtuner_verbose\u001b[0m\u001b[0;34m,\u001b[0m\u001b[0;34m\u001b[0m\u001b[0;34m\u001b[0m\u001b[0m\n\u001b[1;32m   1179\u001b[0m         \u001b[0mreturn_train_score\u001b[0m\u001b[0;34m=\u001b[0m\u001b[0mreturn_train_score\u001b[0m\u001b[0;34m,\u001b[0m\u001b[0;34m\u001b[0m\u001b[0;34m\u001b[0m\u001b[0m\n\u001b[0;32m-> 1180\u001b[0;31m         \u001b[0;34m**\u001b[0m\u001b[0mkwargs\u001b[0m\u001b[0;34m,\u001b[0m\u001b[0;34m\u001b[0m\u001b[0;34m\u001b[0m\u001b[0m\n\u001b[0m\u001b[1;32m   1181\u001b[0m     )\n\u001b[1;32m   1182\u001b[0m \u001b[0;34m\u001b[0m\u001b[0m\n",
            "\u001b[0;32m/usr/local/lib/python3.7/dist-packages/pycaret/internal/tabular.py\u001b[0m in \u001b[0;36mtune_model_supervised\u001b[0;34m(estimator, fold, round, n_iter, custom_grid, optimize, custom_scorer, search_library, search_algorithm, early_stopping, early_stopping_max_iters, choose_better, fit_kwargs, groups, return_tuner, verbose, tuner_verbose, display, return_train_score, **kwargs)\u001b[0m\n\u001b[1;32m   4627\u001b[0m                 \u001b[0mpycaret\u001b[0m\u001b[0;34m.\u001b[0m\u001b[0minternal\u001b[0m\u001b[0;34m.\u001b[0m\u001b[0mpatches\u001b[0m\u001b[0;34m.\u001b[0m\u001b[0msklearn\u001b[0m\u001b[0;34m.\u001b[0m\u001b[0m_mp_ParameterGrid_getitem\u001b[0m\u001b[0;34m,\u001b[0m\u001b[0;34m\u001b[0m\u001b[0;34m\u001b[0m\u001b[0m\n\u001b[1;32m   4628\u001b[0m             ):\n\u001b[0;32m-> 4629\u001b[0;31m                 \u001b[0mmodel_grid\u001b[0m\u001b[0;34m.\u001b[0m\u001b[0mfit\u001b[0m\u001b[0;34m(\u001b[0m\u001b[0mX_train\u001b[0m\u001b[0;34m,\u001b[0m \u001b[0my_train\u001b[0m\u001b[0;34m,\u001b[0m \u001b[0mgroups\u001b[0m\u001b[0;34m=\u001b[0m\u001b[0mgroups\u001b[0m\u001b[0;34m,\u001b[0m \u001b[0;34m**\u001b[0m\u001b[0mfit_kwargs\u001b[0m\u001b[0;34m)\u001b[0m\u001b[0;34m\u001b[0m\u001b[0;34m\u001b[0m\u001b[0m\n\u001b[0m\u001b[1;32m   4630\u001b[0m         \u001b[0;32melse\u001b[0m\u001b[0;34m:\u001b[0m\u001b[0;34m\u001b[0m\u001b[0;34m\u001b[0m\u001b[0m\n\u001b[1;32m   4631\u001b[0m             \u001b[0mmodel_grid\u001b[0m\u001b[0;34m.\u001b[0m\u001b[0mfit\u001b[0m\u001b[0;34m(\u001b[0m\u001b[0mX_train\u001b[0m\u001b[0;34m,\u001b[0m \u001b[0my_train\u001b[0m\u001b[0;34m,\u001b[0m \u001b[0mgroups\u001b[0m\u001b[0;34m=\u001b[0m\u001b[0mgroups\u001b[0m\u001b[0;34m,\u001b[0m \u001b[0;34m**\u001b[0m\u001b[0mfit_kwargs\u001b[0m\u001b[0;34m)\u001b[0m\u001b[0;34m\u001b[0m\u001b[0;34m\u001b[0m\u001b[0m\n",
            "\u001b[0;32m/usr/local/lib/python3.7/dist-packages/sklearn/utils/validation.py\u001b[0m in \u001b[0;36minner_f\u001b[0;34m(*args, **kwargs)\u001b[0m\n\u001b[1;32m     70\u001b[0m                           FutureWarning)\n\u001b[1;32m     71\u001b[0m         \u001b[0mkwargs\u001b[0m\u001b[0;34m.\u001b[0m\u001b[0mupdate\u001b[0m\u001b[0;34m(\u001b[0m\u001b[0;34m{\u001b[0m\u001b[0mk\u001b[0m\u001b[0;34m:\u001b[0m \u001b[0marg\u001b[0m \u001b[0;32mfor\u001b[0m \u001b[0mk\u001b[0m\u001b[0;34m,\u001b[0m \u001b[0marg\u001b[0m \u001b[0;32min\u001b[0m \u001b[0mzip\u001b[0m\u001b[0;34m(\u001b[0m\u001b[0msig\u001b[0m\u001b[0;34m.\u001b[0m\u001b[0mparameters\u001b[0m\u001b[0;34m,\u001b[0m \u001b[0margs\u001b[0m\u001b[0;34m)\u001b[0m\u001b[0;34m}\u001b[0m\u001b[0;34m)\u001b[0m\u001b[0;34m\u001b[0m\u001b[0;34m\u001b[0m\u001b[0m\n\u001b[0;32m---> 72\u001b[0;31m         \u001b[0;32mreturn\u001b[0m \u001b[0mf\u001b[0m\u001b[0;34m(\u001b[0m\u001b[0;34m**\u001b[0m\u001b[0mkwargs\u001b[0m\u001b[0;34m)\u001b[0m\u001b[0;34m\u001b[0m\u001b[0;34m\u001b[0m\u001b[0m\n\u001b[0m\u001b[1;32m     73\u001b[0m     \u001b[0;32mreturn\u001b[0m \u001b[0minner_f\u001b[0m\u001b[0;34m\u001b[0m\u001b[0;34m\u001b[0m\u001b[0m\n\u001b[1;32m     74\u001b[0m \u001b[0;34m\u001b[0m\u001b[0m\n",
            "\u001b[0;32m/usr/local/lib/python3.7/dist-packages/sklearn/model_selection/_search.py\u001b[0m in \u001b[0;36mfit\u001b[0;34m(self, X, y, groups, **fit_params)\u001b[0m\n\u001b[1;32m    734\u001b[0m                 \u001b[0;32mreturn\u001b[0m \u001b[0mresults\u001b[0m\u001b[0;34m\u001b[0m\u001b[0;34m\u001b[0m\u001b[0m\n\u001b[1;32m    735\u001b[0m \u001b[0;34m\u001b[0m\u001b[0m\n\u001b[0;32m--> 736\u001b[0;31m             \u001b[0mself\u001b[0m\u001b[0;34m.\u001b[0m\u001b[0m_run_search\u001b[0m\u001b[0;34m(\u001b[0m\u001b[0mevaluate_candidates\u001b[0m\u001b[0;34m)\u001b[0m\u001b[0;34m\u001b[0m\u001b[0;34m\u001b[0m\u001b[0m\n\u001b[0m\u001b[1;32m    737\u001b[0m \u001b[0;34m\u001b[0m\u001b[0m\n\u001b[1;32m    738\u001b[0m         \u001b[0;31m# For multi-metric evaluation, store the best_index_, best_params_ and\u001b[0m\u001b[0;34m\u001b[0m\u001b[0;34m\u001b[0m\u001b[0;34m\u001b[0m\u001b[0m\n",
            "\u001b[0;32m/usr/local/lib/python3.7/dist-packages/sklearn/model_selection/_search.py\u001b[0m in \u001b[0;36m_run_search\u001b[0;34m(self, evaluate_candidates)\u001b[0m\n\u001b[1;32m   1529\u001b[0m         evaluate_candidates(ParameterSampler(\n\u001b[1;32m   1530\u001b[0m             \u001b[0mself\u001b[0m\u001b[0;34m.\u001b[0m\u001b[0mparam_distributions\u001b[0m\u001b[0;34m,\u001b[0m \u001b[0mself\u001b[0m\u001b[0;34m.\u001b[0m\u001b[0mn_iter\u001b[0m\u001b[0;34m,\u001b[0m\u001b[0;34m\u001b[0m\u001b[0;34m\u001b[0m\u001b[0m\n\u001b[0;32m-> 1531\u001b[0;31m             random_state=self.random_state))\n\u001b[0m",
            "\u001b[0;32m/usr/local/lib/python3.7/dist-packages/sklearn/model_selection/_search.py\u001b[0m in \u001b[0;36mevaluate_candidates\u001b[0;34m(candidate_params)\u001b[0m\n\u001b[1;32m    713\u001b[0m                                \u001b[0;32mfor\u001b[0m \u001b[0mparameters\u001b[0m\u001b[0;34m,\u001b[0m \u001b[0;34m(\u001b[0m\u001b[0mtrain\u001b[0m\u001b[0;34m,\u001b[0m \u001b[0mtest\u001b[0m\u001b[0;34m)\u001b[0m\u001b[0;34m\u001b[0m\u001b[0;34m\u001b[0m\u001b[0m\n\u001b[1;32m    714\u001b[0m                                in product(candidate_params,\n\u001b[0;32m--> 715\u001b[0;31m                                           cv.split(X, y, groups)))\n\u001b[0m\u001b[1;32m    716\u001b[0m \u001b[0;34m\u001b[0m\u001b[0m\n\u001b[1;32m    717\u001b[0m                 \u001b[0;32mif\u001b[0m \u001b[0mlen\u001b[0m\u001b[0;34m(\u001b[0m\u001b[0mout\u001b[0m\u001b[0;34m)\u001b[0m \u001b[0;34m<\u001b[0m \u001b[0;36m1\u001b[0m\u001b[0;34m:\u001b[0m\u001b[0;34m\u001b[0m\u001b[0;34m\u001b[0m\u001b[0m\n",
            "\u001b[0;32m/usr/local/lib/python3.7/dist-packages/joblib/parallel.py\u001b[0m in \u001b[0;36m__call__\u001b[0;34m(self, iterable)\u001b[0m\n\u001b[1;32m   1052\u001b[0m \u001b[0;34m\u001b[0m\u001b[0m\n\u001b[1;32m   1053\u001b[0m             \u001b[0;32mwith\u001b[0m \u001b[0mself\u001b[0m\u001b[0;34m.\u001b[0m\u001b[0m_backend\u001b[0m\u001b[0;34m.\u001b[0m\u001b[0mretrieval_context\u001b[0m\u001b[0;34m(\u001b[0m\u001b[0;34m)\u001b[0m\u001b[0;34m:\u001b[0m\u001b[0;34m\u001b[0m\u001b[0;34m\u001b[0m\u001b[0m\n\u001b[0;32m-> 1054\u001b[0;31m                 \u001b[0mself\u001b[0m\u001b[0;34m.\u001b[0m\u001b[0mretrieve\u001b[0m\u001b[0;34m(\u001b[0m\u001b[0;34m)\u001b[0m\u001b[0;34m\u001b[0m\u001b[0;34m\u001b[0m\u001b[0m\n\u001b[0m\u001b[1;32m   1055\u001b[0m             \u001b[0;31m# Make sure that we get a last message telling us we are done\u001b[0m\u001b[0;34m\u001b[0m\u001b[0;34m\u001b[0m\u001b[0;34m\u001b[0m\u001b[0m\n\u001b[1;32m   1056\u001b[0m             \u001b[0melapsed_time\u001b[0m \u001b[0;34m=\u001b[0m \u001b[0mtime\u001b[0m\u001b[0;34m.\u001b[0m\u001b[0mtime\u001b[0m\u001b[0;34m(\u001b[0m\u001b[0;34m)\u001b[0m \u001b[0;34m-\u001b[0m \u001b[0mself\u001b[0m\u001b[0;34m.\u001b[0m\u001b[0m_start_time\u001b[0m\u001b[0;34m\u001b[0m\u001b[0;34m\u001b[0m\u001b[0m\n",
            "\u001b[0;32m/usr/local/lib/python3.7/dist-packages/joblib/parallel.py\u001b[0m in \u001b[0;36mretrieve\u001b[0;34m(self)\u001b[0m\n\u001b[1;32m    931\u001b[0m             \u001b[0;32mtry\u001b[0m\u001b[0;34m:\u001b[0m\u001b[0;34m\u001b[0m\u001b[0;34m\u001b[0m\u001b[0m\n\u001b[1;32m    932\u001b[0m                 \u001b[0;32mif\u001b[0m \u001b[0mgetattr\u001b[0m\u001b[0;34m(\u001b[0m\u001b[0mself\u001b[0m\u001b[0;34m.\u001b[0m\u001b[0m_backend\u001b[0m\u001b[0;34m,\u001b[0m \u001b[0;34m'supports_timeout'\u001b[0m\u001b[0;34m,\u001b[0m \u001b[0;32mFalse\u001b[0m\u001b[0;34m)\u001b[0m\u001b[0;34m:\u001b[0m\u001b[0;34m\u001b[0m\u001b[0;34m\u001b[0m\u001b[0m\n\u001b[0;32m--> 933\u001b[0;31m                     \u001b[0mself\u001b[0m\u001b[0;34m.\u001b[0m\u001b[0m_output\u001b[0m\u001b[0;34m.\u001b[0m\u001b[0mextend\u001b[0m\u001b[0;34m(\u001b[0m\u001b[0mjob\u001b[0m\u001b[0;34m.\u001b[0m\u001b[0mget\u001b[0m\u001b[0;34m(\u001b[0m\u001b[0mtimeout\u001b[0m\u001b[0;34m=\u001b[0m\u001b[0mself\u001b[0m\u001b[0;34m.\u001b[0m\u001b[0mtimeout\u001b[0m\u001b[0;34m)\u001b[0m\u001b[0;34m)\u001b[0m\u001b[0;34m\u001b[0m\u001b[0;34m\u001b[0m\u001b[0m\n\u001b[0m\u001b[1;32m    934\u001b[0m                 \u001b[0;32melse\u001b[0m\u001b[0;34m:\u001b[0m\u001b[0;34m\u001b[0m\u001b[0;34m\u001b[0m\u001b[0m\n\u001b[1;32m    935\u001b[0m                     \u001b[0mself\u001b[0m\u001b[0;34m.\u001b[0m\u001b[0m_output\u001b[0m\u001b[0;34m.\u001b[0m\u001b[0mextend\u001b[0m\u001b[0;34m(\u001b[0m\u001b[0mjob\u001b[0m\u001b[0;34m.\u001b[0m\u001b[0mget\u001b[0m\u001b[0;34m(\u001b[0m\u001b[0;34m)\u001b[0m\u001b[0;34m)\u001b[0m\u001b[0;34m\u001b[0m\u001b[0;34m\u001b[0m\u001b[0m\n",
            "\u001b[0;32m/usr/local/lib/python3.7/dist-packages/joblib/_parallel_backends.py\u001b[0m in \u001b[0;36mwrap_future_result\u001b[0;34m(future, timeout)\u001b[0m\n\u001b[1;32m    540\u001b[0m         AsyncResults.get from multiprocessing.\"\"\"\n\u001b[1;32m    541\u001b[0m         \u001b[0;32mtry\u001b[0m\u001b[0;34m:\u001b[0m\u001b[0;34m\u001b[0m\u001b[0;34m\u001b[0m\u001b[0m\n\u001b[0;32m--> 542\u001b[0;31m             \u001b[0;32mreturn\u001b[0m \u001b[0mfuture\u001b[0m\u001b[0;34m.\u001b[0m\u001b[0mresult\u001b[0m\u001b[0;34m(\u001b[0m\u001b[0mtimeout\u001b[0m\u001b[0;34m=\u001b[0m\u001b[0mtimeout\u001b[0m\u001b[0;34m)\u001b[0m\u001b[0;34m\u001b[0m\u001b[0;34m\u001b[0m\u001b[0m\n\u001b[0m\u001b[1;32m    543\u001b[0m         \u001b[0;32mexcept\u001b[0m \u001b[0mCfTimeoutError\u001b[0m \u001b[0;32mas\u001b[0m \u001b[0me\u001b[0m\u001b[0;34m:\u001b[0m\u001b[0;34m\u001b[0m\u001b[0;34m\u001b[0m\u001b[0m\n\u001b[1;32m    544\u001b[0m             \u001b[0;32mraise\u001b[0m \u001b[0mTimeoutError\u001b[0m \u001b[0;32mfrom\u001b[0m \u001b[0me\u001b[0m\u001b[0;34m\u001b[0m\u001b[0;34m\u001b[0m\u001b[0m\n",
            "\u001b[0;32m/usr/lib/python3.7/concurrent/futures/_base.py\u001b[0m in \u001b[0;36mresult\u001b[0;34m(self, timeout)\u001b[0m\n\u001b[1;32m    433\u001b[0m                 \u001b[0;32mraise\u001b[0m \u001b[0mCancelledError\u001b[0m\u001b[0;34m(\u001b[0m\u001b[0;34m)\u001b[0m\u001b[0;34m\u001b[0m\u001b[0;34m\u001b[0m\u001b[0m\n\u001b[1;32m    434\u001b[0m             \u001b[0;32melif\u001b[0m \u001b[0mself\u001b[0m\u001b[0;34m.\u001b[0m\u001b[0m_state\u001b[0m \u001b[0;34m==\u001b[0m \u001b[0mFINISHED\u001b[0m\u001b[0;34m:\u001b[0m\u001b[0;34m\u001b[0m\u001b[0;34m\u001b[0m\u001b[0m\n\u001b[0;32m--> 435\u001b[0;31m                 \u001b[0;32mreturn\u001b[0m \u001b[0mself\u001b[0m\u001b[0;34m.\u001b[0m\u001b[0m__get_result\u001b[0m\u001b[0;34m(\u001b[0m\u001b[0;34m)\u001b[0m\u001b[0;34m\u001b[0m\u001b[0;34m\u001b[0m\u001b[0m\n\u001b[0m\u001b[1;32m    436\u001b[0m             \u001b[0;32melse\u001b[0m\u001b[0;34m:\u001b[0m\u001b[0;34m\u001b[0m\u001b[0;34m\u001b[0m\u001b[0m\n\u001b[1;32m    437\u001b[0m                 \u001b[0;32mraise\u001b[0m \u001b[0mTimeoutError\u001b[0m\u001b[0;34m(\u001b[0m\u001b[0;34m)\u001b[0m\u001b[0;34m\u001b[0m\u001b[0;34m\u001b[0m\u001b[0m\n",
            "\u001b[0;32m/usr/lib/python3.7/concurrent/futures/_base.py\u001b[0m in \u001b[0;36m__get_result\u001b[0;34m(self)\u001b[0m\n\u001b[1;32m    382\u001b[0m     \u001b[0;32mdef\u001b[0m \u001b[0m__get_result\u001b[0m\u001b[0;34m(\u001b[0m\u001b[0mself\u001b[0m\u001b[0;34m)\u001b[0m\u001b[0;34m:\u001b[0m\u001b[0;34m\u001b[0m\u001b[0;34m\u001b[0m\u001b[0m\n\u001b[1;32m    383\u001b[0m         \u001b[0;32mif\u001b[0m \u001b[0mself\u001b[0m\u001b[0;34m.\u001b[0m\u001b[0m_exception\u001b[0m\u001b[0;34m:\u001b[0m\u001b[0;34m\u001b[0m\u001b[0;34m\u001b[0m\u001b[0m\n\u001b[0;32m--> 384\u001b[0;31m             \u001b[0;32mraise\u001b[0m \u001b[0mself\u001b[0m\u001b[0;34m.\u001b[0m\u001b[0m_exception\u001b[0m\u001b[0;34m\u001b[0m\u001b[0;34m\u001b[0m\u001b[0m\n\u001b[0m\u001b[1;32m    385\u001b[0m         \u001b[0;32melse\u001b[0m\u001b[0;34m:\u001b[0m\u001b[0;34m\u001b[0m\u001b[0;34m\u001b[0m\u001b[0m\n\u001b[1;32m    386\u001b[0m             \u001b[0;32mreturn\u001b[0m \u001b[0mself\u001b[0m\u001b[0;34m.\u001b[0m\u001b[0m_result\u001b[0m\u001b[0;34m\u001b[0m\u001b[0;34m\u001b[0m\u001b[0m\n",
            "\u001b[0;31mValueError\u001b[0m: Invalid parameter actual_estimator for estimator SGDClassifier(eta0=0.001, n_jobs=-1, random_state=123). Check the list of available parameters with `estimator.get_params().keys()`."
          ]
        }
      ]
    },
    {
      "cell_type": "markdown",
      "source": [
        "**Efectuar previsoes**"
      ],
      "metadata": {
        "id": "MZrsC6JdlR8x"
      }
    },
    {
      "cell_type": "code",
      "source": [
        "#del best_model"
      ],
      "metadata": {
        "id": "B3k1f4YgxlFy"
      },
      "execution_count": null,
      "outputs": []
    },
    {
      "cell_type": "code",
      "source": [
        "#Prever usando a porcao de testes\n",
        "predict_model(modelo_optimizado)"
      ],
      "metadata": {
        "id": "9PnCtYmplUwl"
      },
      "execution_count": null,
      "outputs": []
    },
    {
      "cell_type": "markdown",
      "source": [
        "**Finalizar o modelo (treinar o modelo com todos os dados disponiveis)**"
      ],
      "metadata": {
        "id": "hx1f3HSmxsoD"
      }
    },
    {
      "cell_type": "code",
      "source": [
        "modelo_final=finalize_model(modelo_optimizado)"
      ],
      "metadata": {
        "id": "orZPI51txv2r"
      },
      "execution_count": null,
      "outputs": []
    },
    {
      "cell_type": "code",
      "source": [
        "#del modelo_optimizado\n",
        "modelo_final"
      ],
      "metadata": {
        "colab": {
          "base_uri": "https://localhost:8080/",
          "height": 172
        },
        "id": "M6uoNh1PzNRJ",
        "outputId": "d23f13e2-b00f-45d3-96d5-33939f01d40d"
      },
      "execution_count": null,
      "outputs": [
        {
          "output_type": "error",
          "ename": "NameError",
          "evalue": "ignored",
          "traceback": [
            "\u001b[0;31m---------------------------------------------------------------------------\u001b[0m",
            "\u001b[0;31mNameError\u001b[0m                                 Traceback (most recent call last)",
            "\u001b[0;32m<ipython-input-2-fada5a82045d>\u001b[0m in \u001b[0;36m<module>\u001b[0;34m()\u001b[0m\n\u001b[0;32m----> 1\u001b[0;31m \u001b[0mmodelo_final\u001b[0m\u001b[0;34m\u001b[0m\u001b[0;34m\u001b[0m\u001b[0m\n\u001b[0m",
            "\u001b[0;31mNameError\u001b[0m: name 'modelo_final' is not defined"
          ]
        }
      ]
    },
    {
      "cell_type": "markdown",
      "source": [
        "**Visualizar a acuracia, o erro, matriz de confusao e classification report**"
      ],
      "metadata": {
        "id": "w1ONQEpelcuv"
      }
    },
    {
      "cell_type": "code",
      "source": [
        "#evaluate_model(modelo_final)\n",
        "evaluate_model(best_model)"
      ],
      "metadata": {
        "colab": {
          "base_uri": "https://localhost:8080/",
          "height": 517,
          "referenced_widgets": [
            "db5321f65eb548c8aa0db5ffb439375e",
            "c6d2668d4eae4b498f655cf066c37769",
            "f840b41ee4364f70bdb424cfd51d1c26",
            "6864fd8d470541869aee3b7e58fffcb6",
            "2cbd9ffb849c48b49e9acbce96124cb0",
            "a790b28d6f6d4068a3de573c26f36f7d",
            "80a00772bb434ff4b1af96e110b7aa83",
            "5fb5736de6d5424191a970c9a3893a65",
            "6604fa38488248c5a12f96a6c0806553",
            "140a3db1036d449198733c52263fc1d6",
            "1b0c051999524b62b6b6b53d69b052b8",
            "22315d88f14244e19927595b4d35d089",
            "7da587aa29384a939e13618a972cc4ad"
          ]
        },
        "id": "zETwsQKelk7E",
        "outputId": "811d1cc6-4090-4936-f6ea-cd1fe825a7af"
      },
      "execution_count": null,
      "outputs": [
        {
          "output_type": "display_data",
          "data": {
            "text/plain": [
              "interactive(children=(ToggleButtons(description='Plot Type:', icons=('',), options=(('Hyperparameters', 'param…"
            ],
            "application/vnd.jupyter.widget-view+json": {
              "version_major": 2,
              "version_minor": 0,
              "model_id": "db5321f65eb548c8aa0db5ffb439375e"
            }
          },
          "metadata": {}
        }
      ]
    },
    {
      "cell_type": "markdown",
      "source": [
        "**Visualizar o erro**"
      ],
      "metadata": {
        "id": "WVPJAbEGrTBU"
      }
    },
    {
      "cell_type": "code",
      "source": [
        "#plot_model(modelo_final, plot = 'error')\n",
        "plot_model(best_model, plot = 'auc')"
      ],
      "metadata": {
        "colab": {
          "base_uri": "https://localhost:8080/",
          "height": 376,
          "referenced_widgets": [
            "33659179f4084a128b3d684a5ed29655",
            "47bbcce204a74b90b4fa5cb221022c84",
            "c42458133722482580687037e15278b4"
          ]
        },
        "id": "Q7NA_waWrViq",
        "outputId": "69bff8be-a1c1-4d73-dfda-1b268e994639"
      },
      "execution_count": null,
      "outputs": [
        {
          "output_type": "display_data",
          "data": {
            "text/plain": [
              "<Figure size 576x396 with 1 Axes>"
            ],
            "image/png": "[encoded data removed]"
          },
          "metadata": {}
        }
      ]
    },
    {
      "cell_type": "markdown",
      "source": [
        "**Matriz de confusao**"
      ],
      "metadata": {
        "id": "psle9caIrZaO"
      }
    },
    {
      "cell_type": "code",
      "source": [
        "#plot_model(modelo_final, plot = 'confusion_matrix')\n",
        "plot_model(best_model, plot = 'confusion_matrix')"
      ],
      "metadata": {
        "colab": {
          "base_uri": "https://localhost:8080/",
          "height": 401,
          "referenced_widgets": [
            "c72996d9f77f40409c4ae4d6b391fbc0",
            "796944d995f842598f0787b9d9adf191",
            "401039664a9a409ba8fadf4ae0d08509"
          ]
        },
        "id": "N1E5RSn1rfUz",
        "outputId": "f69a244a-30be-4529-ba1f-bb8cb6cca22c"
      },
      "execution_count": null,
      "outputs": [
        {
          "output_type": "display_data",
          "data": {
            "text/plain": [
              "<Figure size 576x396 with 1 Axes>"
            ],
            "image/png": "[encoded data removed]"
          },
          "metadata": {}
        }
      ]
    },
    {
      "cell_type": "markdown",
      "source": [
        "**Report Classification (precision e recall)**"
      ],
      "metadata": {
        "id": "xhj_DT7krf6x"
      }
    },
    {
      "cell_type": "code",
      "source": [
        "#plot_model(modelo_final, plot = 'class_report')\n",
        "plot_model(best_model, plot = 'class_report')"
      ],
      "metadata": {
        "colab": {
          "base_uri": "https://localhost:8080/",
          "height": 401,
          "referenced_widgets": [
            "9b700844d8764629a5662f741180ef0f",
            "aa65444731814072b12c0e28e44f8b7e",
            "33703d0d3afa481eae1f3489bd1e4cc1"
          ]
        },
        "id": "xWU8VGQ1riji",
        "outputId": "87f6e8f1-be7b-4655-e884-240dfcf5eac4"
      },
      "execution_count": null,
      "outputs": [
        {
          "output_type": "display_data",
          "data": {
            "text/plain": [
              "<Figure size 576x396 with 2 Axes>"
            ],
            "image/png": "[encoded data removed]"
          },
          "metadata": {}
        }
      ]
    },
    {
      "cell_type": "markdown",
      "source": [
        "**Salvar o modelo em disco**"
      ],
      "metadata": {
        "id": "Zff4UhALrq9X"
      }
    },
    {
      "cell_type": "code",
      "source": [
        "#save_model(modelo_final,'RF_model_diabetes.pkl')\n",
        "save_model(best_model,'RF_model_diabetes')"
      ],
      "metadata": {
        "colab": {
          "base_uri": "https://localhost:8080/"
        },
        "id": "3GoF6iQBrtog",
        "outputId": "653e30bf-0ae9-405f-faca-24d3e05b90b7"
      },
      "execution_count": null,
      "outputs": [
        {
          "output_type": "stream",
          "name": "stdout",
          "text": [
            "Transformation Pipeline and Model Successfully Saved\n"
          ]
        },
        {
          "output_type": "execute_result",
          "data": {
            "text/plain": [
              "(Pipeline(memory=None,\n",
              "          steps=[('dtypes',\n",
              "                  DataTypes_Auto_infer(categorical_features=[],\n",
              "                                       display_types=True, features_todrop=[],\n",
              "                                       id_columns=[],\n",
              "                                       ml_usecase='classification',\n",
              "                                       numerical_features=['BMI', 'Age',\n",
              "                                                           'Income', 'PhysHlth',\n",
              "                                                           'GenHlth', 'HighBP',\n",
              "                                                           'Fruits', 'Smoker',\n",
              "                                                           'Education'],\n",
              "                                       target='Diabetes_012',\n",
              "                                       time_features=[])),\n",
              "                 ('imputer',\n",
              "                  Simple_Imputer(categorical_strate...\n",
              "                  RandomForestClassifier(bootstrap=True, ccp_alpha=0.0,\n",
              "                                         class_weight=None, criterion='gini',\n",
              "                                         max_depth=None, max_features='auto',\n",
              "                                         max_leaf_nodes=None, max_samples=None,\n",
              "                                         min_impurity_decrease=0.0,\n",
              "                                         min_impurity_split=None,\n",
              "                                         min_samples_leaf=1, min_samples_split=2,\n",
              "                                         min_weight_fraction_leaf=0.0,\n",
              "                                         n_estimators=100, n_jobs=-1,\n",
              "                                         oob_score=False, random_state=123,\n",
              "                                         verbose=0, warm_start=False)]],\n",
              "          verbose=False), 'RF_model_diabetes.pkl')"
            ]
          },
          "metadata": {},
          "execution_count": 30
        }
      ]
    },
    {
      "cell_type": "markdown",
      "source": [
        "**Copiar o modelo salvo para o bucket do GCP**"
      ],
      "metadata": {
        "id": "dIsZpiqWw9uj"
      }
    },
    {
      "cell_type": "code",
      "source": [
        "!gsutil -m cp -r /content/RF_model_diabetes.pkl gs://bucket-diabetes-ml/"
      ],
      "metadata": {
        "colab": {
          "base_uri": "https://localhost:8080/"
        },
        "id": "RiWfF9UyxDo3",
        "outputId": "8e0e7536-9a4f-489d-feba-3cc371bdf1ab"
      },
      "execution_count": null,
      "outputs": [
        {
          "output_type": "stream",
          "name": "stdout",
          "text": [
            "Copying file:///content/RF_model_diabetes.pkl [Content-Type=application/octet-stream]...\n",
            "/ [0/1 files][    0.0 B/  1.1 GiB]   0% Done                                    \r==> NOTE: You are uploading one or more large file(s), which would run\n",
            "significantly faster if you enable parallel composite uploads. This\n",
            "feature can be enabled by editing the\n",
            "\"parallel_composite_upload_threshold\" value in your .boto\n",
            "configuration file. However, note that if you do this large files will\n",
            "be uploaded as `composite objects\n",
            "<https://cloud.google.com/storage/docs/composite-objects>`_,which\n",
            "means that any user who downloads such objects will need to have a\n",
            "compiled crcmod installed (see \"gsutil help crcmod\"). This is because\n",
            "without a compiled crcmod, computing checksums on composite objects is\n",
            "so slow that gsutil disables downloads of composite objects.\n",
            "\n",
            "/ [1/1 files][  1.1 GiB/  1.1 GiB] 100% Done  89.8 MiB/s ETA 00:00:00           \n",
            "Operation completed over 1 objects/1.1 GiB.                                      \n"
          ]
        }
      ]
    },
    {
      "cell_type": "markdown",
      "source": [
        "**Listar os arquivos do bucket-diabetes-ml do GCP**"
      ],
      "metadata": {
        "id": "g8S_7QdcxOFq"
      }
    },
    {
      "cell_type": "code",
      "source": [
        "!gsutil ls gs://bucket-diabetes-ml/ "
      ],
      "metadata": {
        "colab": {
          "base_uri": "https://localhost:8080/"
        },
        "id": "AkG3rlbexUDZ",
        "outputId": "c199e744-ff00-49b8-fe1e-304908ff9703"
      },
      "execution_count": null,
      "outputs": [
        {
          "output_type": "stream",
          "name": "stdout",
          "text": [
            "gs://bucket-diabetes-ml/RF_model_diabetes.pkl\n"
          ]
        }
      ]
    }
  ]
}